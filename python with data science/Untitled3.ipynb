{
 "cells": [
  {
   "cell_type": "code",
   "execution_count": 1,
   "id": "5d232e7b-9600-4637-bfd4-fafb76f9cd0e",
   "metadata": {},
   "outputs": [],
   "source": [
    "import pandas as pd\n"
   ]
  },
  {
   "cell_type": "code",
   "execution_count": 5,
   "id": "8430dfe9-590b-476f-96d4-cb7c2ad5b15a",
   "metadata": {},
   "outputs": [],
   "source": [
    "mydataset={'cars':['bmw','volvo','ford'],\n",
    "            'passings':[3,7,2]\n",
    "}\n"
   ]
  },
  {
   "cell_type": "code",
   "execution_count": 7,
   "id": "a2b0f1d1-f8a8-480f-b4b2-472c041029a9",
   "metadata": {},
   "outputs": [],
   "source": [
    "var=pd.DataFrame(mydataset)"
   ]
  },
  {
   "cell_type": "code",
   "execution_count": 9,
   "id": "2221c2db-9976-4b1c-872f-7e493110ce53",
   "metadata": {},
   "outputs": [
    {
     "data": {
      "text/html": [
       "<div>\n",
       "<style scoped>\n",
       "    .dataframe tbody tr th:only-of-type {\n",
       "        vertical-align: middle;\n",
       "    }\n",
       "\n",
       "    .dataframe tbody tr th {\n",
       "        vertical-align: top;\n",
       "    }\n",
       "\n",
       "    .dataframe thead th {\n",
       "        text-align: right;\n",
       "    }\n",
       "</style>\n",
       "<table border=\"1\" class=\"dataframe\">\n",
       "  <thead>\n",
       "    <tr style=\"text-align: right;\">\n",
       "      <th></th>\n",
       "      <th>cars</th>\n",
       "      <th>passings</th>\n",
       "    </tr>\n",
       "  </thead>\n",
       "  <tbody>\n",
       "    <tr>\n",
       "      <th>0</th>\n",
       "      <td>bmw</td>\n",
       "      <td>3</td>\n",
       "    </tr>\n",
       "    <tr>\n",
       "      <th>1</th>\n",
       "      <td>volvo</td>\n",
       "      <td>7</td>\n",
       "    </tr>\n",
       "    <tr>\n",
       "      <th>2</th>\n",
       "      <td>ford</td>\n",
       "      <td>2</td>\n",
       "    </tr>\n",
       "  </tbody>\n",
       "</table>\n",
       "</div>"
      ],
      "text/plain": [
       "    cars  passings\n",
       "0    bmw         3\n",
       "1  volvo         7\n",
       "2   ford         2"
      ]
     },
     "execution_count": 9,
     "metadata": {},
     "output_type": "execute_result"
    }
   ],
   "source": [
    "var"
   ]
  },
  {
   "cell_type": "code",
   "execution_count": 11,
   "id": "33a5dc79-a6c8-4c70-acdf-58b8c8e6900d",
   "metadata": {},
   "outputs": [],
   "source": [
    "a=[1,2,3,4,5]"
   ]
  },
  {
   "cell_type": "code",
   "execution_count": 18,
   "id": "367e7823-7d6f-47c7-a396-d0ac826c7bb1",
   "metadata": {},
   "outputs": [],
   "source": [
    "new_var=pd.Series(a)"
   ]
  },
  {
   "cell_type": "code",
   "execution_count": 22,
   "id": "71a8f64a-3098-4120-829a-fbd7c7079573",
   "metadata": {},
   "outputs": [
    {
     "name": "stdout",
     "output_type": "stream",
     "text": [
      "0    1\n",
      "1    2\n",
      "2    3\n",
      "3    4\n",
      "4    5\n",
      "dtype: int64\n"
     ]
    }
   ],
   "source": [
    "print(new_var)"
   ]
  },
  {
   "cell_type": "code",
   "execution_count": 24,
   "id": "f38bd9f6-98c5-4c2d-8ead-21e8ddc1f164",
   "metadata": {},
   "outputs": [
    {
     "data": {
      "text/plain": [
       "0    1\n",
       "1    2\n",
       "2    3\n",
       "3    4\n",
       "4    5\n",
       "dtype: int64"
      ]
     },
     "execution_count": 24,
     "metadata": {},
     "output_type": "execute_result"
    }
   ],
   "source": [
    "var"
   ]
  },
  {
   "cell_type": "code",
   "execution_count": 33,
   "id": "d1eb2daa-6a2a-4d7d-b162-c70d08b38610",
   "metadata": {},
   "outputs": [],
   "source": [
    "var=pd.Series(a,index=['a','b','c','d','e'])"
   ]
  },
  {
   "cell_type": "code",
   "execution_count": 35,
   "id": "893b336d-207b-4dbc-8e0b-16f16f2cdd2c",
   "metadata": {},
   "outputs": [
    {
     "data": {
      "text/plain": [
       "a    1\n",
       "b    2\n",
       "c    3\n",
       "d    4\n",
       "e    5\n",
       "dtype: int64"
      ]
     },
     "execution_count": 35,
     "metadata": {},
     "output_type": "execute_result"
    }
   ],
   "source": [
    "var"
   ]
  },
  {
   "cell_type": "code",
   "execution_count": 37,
   "id": "e909e49f-1db2-4adc-9903-303b35991e10",
   "metadata": {},
   "outputs": [],
   "source": [
    "student={'name':'rosan',\n",
    "         'address':'ktm',\n",
    "         'age':20}"
   ]
  },
  {
   "cell_type": "code",
   "execution_count": null,
   "id": "113a0e3e-6ebc-4552-8197-9a25142db6af",
   "metadata": {},
   "outputs": [],
   "source": [
    "var=pd"
   ]
  }
 ],
 "metadata": {
  "kernelspec": {
   "display_name": "Python 3 (ipykernel)",
   "language": "python",
   "name": "python3"
  },
  "language_info": {
   "codemirror_mode": {
    "name": "ipython",
    "version": 3
   },
   "file_extension": ".py",
   "mimetype": "text/x-python",
   "name": "python",
   "nbconvert_exporter": "python",
   "pygments_lexer": "ipython3",
   "version": "3.12.4"
  }
 },
 "nbformat": 4,
 "nbformat_minor": 5
}
