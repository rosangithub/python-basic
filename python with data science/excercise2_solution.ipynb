{
 "cells": [
  {
   "cell_type": "markdown",
   "id": "18ecc5e9-8008-407b-b69e-b526e5550a53",
   "metadata": {},
   "source": [
    "Create a variable `height` and set it to your height in meters."
   ]
  },
  {
   "cell_type": "code",
   "execution_count": 1,
   "id": "3a80f04c-42fe-4941-b1c0-d00dbf375d4e",
   "metadata": {},
   "outputs": [],
   "source": [
    "height = 5.6"
   ]
  },
  {
   "cell_type": "markdown",
   "id": "7a749c86-111b-4f31-a30b-f266e56a17f2",
   "metadata": {},
   "source": [
    "Define a tuple with the names of three different animals and print the first animal in the tuple."
   ]
  },
  {
   "cell_type": "code",
   "execution_count": null,
   "id": "c647cfeb-f9ca-451a-abc6-0dc16f0e11c4",
   "metadata": {},
   "outputs": [],
   "source": [
    "animals = ['lion','monkey','elephant']"
   ]
  },
  {
   "cell_type": "markdown",
   "id": "e7b7a8c0-c4bd-4da2-8338-f68ef6bb4b35",
   "metadata": {},
   "source": [
    "Create a dictionary with keys as the names of three countries and values as their capitals. Print the capital of a specific country."
   ]
  },
  {
   "cell_type": "code",
   "execution_count": 2,
   "id": "984e1994-2904-4249-b235-c87d8f7725aa",
   "metadata": {},
   "outputs": [],
   "source": [
    "countries = {\n",
    "    'Nepal':'Kathmandu',\n",
    "    'Australia':'Canberra',\n",
    "    'USA':'Washington D.C.'\n",
    "}"
   ]
  },
  {
   "cell_type": "markdown",
   "id": "9e955475-09cf-4aed-86f8-8dfb14c0e4e5",
   "metadata": {},
   "source": [
    "Concatenate the strings `\"Hello, \"` and `\"World!\"` and print the result."
   ]
  },
  {
   "cell_type": "code",
   "execution_count": 3,
   "id": "89e35647-b621-4bb7-bf20-083cfa508d22",
   "metadata": {},
   "outputs": [
    {
     "data": {
      "text/plain": [
       "'Hello, World!'"
      ]
     },
     "execution_count": 3,
     "metadata": {},
     "output_type": "execute_result"
    }
   ],
   "source": [
    "\"Hello, \" + \"World!\""
   ]
  },
  {
   "cell_type": "markdown",
   "id": "ef67095d-150e-462b-88e4-398008bba5d4",
   "metadata": {},
   "source": [
    "Create a string `sentence` with the value `\"Python programming is fun!\"`. Replace the word `\"fun\"` with `\"awesome\"` and print the result."
   ]
  },
  {
   "cell_type": "code",
   "execution_count": 5,
   "id": "dfa817b6-0336-4fdc-9d59-c583b1ecc689",
   "metadata": {},
   "outputs": [
    {
     "data": {
      "text/plain": [
       "'Python programming is awesome!'"
      ]
     },
     "execution_count": 5,
     "metadata": {},
     "output_type": "execute_result"
    }
   ],
   "source": [
    "sentence = \"Python programming is fun!\"\n",
    "sentence = sentence.replace(\"fun\",\"awesome\")\n",
    "sentence"
   ]
  },
  {
   "cell_type": "markdown",
   "id": "47493a51-174f-4cd0-9941-665174b7e4a1",
   "metadata": {},
   "source": [
    "Write a script that checks if a number is positive, negative, or zero and prints an appropriate message using `if-elif-else`."
   ]
  },
  {
   "cell_type": "code",
   "execution_count": 6,
   "id": "d2710b68-2439-4f66-9f1b-d3935e8bce1c",
   "metadata": {},
   "outputs": [
    {
     "name": "stdout",
     "output_type": "stream",
     "text": [
      "positive\n"
     ]
    }
   ],
   "source": [
    "number = 5\n",
    "if number > 0:\n",
    "    print('positive')\n",
    "elif number < 0:\n",
    "    print('negative')\n",
    "else:\n",
    "    print('zero')"
   ]
  },
  {
   "cell_type": "markdown",
   "id": "d33f413c-ffb9-4535-b223-85ab99c2fb09",
   "metadata": {},
   "source": [
    "Use a nested if statement to check `if` a number is between 10 and 20 (inclusive) and whether it is even or odd."
   ]
  },
  {
   "cell_type": "code",
   "execution_count": 8,
   "id": "bf5d78c6-ab2b-47c7-83f1-5b91e94786b9",
   "metadata": {},
   "outputs": [
    {
     "name": "stdout",
     "output_type": "stream",
     "text": [
      "number is not between 10 and 20\n"
     ]
    }
   ],
   "source": [
    "number = 25\n",
    "if number >= 10 and number <=20:\n",
    "    print('inclusive')\n",
    "    if number % 2 == 0:\n",
    "        print('even')\n",
    "    else:\n",
    "        print('odd')\n",
    "else:\n",
    "    print('number is not between 10 and 20')\n",
    "    "
   ]
  },
  {
   "cell_type": "markdown",
   "id": "ce8b55ed-6bbe-415e-b05c-c75f66ae4011",
   "metadata": {},
   "source": [
    "Use a for loop to iterate over a dictionary and print each key and value."
   ]
  },
  {
   "cell_type": "code",
   "execution_count": 11,
   "id": "0e96aeb2-f00c-4aa5-b06e-65698415ad28",
   "metadata": {},
   "outputs": [
    {
     "name": "stdout",
     "output_type": "stream",
     "text": [
      "Nepal : Kathmandu\n",
      "Australia : Canberra\n",
      "USA : Washington D.C.\n"
     ]
    }
   ],
   "source": [
    "for country,capital in countries.items():\n",
    "    print(f'{country} : {capital}')"
   ]
  },
  {
   "cell_type": "markdown",
   "id": "70525e26-f2ac-46e9-9e84-4aa5031f5a79",
   "metadata": {},
   "source": [
    "Write a while loop that prints the squares of numbers from 1 to 5."
   ]
  },
  {
   "cell_type": "code",
   "execution_count": 12,
   "id": "21e8784e-154d-41f5-af0e-e0bc92d33b70",
   "metadata": {},
   "outputs": [
    {
     "name": "stdout",
     "output_type": "stream",
     "text": [
      "1\n",
      "4\n",
      "9\n",
      "16\n",
      "25\n"
     ]
    }
   ],
   "source": [
    "num = 1\n",
    "while num <=5:\n",
    "    print(num * num)\n",
    "    num = num + 1"
   ]
  },
  {
   "cell_type": "markdown",
   "id": "4121ee67-5436-4036-ab4f-f97358b1772e",
   "metadata": {},
   "source": [
    "Write a function `sum_list` that takes a list of numbers as an argument and returns their sum."
   ]
  },
  {
   "cell_type": "code",
   "execution_count": 13,
   "id": "72819f17-7f6c-40c1-9f1c-6ad2285107c1",
   "metadata": {},
   "outputs": [
    {
     "data": {
      "text/plain": [
       "15"
      ]
     },
     "execution_count": 13,
     "metadata": {},
     "output_type": "execute_result"
    }
   ],
   "source": [
    "numbers = [1,2,3,4,5]\n",
    "def sum_list(nums):\n",
    "    sum = 0\n",
    "    for num in nums:\n",
    "        sum = sum + num\n",
    "    return sum\n",
    "\n",
    "sum_list(numbers)"
   ]
  },
  {
   "cell_type": "markdown",
   "id": "6690fbc5-1454-4d2f-85b5-23dd31b5ebaa",
   "metadata": {},
   "source": [
    "Create a function `is_prime` that takes a number as an argument and returns `True` if the number is prime and `False` otherwise.\n"
   ]
  },
  {
   "cell_type": "code",
   "execution_count": 17,
   "id": "4b0e467e-17a0-46e7-ab97-f643f17d2b11",
   "metadata": {},
   "outputs": [
    {
     "data": {
      "text/plain": [
       "True"
      ]
     },
     "execution_count": 17,
     "metadata": {},
     "output_type": "execute_result"
    }
   ],
   "source": [
    "def is_prime(num):\n",
    "    prime = True\n",
    "    for i in range(2,num//2):\n",
    "        if num % i == 0:\n",
    "            prime = False\n",
    "            break\n",
    "    return prime\n",
    "\n",
    "is_prime(4)"
   ]
  },
  {
   "cell_type": "markdown",
   "id": "eb7d41c4-6e8e-4ce7-a04e-dc359dcfc7c1",
   "metadata": {},
   "source": [
    "Define a class `Student` with attributes `name` and `grade`. Include a method `display_info` that prints the student's name and grade.\n"
   ]
  },
  {
   "cell_type": "code",
   "execution_count": 1,
   "id": "f5e85edf-227f-44cf-bf55-c2edb4003434",
   "metadata": {},
   "outputs": [],
   "source": [
    "class Student:\n",
    "    def __init__(self,name,grade):\n",
    "        self.name = name\n",
    "        self.grade = grade\n",
    "\n",
    "    def display_info(self):\n",
    "        print(f'Name:{self.name}, grade:{self.grade}')"
   ]
  },
  {
   "cell_type": "markdown",
   "id": "5f5f2ed8-8627-452a-9414-c4d0579922a3",
   "metadata": {},
   "source": [
    "Create an instance of the `Student` class and update the student's grade. Call the `display_info` method to display the updated information.\n"
   ]
  },
  {
   "cell_type": "code",
   "execution_count": 3,
   "id": "29ff5920-205e-478a-8315-15314c5e9048",
   "metadata": {},
   "outputs": [
    {
     "name": "stdout",
     "output_type": "stream",
     "text": [
      "Name:Ujjwal, grade:A+\n"
     ]
    }
   ],
   "source": [
    "s = Student('Ujjwal','A+')\n",
    "s.display_info()"
   ]
  },
  {
   "cell_type": "markdown",
   "id": "0dadd2a3-e7f6-43b4-8a97-4b2ae4f18745",
   "metadata": {},
   "source": [
    "Create a set with the numbers 1, 2, 3, 4, and 5. Add the number 6 to the set and print the updated set."
   ]
  },
  {
   "cell_type": "code",
   "execution_count": 4,
   "id": "89acb1c8-889a-4cd3-9b06-c9336606cdf9",
   "metadata": {},
   "outputs": [
    {
     "name": "stdout",
     "output_type": "stream",
     "text": [
      "{1, 2, 3, 4, 5, 6}\n"
     ]
    }
   ],
   "source": [
    "s = {1,2,3,4,5}\n",
    "s.add(6)\n",
    "print(s)"
   ]
  },
  {
   "cell_type": "markdown",
   "id": "321ab393-73ca-4fa2-a3fa-cbd125f85f7c",
   "metadata": {},
   "source": [
    "Create another set with the numbers 4, 5, 6, 7, and 8. Find the intersection of the two sets and print the result."
   ]
  },
  {
   "cell_type": "code",
   "execution_count": 5,
   "id": "3ae3d52a-2bb9-45b4-9dc3-a23454dad6b6",
   "metadata": {},
   "outputs": [
    {
     "data": {
      "text/plain": [
       "{4, 5, 6}"
      ]
     },
     "execution_count": 5,
     "metadata": {},
     "output_type": "execute_result"
    }
   ],
   "source": [
    "s2 = set((4, 5, 6, 7, 8))\n",
    "s.intersection(s2)"
   ]
  },
  {
   "cell_type": "markdown",
   "id": "444046ba-6bdf-4679-be19-5680baf85a71",
   "metadata": {},
   "source": [
    "Create a dictionary with keys as the names of three subjects and values as the scores. Calculate and print the average score."
   ]
  },
  {
   "cell_type": "code",
   "execution_count": 7,
   "id": "79e2f68e-cd5c-4d32-b7b5-cea8ee9009f1",
   "metadata": {},
   "outputs": [
    {
     "data": {
      "text/plain": [
       "86.33333333333333"
      ]
     },
     "execution_count": 7,
     "metadata": {},
     "output_type": "execute_result"
    }
   ],
   "source": [
    "scores = {\n",
    "    'Maths':90,\n",
    "    'English':89,\n",
    "    'Science':80\n",
    "}\n",
    "\n",
    "sum = 0\n",
    "for score in scores.values():\n",
    "    sum +=score\n",
    "average = sum / len(scores.items())\n",
    "average"
   ]
  },
  {
   "cell_type": "markdown",
   "id": "faa3d434-16af-42e9-965d-120acd48b2fd",
   "metadata": {},
   "source": [
    "Update the score of one subject and remove another subject from the dictionary. Print the updated dictionary."
   ]
  },
  {
   "cell_type": "code",
   "execution_count": 8,
   "id": "612e72c9-d2a1-45e7-8b6e-fe017cade9b4",
   "metadata": {},
   "outputs": [
    {
     "data": {
      "text/plain": [
       "{'Maths': 85, 'English': 89, 'Science': 80}"
      ]
     },
     "execution_count": 8,
     "metadata": {},
     "output_type": "execute_result"
    }
   ],
   "source": [
    "scores['Maths'] = 85\n",
    "scores"
   ]
  },
  {
   "cell_type": "markdown",
   "id": "0b0dde08-1f38-40de-9865-5984c691ec0a",
   "metadata": {},
   "source": [
    "Import NumPy and create an array with numbers from 11 to 20."
   ]
  },
  {
   "cell_type": "code",
   "execution_count": 9,
   "id": "7cccf5d7-781e-4010-bca2-818e9a66bfcb",
   "metadata": {},
   "outputs": [
    {
     "data": {
      "text/plain": [
       "array([11, 12, 13, 14, 15, 16, 17, 18, 19, 20])"
      ]
     },
     "execution_count": 9,
     "metadata": {},
     "output_type": "execute_result"
    }
   ],
   "source": [
    "import numpy as np\n",
    "arr = np.arange(11,21)\n",
    "arr"
   ]
  },
  {
   "cell_type": "markdown",
   "id": "10b40510-a857-4109-8798-f51712e30c06",
   "metadata": {},
   "source": [
    "Reshape this array to a 5x2 matrix and print it."
   ]
  },
  {
   "cell_type": "code",
   "execution_count": 11,
   "id": "dcaa461e-cc50-4988-88e0-1b7ad45c1cad",
   "metadata": {},
   "outputs": [
    {
     "data": {
      "text/plain": [
       "array([[11, 12],\n",
       "       [13, 14],\n",
       "       [15, 16],\n",
       "       [17, 18],\n",
       "       [19, 20]])"
      ]
     },
     "execution_count": 11,
     "metadata": {},
     "output_type": "execute_result"
    }
   ],
   "source": [
    "reshaped_arr = arr.reshape(5,2)\n",
    "reshaped_arr"
   ]
  },
  {
   "cell_type": "markdown",
   "id": "80c51c0c-d1de-4919-b3b7-911063d9dc02",
   "metadata": {},
   "source": [
    "Perform element-wise multiplication with another array of the same shape."
   ]
  },
  {
   "cell_type": "code",
   "execution_count": 12,
   "id": "bb1c089c-ec55-4f14-b518-995f33d2dc6b",
   "metadata": {},
   "outputs": [
    {
     "data": {
      "text/plain": [
       "array([[121, 144],\n",
       "       [169, 196],\n",
       "       [225, 256],\n",
       "       [289, 324],\n",
       "       [361, 400]])"
      ]
     },
     "execution_count": 12,
     "metadata": {},
     "output_type": "execute_result"
    }
   ],
   "source": [
    "reshaped_arr * reshaped_arr"
   ]
  },
  {
   "cell_type": "markdown",
   "id": "6739f9d5-b6d5-42fd-aaa0-7f721252e55e",
   "metadata": {},
   "source": [
    "Import Pandas and create a DataFrame from a list of dictionaries, where each dictionary represents a row of data."
   ]
  },
  {
   "cell_type": "code",
   "execution_count": 14,
   "id": "642ab31b-9018-422e-89d6-854d1c1719b5",
   "metadata": {},
   "outputs": [
    {
     "data": {
      "text/html": [
       "<div>\n",
       "<style scoped>\n",
       "    .dataframe tbody tr th:only-of-type {\n",
       "        vertical-align: middle;\n",
       "    }\n",
       "\n",
       "    .dataframe tbody tr th {\n",
       "        vertical-align: top;\n",
       "    }\n",
       "\n",
       "    .dataframe thead th {\n",
       "        text-align: right;\n",
       "    }\n",
       "</style>\n",
       "<table border=\"1\" class=\"dataframe\">\n",
       "  <thead>\n",
       "    <tr style=\"text-align: right;\">\n",
       "      <th></th>\n",
       "      <th>name</th>\n",
       "      <th>address</th>\n",
       "      <th>salary</th>\n",
       "    </tr>\n",
       "  </thead>\n",
       "  <tbody>\n",
       "    <tr>\n",
       "      <th>0</th>\n",
       "      <td>ujjwal</td>\n",
       "      <td>Kathmandu</td>\n",
       "      <td>200000</td>\n",
       "    </tr>\n",
       "    <tr>\n",
       "      <th>1</th>\n",
       "      <td>rupesh</td>\n",
       "      <td>Lalitpur</td>\n",
       "      <td>40000</td>\n",
       "    </tr>\n",
       "    <tr>\n",
       "      <th>2</th>\n",
       "      <td>binay</td>\n",
       "      <td>Kathmandu</td>\n",
       "      <td>45000</td>\n",
       "    </tr>\n",
       "  </tbody>\n",
       "</table>\n",
       "</div>"
      ],
      "text/plain": [
       "     name    address  salary\n",
       "0  ujjwal  Kathmandu  200000\n",
       "1  rupesh   Lalitpur   40000\n",
       "2   binay  Kathmandu   45000"
      ]
     },
     "execution_count": 14,
     "metadata": {},
     "output_type": "execute_result"
    }
   ],
   "source": [
    "import pandas as pd\n",
    "info = [\n",
    "        {'name':'ujjwal','address':'Kathmandu','salary':200000},\n",
    "        {'name':'rupesh','address':'Lalitpur','salary':40000},\n",
    "        {'name':'binay','address':'Kathmandu','salary':45000}\n",
    "       ]\n",
    "df = pd.DataFrame(info)\n",
    "df"
   ]
  },
  {
   "cell_type": "markdown",
   "id": "a2f69616-8519-41f4-8144-220e06cb8540",
   "metadata": {},
   "source": [
    "Print the last few rows of the DataFrame."
   ]
  },
  {
   "cell_type": "code",
   "execution_count": 15,
   "id": "a9f43da3-d9a6-4745-8064-21455ae581c7",
   "metadata": {},
   "outputs": [
    {
     "data": {
      "text/html": [
       "<div>\n",
       "<style scoped>\n",
       "    .dataframe tbody tr th:only-of-type {\n",
       "        vertical-align: middle;\n",
       "    }\n",
       "\n",
       "    .dataframe tbody tr th {\n",
       "        vertical-align: top;\n",
       "    }\n",
       "\n",
       "    .dataframe thead th {\n",
       "        text-align: right;\n",
       "    }\n",
       "</style>\n",
       "<table border=\"1\" class=\"dataframe\">\n",
       "  <thead>\n",
       "    <tr style=\"text-align: right;\">\n",
       "      <th></th>\n",
       "      <th>name</th>\n",
       "      <th>address</th>\n",
       "      <th>salary</th>\n",
       "    </tr>\n",
       "  </thead>\n",
       "  <tbody>\n",
       "    <tr>\n",
       "      <th>0</th>\n",
       "      <td>ujjwal</td>\n",
       "      <td>Kathmandu</td>\n",
       "      <td>200000</td>\n",
       "    </tr>\n",
       "    <tr>\n",
       "      <th>1</th>\n",
       "      <td>rupesh</td>\n",
       "      <td>Lalitpur</td>\n",
       "      <td>40000</td>\n",
       "    </tr>\n",
       "    <tr>\n",
       "      <th>2</th>\n",
       "      <td>binay</td>\n",
       "      <td>Kathmandu</td>\n",
       "      <td>45000</td>\n",
       "    </tr>\n",
       "  </tbody>\n",
       "</table>\n",
       "</div>"
      ],
      "text/plain": [
       "     name    address  salary\n",
       "0  ujjwal  Kathmandu  200000\n",
       "1  rupesh   Lalitpur   40000\n",
       "2   binay  Kathmandu   45000"
      ]
     },
     "execution_count": 15,
     "metadata": {},
     "output_type": "execute_result"
    }
   ],
   "source": [
    "df.tail()"
   ]
  },
  {
   "cell_type": "markdown",
   "id": "9ed7a330-3d31-4fd5-acff-c1d87ca8b176",
   "metadata": {},
   "source": [
    "Select and print a specific row based on a condition (e.g., where a column value is greater than a threshold)."
   ]
  },
  {
   "cell_type": "code",
   "execution_count": 16,
   "id": "6e30d61c-aa00-4697-960d-b04cb941a7f2",
   "metadata": {},
   "outputs": [
    {
     "data": {
      "text/html": [
       "<div>\n",
       "<style scoped>\n",
       "    .dataframe tbody tr th:only-of-type {\n",
       "        vertical-align: middle;\n",
       "    }\n",
       "\n",
       "    .dataframe tbody tr th {\n",
       "        vertical-align: top;\n",
       "    }\n",
       "\n",
       "    .dataframe thead th {\n",
       "        text-align: right;\n",
       "    }\n",
       "</style>\n",
       "<table border=\"1\" class=\"dataframe\">\n",
       "  <thead>\n",
       "    <tr style=\"text-align: right;\">\n",
       "      <th></th>\n",
       "      <th>name</th>\n",
       "      <th>address</th>\n",
       "      <th>salary</th>\n",
       "    </tr>\n",
       "  </thead>\n",
       "  <tbody>\n",
       "    <tr>\n",
       "      <th>1</th>\n",
       "      <td>rupesh</td>\n",
       "      <td>Lalitpur</td>\n",
       "      <td>40000</td>\n",
       "    </tr>\n",
       "    <tr>\n",
       "      <th>2</th>\n",
       "      <td>binay</td>\n",
       "      <td>Kathmandu</td>\n",
       "      <td>45000</td>\n",
       "    </tr>\n",
       "  </tbody>\n",
       "</table>\n",
       "</div>"
      ],
      "text/plain": [
       "     name    address  salary\n",
       "1  rupesh   Lalitpur   40000\n",
       "2   binay  Kathmandu   45000"
      ]
     },
     "execution_count": 16,
     "metadata": {},
     "output_type": "execute_result"
    }
   ],
   "source": [
    "df[df['salary']<50000]"
   ]
  },
  {
   "cell_type": "code",
   "execution_count": null,
   "id": "3ccba654-2220-4fe9-9e4e-d58595f78ade",
   "metadata": {},
   "outputs": [],
   "source": []
  }
 ],
 "metadata": {
  "kernelspec": {
   "display_name": "Python 3 (ipykernel)",
   "language": "python",
   "name": "python3"
  },
  "language_info": {
   "codemirror_mode": {
    "name": "ipython",
    "version": 3
   },
   "file_extension": ".py",
   "mimetype": "text/x-python",
   "name": "python",
   "nbconvert_exporter": "python",
   "pygments_lexer": "ipython3",
   "version": "3.9.18"
  }
 },
 "nbformat": 4,
 "nbformat_minor": 5
}
