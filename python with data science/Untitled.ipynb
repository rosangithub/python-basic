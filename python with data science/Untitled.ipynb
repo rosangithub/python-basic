{
 "cells": [
  {
   "cell_type": "code",
   "execution_count": 1,
   "id": "43aeb765-bd94-4d35-9d4f-d5bfd3ef478a",
   "metadata": {},
   "outputs": [
    {
     "data": {
      "text/plain": [
       "'C:\\\\Users\\\\USER'"
      ]
     },
     "execution_count": 1,
     "metadata": {},
     "output_type": "execute_result"
    }
   ],
   "source": [
    "%pwd\n"
   ]
  },
  {
   "cell_type": "code",
   "execution_count": 19,
   "id": "b0f9c764-cad9-453e-977a-91aa1553e22b",
   "metadata": {},
   "outputs": [],
   "source": [
    "import numpy as np"
   ]
  },
  {
   "cell_type": "code",
   "execution_count": 21,
   "id": "a73edb65-33bd-4bf6-8570-8c130699855b",
   "metadata": {},
   "outputs": [],
   "source": [
    "a = np.array([1,2,3,4])"
   ]
  },
  {
   "cell_type": "code",
   "execution_count": 23,
   "id": "60a6fbf5-722b-4acf-a56e-ca5757f9d021",
   "metadata": {},
   "outputs": [],
   "source": [
    "b = np.array([5,6,7,8])"
   ]
  },
  {
   "cell_type": "code",
   "execution_count": 25,
   "id": "7d9ee60f-be99-47e1-b9f3-d9c5fbc76a4b",
   "metadata": {},
   "outputs": [
    {
     "data": {
      "text/plain": [
       "array([ 6,  8, 10, 12])"
      ]
     },
     "execution_count": 25,
     "metadata": {},
     "output_type": "execute_result"
    }
   ],
   "source": [
    "a+b"
   ]
  },
  {
   "cell_type": "code",
   "execution_count": 27,
   "id": "722b93e5-0e10-4a6e-bc65-b8ec97a1c48a",
   "metadata": {},
   "outputs": [
    {
     "data": {
      "text/plain": [
       "array([ 6,  8, 10, 12])"
      ]
     },
     "execution_count": 27,
     "metadata": {},
     "output_type": "execute_result"
    }
   ],
   "source": [
    "a+b"
   ]
  },
  {
   "cell_type": "code",
   "execution_count": 29,
   "id": "2ff10535-788c-4169-babf-e035318b1796",
   "metadata": {},
   "outputs": [
    {
     "data": {
      "text/plain": [
       "array([1, 2, 3, 4])"
      ]
     },
     "execution_count": 29,
     "metadata": {},
     "output_type": "execute_result"
    }
   ],
   "source": [
    "a"
   ]
  },
  {
   "cell_type": "code",
   "execution_count": 31,
   "id": "f889f38b-d618-4991-a4da-7327b9c5a604",
   "metadata": {},
   "outputs": [
    {
     "data": {
      "text/plain": [
       "array([1, 2, 3, 4])"
      ]
     },
     "execution_count": 31,
     "metadata": {},
     "output_type": "execute_result"
    }
   ],
   "source": [
    "a"
   ]
  },
  {
   "cell_type": "code",
   "execution_count": 33,
   "id": "cd5f8da7-2bd1-4d74-8fb9-b3e860f6049c",
   "metadata": {},
   "outputs": [],
   "source": [
    "array = ([1,2,3])"
   ]
  },
  {
   "cell_type": "code",
   "execution_count": 35,
   "id": "3d7da846-77f1-45f1-9c42-72ae03febe9f",
   "metadata": {},
   "outputs": [
    {
     "data": {
      "text/plain": [
       "[1, 2, 3]"
      ]
     },
     "execution_count": 35,
     "metadata": {},
     "output_type": "execute_result"
    }
   ],
   "source": [
    "array"
   ]
  },
  {
   "cell_type": "code",
   "execution_count": 61,
   "id": "c21a9458-18bb-4321-99ac-8e38ddfcb71e",
   "metadata": {},
   "outputs": [],
   "source": [
    "arr_2d=np.array([[1,2,3],[4,5,6],[5,6,7]])"
   ]
  },
  {
   "cell_type": "code",
   "execution_count": 41,
   "id": "a00a6685-b2b4-4ac0-8651-fb20c08a2b61",
   "metadata": {},
   "outputs": [
    {
     "data": {
      "text/plain": [
       "array([[1, 2, 3],\n",
       "       [4, 5, 6],\n",
       "       [5, 6, 7]])"
      ]
     },
     "execution_count": 41,
     "metadata": {},
     "output_type": "execute_result"
    }
   ],
   "source": [
    "arr_2d"
   ]
  },
  {
   "cell_type": "code",
   "execution_count": 69,
   "id": "d2213b1d-5caa-4f9b-8c7c-38c1f67c3e6f",
   "metadata": {},
   "outputs": [],
   "source": [
    "arr_1d=np.array([1,2,3,4,5])"
   ]
  },
  {
   "cell_type": "code",
   "execution_count": 137,
   "id": "31fd7519-c59d-4dc9-9418-10af596e5e30",
   "metadata": {},
   "outputs": [
    {
     "data": {
      "text/plain": [
       "1"
      ]
     },
     "execution_count": 137,
     "metadata": {},
     "output_type": "execute_result"
    }
   ],
   "source": [
    "arr_1d.ndim"
   ]
  },
  {
   "cell_type": "code",
   "execution_count": 67,
   "id": "b4264b06-68a1-4c5f-a375-aeef5659119f",
   "metadata": {},
   "outputs": [
    {
     "data": {
      "text/plain": [
       "(3,)"
      ]
     },
     "execution_count": 67,
     "metadata": {},
     "output_type": "execute_result"
    }
   ],
   "source": [
    "arr_1d.shape"
   ]
  },
  {
   "cell_type": "code",
   "execution_count": 63,
   "id": "ddaefc8b-005d-4fc7-a629-f46ce07f07be",
   "metadata": {},
   "outputs": [
    {
     "data": {
      "text/plain": [
       "2"
      ]
     },
     "execution_count": 63,
     "metadata": {},
     "output_type": "execute_result"
    }
   ],
   "source": [
    "arr_2d.ndim"
   ]
  },
  {
   "cell_type": "code",
   "execution_count": 73,
   "id": "77f4eb8d-66b2-47fa-b740-5e6552e30df3",
   "metadata": {},
   "outputs": [
    {
     "data": {
      "text/plain": [
       "9"
      ]
     },
     "execution_count": 73,
     "metadata": {},
     "output_type": "execute_result"
    }
   ],
   "source": [
    "arr_2d.size"
   ]
  },
  {
   "cell_type": "code",
   "execution_count": 75,
   "id": "55428df5-ab6c-4974-a5d7-29131da8ade6",
   "metadata": {},
   "outputs": [
    {
     "data": {
      "text/plain": [
       "(3, 3)"
      ]
     },
     "execution_count": 75,
     "metadata": {},
     "output_type": "execute_result"
    }
   ],
   "source": [
    "arr_2d.shape"
   ]
  },
  {
   "cell_type": "code",
   "execution_count": null,
   "id": "6a485583-b572-4d05-bb8e-552ad1d28118",
   "metadata": {},
   "outputs": [],
   "source": [
    "#3d array ,ndim,size ,shape"
   ]
  },
  {
   "cell_type": "code",
   "execution_count": 87,
   "id": "7053d29e-2a33-4e0e-9a7f-650543617876",
   "metadata": {},
   "outputs": [],
   "source": [
    "arr_3d=np.array([[[1,2],[4,5],[5,6]]])"
   ]
  },
  {
   "cell_type": "code",
   "execution_count": 89,
   "id": "8f836e68-ca7f-442e-8eab-84ea558876d3",
   "metadata": {},
   "outputs": [
    {
     "data": {
      "text/plain": [
       "(1, 3, 2)"
      ]
     },
     "execution_count": 89,
     "metadata": {},
     "output_type": "execute_result"
    }
   ],
   "source": [
    "arr_3d.shape"
   ]
  },
  {
   "cell_type": "code",
   "execution_count": 91,
   "id": "aaf1bfbe-0f28-477f-b094-ead87c4c659c",
   "metadata": {},
   "outputs": [
    {
     "data": {
      "text/plain": [
       "3"
      ]
     },
     "execution_count": 91,
     "metadata": {},
     "output_type": "execute_result"
    }
   ],
   "source": [
    "arr_3d.ndim"
   ]
  },
  {
   "cell_type": "code",
   "execution_count": 83,
   "id": "afc288ba-6930-4bd8-bc13-e3e1824910dd",
   "metadata": {},
   "outputs": [
    {
     "data": {
      "text/plain": [
       "9"
      ]
     },
     "execution_count": 83,
     "metadata": {},
     "output_type": "execute_result"
    }
   ],
   "source": [
    "arr_3d.size"
   ]
  },
  {
   "cell_type": "code",
   "execution_count": 97,
   "id": "4e40a0e1-89ce-4a41-b666-a176c13f5bfe",
   "metadata": {},
   "outputs": [],
   "source": [
    "arr1=np.array([[1,2,3,4]])"
   ]
  },
  {
   "cell_type": "code",
   "execution_count": 99,
   "id": "e1137645-5dc1-4845-b3d6-c7e1f2ba4e0f",
   "metadata": {},
   "outputs": [
    {
     "data": {
      "text/plain": [
       "(1, 4)"
      ]
     },
     "execution_count": 99,
     "metadata": {},
     "output_type": "execute_result"
    }
   ],
   "source": [
    "arr1.shape"
   ]
  },
  {
   "cell_type": "code",
   "execution_count": 101,
   "id": "073ef78e-3cd5-4c65-a3ad-fc586b2c502e",
   "metadata": {},
   "outputs": [],
   "source": [
    "arr2=np.array([[1],[2],[3],[4]])"
   ]
  },
  {
   "cell_type": "code",
   "execution_count": 103,
   "id": "d99c74de-21de-4f39-819a-9dda83b4bf52",
   "metadata": {},
   "outputs": [
    {
     "data": {
      "text/plain": [
       "(4, 1)"
      ]
     },
     "execution_count": 103,
     "metadata": {},
     "output_type": "execute_result"
    }
   ],
   "source": [
    "arr2.shape"
   ]
  },
  {
   "cell_type": "code",
   "execution_count": 105,
   "id": "3e3e631a-9333-4332-9b05-42ea469faeb3",
   "metadata": {},
   "outputs": [],
   "source": [
    "arr3=np.array([[[1,2,3,4],[5,6,7,8]]])"
   ]
  },
  {
   "cell_type": "code",
   "execution_count": 107,
   "id": "ed46ec49-597a-49a2-8f7a-d039d2750694",
   "metadata": {},
   "outputs": [
    {
     "data": {
      "text/plain": [
       "(1, 2, 4)"
      ]
     },
     "execution_count": 107,
     "metadata": {},
     "output_type": "execute_result"
    }
   ],
   "source": [
    "arr3.shape"
   ]
  },
  {
   "cell_type": "code",
   "execution_count": 158,
   "id": "e5d3d4d2-8764-4dd8-a67b-6bbc5d78f817",
   "metadata": {},
   "outputs": [],
   "source": [
    "arr4=np.array([[[1,2,3,4],[5,6,7,8]],[[4,2,6,8],[5,6,3,8]],[[1,0,3,9],[5,6,5,8]]])"
   ]
  },
  {
   "cell_type": "code",
   "execution_count": 162,
   "id": "f869c525-1cfb-4f98-a484-1b6c986c2a88",
   "metadata": {},
   "outputs": [],
   "source": [
    "arr6=np.array([[[1,2,3,4],[2,1,4,5]],[[1,6,7,3],[1,3,6,5]],[[1,5,3,5],[8,9,6,3]]])"
   ]
  },
  {
   "cell_type": "code",
   "execution_count": 133,
   "id": "81974dca-8f8a-48cc-825c-c875d09d7da8",
   "metadata": {},
   "outputs": [
    {
     "data": {
      "text/plain": [
       "24"
      ]
     },
     "execution_count": 133,
     "metadata": {},
     "output_type": "execute_result"
    }
   ],
   "source": [
    "arr4.size"
   ]
  },
  {
   "cell_type": "code",
   "execution_count": 135,
   "id": "8009815e-94d1-41fd-b296-3374f3786dc7",
   "metadata": {},
   "outputs": [
    {
     "data": {
      "text/plain": [
       "3"
      ]
     },
     "execution_count": 135,
     "metadata": {},
     "output_type": "execute_result"
    }
   ],
   "source": [
    "arr4.ndim"
   ]
  },
  {
   "cell_type": "markdown",
   "id": "9aad9f29-30da-48e6-a6dd-7967fc0248c1",
   "metadata": {},
   "source": [
    "ndim?"
   ]
  },
  {
   "cell_type": "code",
   "execution_count": 142,
   "id": "1351fab7-4140-4061-a52b-eda9dddb8336",
   "metadata": {},
   "outputs": [],
   "source": [
    "arr5=np.array([[1,3,4,5]])"
   ]
  },
  {
   "cell_type": "code",
   "execution_count": 144,
   "id": "bbd87ee1-abd9-4be1-8397-f3acbd8f4351",
   "metadata": {},
   "outputs": [
    {
     "data": {
      "text/plain": [
       "4"
      ]
     },
     "execution_count": 144,
     "metadata": {},
     "output_type": "execute_result"
    }
   ],
   "source": [
    "arr5.size"
   ]
  },
  {
   "cell_type": "code",
   "execution_count": 146,
   "id": "ee13a7d0-20c2-4112-89dd-a339bd13dc91",
   "metadata": {},
   "outputs": [
    {
     "data": {
      "text/plain": [
       "(1, 4)"
      ]
     },
     "execution_count": 146,
     "metadata": {},
     "output_type": "execute_result"
    }
   ],
   "source": [
    "arr5.shape"
   ]
  },
  {
   "cell_type": "code",
   "execution_count": 164,
   "id": "c551264f-5f8d-4a4c-af75-991936a7916a",
   "metadata": {},
   "outputs": [],
   "source": [
    "arr6=np.array([[[1,2,3,4],[2,1,4,5]],[[1,6,7,3],[1,3,6,5]],[[1,5,3,5],[8,9,6,3]]])"
   ]
  },
  {
   "cell_type": "code",
   "execution_count": 174,
   "id": "e00616e3-76c5-4c2a-a73c-33daa2d93ca6",
   "metadata": {},
   "outputs": [],
   "source": [
    "arr7=np.array([[[1,2,3],[1,2,3],[3,4,5],[4,5,6],[6,7,5]],[[1,2,3],[1,2,3],[3,4,5],[4,5,6],[6,7,5]]])"
   ]
  },
  {
   "cell_type": "code",
   "execution_count": null,
   "id": "ded4daac-e00e-4245-8a05-87c76a568e57",
   "metadata": {},
   "outputs": [],
   "source": []
  },
  {
   "cell_type": "code",
   "execution_count": 172,
   "id": "e2166dd9-622c-4ee0-8a3a-cc3c36f2d00a",
   "metadata": {},
   "outputs": [
    {
     "data": {
      "text/plain": [
       "(2, 5, 3)"
      ]
     },
     "execution_count": 172,
     "metadata": {},
     "output_type": "execute_result"
    }
   ],
   "source": [
    "arr7.shape"
   ]
  },
  {
   "cell_type": "code",
   "execution_count": 182,
   "id": "753092be-038a-470f-bb16-3d4fd0bad20e",
   "metadata": {},
   "outputs": [],
   "source": [
    "c=np.arange(15)\n"
   ]
  },
  {
   "cell_type": "code",
   "execution_count": 184,
   "id": "3224ad14-764b-4b2c-8dd4-58cc3d46d04f",
   "metadata": {},
   "outputs": [
    {
     "data": {
      "text/plain": [
       "array([ 0,  1,  2,  3,  4,  5,  6,  7,  8,  9, 10, 11, 12, 13, 14])"
      ]
     },
     "execution_count": 184,
     "metadata": {},
     "output_type": "execute_result"
    }
   ],
   "source": [
    "c"
   ]
  },
  {
   "cell_type": "code",
   "execution_count": 186,
   "id": "631da690-7ea1-40db-9d63-ada7031b8d4c",
   "metadata": {},
   "outputs": [
    {
     "data": {
      "text/plain": [
       "numpy.ndarray"
      ]
     },
     "execution_count": 186,
     "metadata": {},
     "output_type": "execute_result"
    }
   ],
   "source": [
    "type(c)"
   ]
  },
  {
   "cell_type": "code",
   "execution_count": 188,
   "id": "07afd94d-6076-4d5a-96b6-451195cc1bdb",
   "metadata": {},
   "outputs": [
    {
     "data": {
      "text/plain": [
       "15"
      ]
     },
     "execution_count": 188,
     "metadata": {},
     "output_type": "execute_result"
    }
   ],
   "source": [
    "c.size"
   ]
  },
  {
   "cell_type": "code",
   "execution_count": 190,
   "id": "efd6b8f6-d452-4c5b-a8e2-8d23a0376b24",
   "metadata": {},
   "outputs": [],
   "source": [
    "d=c.reshape((1,3,5))"
   ]
  },
  {
   "cell_type": "code",
   "execution_count": 192,
   "id": "c7db4f3b-9032-413d-a82a-5a6881731377",
   "metadata": {},
   "outputs": [
    {
     "data": {
      "text/plain": [
       "array([[[ 0,  1,  2,  3,  4],\n",
       "        [ 5,  6,  7,  8,  9],\n",
       "        [10, 11, 12, 13, 14]]])"
      ]
     },
     "execution_count": 192,
     "metadata": {},
     "output_type": "execute_result"
    }
   ],
   "source": [
    "d"
   ]
  },
  {
   "cell_type": "code",
   "execution_count": 198,
   "id": "c6e98743-e04f-44cf-b992-26a27312ef05",
   "metadata": {},
   "outputs": [],
   "source": [
    "e=d.flatten()"
   ]
  },
  {
   "cell_type": "code",
   "execution_count": 201,
   "id": "f5c43ee8-1274-4fae-8662-44c321b1e630",
   "metadata": {},
   "outputs": [
    {
     "data": {
      "text/plain": [
       "array([ 0,  1,  2,  3,  4,  5,  6,  7,  8,  9, 10, 11, 12, 13, 14])"
      ]
     },
     "execution_count": 201,
     "metadata": {},
     "output_type": "execute_result"
    }
   ],
   "source": [
    "e"
   ]
  },
  {
   "cell_type": "code",
   "execution_count": 203,
   "id": "662ae761-50b6-4580-9b30-1982f1916db2",
   "metadata": {},
   "outputs": [
    {
     "data": {
      "text/plain": [
       "array([[1, 2, 3],\n",
       "       [4, 5, 6],\n",
       "       [5, 6, 7]])"
      ]
     },
     "execution_count": 203,
     "metadata": {},
     "output_type": "execute_result"
    }
   ],
   "source": [
    "arr_2d=("
   ]
  },
  {
   "cell_type": "code",
   "execution_count": 213,
   "id": "a24fc182-1235-4703-ada0-d861828a884a",
   "metadata": {},
   "outputs": [],
   "source": [
    "arr_2d=np.array([[1,2,3,4],[4,5,6,5],[7,8,9,6]])"
   ]
  },
  {
   "cell_type": "code",
   "execution_count": 215,
   "id": "bb1e0069-3537-4121-8cfe-169d38189d35",
   "metadata": {},
   "outputs": [
    {
     "data": {
      "text/plain": [
       "2"
      ]
     },
     "execution_count": 215,
     "metadata": {},
     "output_type": "execute_result"
    }
   ],
   "source": [
    "arr_2d.ndim"
   ]
  },
  {
   "cell_type": "code",
   "execution_count": 217,
   "id": "c5eac13a-7202-4a58-b0b0-46e09fad8587",
   "metadata": {},
   "outputs": [
    {
     "data": {
      "text/plain": [
       "8"
      ]
     },
     "execution_count": 217,
     "metadata": {},
     "output_type": "execute_result"
    }
   ],
   "source": [
    "arr_2d[2][1]"
   ]
  },
  {
   "cell_type": "code",
   "execution_count": 219,
   "id": "74e9bf09-2c5c-4769-8e6e-0e72d5268516",
   "metadata": {},
   "outputs": [
    {
     "data": {
      "text/plain": [
       "8"
      ]
     },
     "execution_count": 219,
     "metadata": {},
     "output_type": "execute_result"
    }
   ],
   "source": [
    "arr_2d[2,1]"
   ]
  },
  {
   "cell_type": "code",
   "execution_count": 223,
   "id": "6856a9f5-a034-43da-aac2-79c19d57b52d",
   "metadata": {},
   "outputs": [
    {
     "data": {
      "text/plain": [
       "array([8, 9])"
      ]
     },
     "execution_count": 223,
     "metadata": {},
     "output_type": "execute_result"
    }
   ],
   "source": [
    "arr_2d[2,1:3]"
   ]
  },
  {
   "cell_type": "code",
   "execution_count": 225,
   "id": "11141e1d-37a8-4033-80ac-1be6f850469b",
   "metadata": {},
   "outputs": [
    {
     "data": {
      "text/plain": [
       "array([8, 9])"
      ]
     },
     "execution_count": 225,
     "metadata": {},
     "output_type": "execute_result"
    }
   ],
   "source": [
    "arr_2d[2][1:3]"
   ]
  },
  {
   "cell_type": "code",
   "execution_count": 227,
   "id": "7b69734d-cbd6-40b2-9732-e0d5badd269d",
   "metadata": {},
   "outputs": [
    {
     "data": {
      "text/plain": [
       "array([ 0,  1,  2,  3,  4,  5,  6,  7,  8,  9, 10, 11, 12, 13, 14])"
      ]
     },
     "execution_count": 227,
     "metadata": {},
     "output_type": "execute_result"
    }
   ],
   "source": [
    "c"
   ]
  },
  {
   "cell_type": "code",
   "execution_count": 229,
   "id": "b5ccabb9-e1e9-460e-915e-6233198a4cb8",
   "metadata": {},
   "outputs": [],
   "source": [
    "b=np.array([ 0,  1,  2,  3,  4,  5,  6,  7,  8,  9, 10, 11, 12, 13, 14])"
   ]
  },
  {
   "cell_type": "code",
   "execution_count": 231,
   "id": "d2d22c70-aa51-4d4b-83bf-0f2af58fbc2e",
   "metadata": {},
   "outputs": [
    {
     "data": {
      "text/plain": [
       "array([ 0,  1,  2,  3,  4,  5,  6,  7,  8,  9, 10, 11, 12, 13, 14])"
      ]
     },
     "execution_count": 231,
     "metadata": {},
     "output_type": "execute_result"
    }
   ],
   "source": [
    "b"
   ]
  },
  {
   "cell_type": "code",
   "execution_count": 233,
   "id": "04f120a9-2468-4db7-abaf-0f1a09048faa",
   "metadata": {},
   "outputs": [
    {
     "data": {
      "text/plain": [
       "array([[[ 0,  1,  2],\n",
       "        [ 3,  4,  5],\n",
       "        [ 6,  7,  8],\n",
       "        [ 9, 10, 11],\n",
       "        [12, 13, 14]]])"
      ]
     },
     "execution_count": 233,
     "metadata": {},
     "output_type": "execute_result"
    }
   ],
   "source": [
    "b.reshape(1,5,3)"
   ]
  },
  {
   "cell_type": "code",
   "execution_count": 243,
   "id": "dbf49819-e60f-46b7-8564-26fb9272313b",
   "metadata": {},
   "outputs": [],
   "source": [
    "b=b.reshape(1,5,3)\n"
   ]
  },
  {
   "cell_type": "code",
   "execution_count": 246,
   "id": "e924be50-e3b8-4650-8a5f-15cbb5fb92aa",
   "metadata": {},
   "outputs": [
    {
     "data": {
      "text/plain": [
       "array([[[ 0,  1,  2],\n",
       "        [ 3,  4,  5],\n",
       "        [ 6,  7,  8],\n",
       "        [ 9, 10, 11],\n",
       "        [12, 13, 14]]])"
      ]
     },
     "execution_count": 246,
     "metadata": {},
     "output_type": "execute_result"
    }
   ],
   "source": [
    "b"
   ]
  },
  {
   "cell_type": "code",
   "execution_count": 248,
   "id": "a607ca35-f5e6-4363-9548-1186915a0526",
   "metadata": {},
   "outputs": [
    {
     "data": {
      "text/plain": [
       "array([[[ 0,  1,  2],\n",
       "        [ 3,  4,  5],\n",
       "        [ 6,  7,  8],\n",
       "        [ 9, 10, 11],\n",
       "        [12, 13, 14]]])"
      ]
     },
     "execution_count": 248,
     "metadata": {},
     "output_type": "execute_result"
    }
   ],
   "source": [
    "b\n"
   ]
  },
  {
   "cell_type": "code",
   "execution_count": 254,
   "id": "75f78232-1a99-49c2-90ae-e4f0bbbf6d36",
   "metadata": {},
   "outputs": [
    {
     "data": {
      "text/plain": [
       "array([6, 7, 8])"
      ]
     },
     "execution_count": 254,
     "metadata": {},
     "output_type": "execute_result"
    }
   ],
   "source": [
    "b[0,2]"
   ]
  },
  {
   "cell_type": "code",
   "execution_count": 266,
   "id": "032f0cd9-e7eb-4fd2-af42-b178924d8caa",
   "metadata": {},
   "outputs": [
    {
     "ename": "ValueError",
     "evalue": "cannot reshape array of size 15 into shape (1,5,4)",
     "output_type": "error",
     "traceback": [
      "\u001b[1;31m---------------------------------------------------------------------------\u001b[0m",
      "\u001b[1;31mValueError\u001b[0m                                Traceback (most recent call last)",
      "Cell \u001b[1;32mIn[266], line 1\u001b[0m\n\u001b[1;32m----> 1\u001b[0m b\u001b[38;5;241m=\u001b[39mb\u001b[38;5;241m.\u001b[39mreshape(\u001b[38;5;241m1\u001b[39m,\u001b[38;5;241m5\u001b[39m,\u001b[38;5;241m4\u001b[39m)\n",
      "\u001b[1;31mValueError\u001b[0m: cannot reshape array of size 15 into shape (1,5,4)"
     ]
    }
   ],
   "source": [
    "b=b.reshape(1,5,4)"
   ]
  },
  {
   "cell_type": "code",
   "execution_count": 268,
   "id": "142302d3-dc71-4553-b9e3-6cc7352931ac",
   "metadata": {},
   "outputs": [
    {
     "data": {
      "text/plain": [
       "array([[[ 0,  1,  2],\n",
       "        [ 3,  4,  5],\n",
       "        [ 6,  7,  8],\n",
       "        [ 9, 10, 11],\n",
       "        [12, 13, 14]]])"
      ]
     },
     "execution_count": 268,
     "metadata": {},
     "output_type": "execute_result"
    }
   ],
   "source": [
    "b"
   ]
  },
  {
   "cell_type": "code",
   "execution_count": 273,
   "id": "5f23397a-ef06-4d53-8fdc-0afaea8cc3b0",
   "metadata": {},
   "outputs": [],
   "source": [
    "b=b.reshape((1,3,5))"
   ]
  },
  {
   "cell_type": "code",
   "execution_count": 3,
   "id": "53a3e439-0e40-407c-803b-93f9a35f2b2b",
   "metadata": {},
   "outputs": [
    {
     "ename": "NameError",
     "evalue": "name 'b' is not defined",
     "output_type": "error",
     "traceback": [
      "\u001b[1;31m---------------------------------------------------\u001b[0m",
      "\u001b[1;31mNameError\u001b[0m         Traceback (most recent call last)",
      "Cell \u001b[1;32mIn[3], line 1\u001b[0m\n\u001b[1;32m----> 1\u001b[0m b\n",
      "\u001b[1;31mNameError\u001b[0m: name 'b' is not defined"
     ]
    }
   ],
   "source": [
    "b"
   ]
  },
  {
   "cell_type": "code",
   "execution_count": 1,
   "id": "41f4f4bc-903d-4354-91fc-155e786d06f9",
   "metadata": {},
   "outputs": [
    {
     "ename": "NameError",
     "evalue": "name 'b' is not defined",
     "output_type": "error",
     "traceback": [
      "\u001b[1;31m---------------------------------------------------\u001b[0m",
      "\u001b[1;31mNameError\u001b[0m         Traceback (most recent call last)",
      "Cell \u001b[1;32mIn[1], line 1\u001b[0m\n\u001b[1;32m----> 1\u001b[0m b[\u001b[38;5;241m0\u001b[39m,\u001b[38;5;241m1\u001b[39m:\u001b[38;5;241m3\u001b[39m,\u001b[38;5;241m1\u001b[39m:\u001b[38;5;241m-\u001b[39m\u001b[38;5;241m1\u001b[39m]\n",
      "\u001b[1;31mNameError\u001b[0m: name 'b' is not defined"
     ]
    }
   ],
   "source": [
    "b[0,1:3,1:-1]"
   ]
  },
  {
   "cell_type": "code",
   "execution_count": 283,
   "id": "1b0f8b81-13b2-49ed-8456-a78872b3577b",
   "metadata": {},
   "outputs": [
    {
     "data": {
      "text/plain": [
       "array([[ 0,  1,  2,  3,  4],\n",
       "       [ 5,  6,  7,  8,  9],\n",
       "       [10, 11, 12, 13, 14]])"
      ]
     },
     "execution_count": 283,
     "metadata": {},
     "output_type": "execute_result"
    }
   ],
   "source": [
    "b[0]"
   ]
  },
  {
   "cell_type": "code",
   "execution_count": 285,
   "id": "1aec7f7c-0726-4331-a121-949bd0747462",
   "metadata": {},
   "outputs": [
    {
     "data": {
      "text/plain": [
       "array([5, 6, 7, 8, 9])"
      ]
     },
     "execution_count": 285,
     "metadata": {},
     "output_type": "execute_result"
    }
   ],
   "source": [
    "b[0,1]"
   ]
  },
  {
   "cell_type": "code",
   "execution_count": 287,
   "id": "35c141fc-e093-42af-b033-7842c92fb35e",
   "metadata": {},
   "outputs": [
    {
     "data": {
      "text/plain": [
       "array([[ 5,  6,  7,  8,  9],\n",
       "       [10, 11, 12, 13, 14]])"
      ]
     },
     "execution_count": 287,
     "metadata": {},
     "output_type": "execute_result"
    }
   ],
   "source": [
    "b[0,1:3]"
   ]
  },
  {
   "cell_type": "code",
   "execution_count": 291,
   "id": "29bc392e-dcc7-45c5-b468-5ac22e54d694",
   "metadata": {},
   "outputs": [
    {
     "data": {
      "text/plain": [
       "array([[ 6,  7,  8],\n",
       "       [11, 12, 13]])"
      ]
     },
     "execution_count": 291,
     "metadata": {},
     "output_type": "execute_result"
    }
   ],
   "source": [
    "b[0,1:3,1:4]"
   ]
  },
  {
   "cell_type": "code",
   "execution_count": null,
   "id": "2058248a-1507-47ee-8788-c49c0f49d0d7",
   "metadata": {},
   "outputs": [],
   "source": []
  },
  {
   "cell_type": "raw",
   "id": "11ce1f4e-5530-4dbd-8f7a-0a09394dd8c3",
   "metadata": {},
   "source": [
    "z=np.arange(120)"
   ]
  },
  {
   "cell_type": "code",
   "execution_count": 303,
   "id": "e8856ed8-aae9-4f91-b968-fb32199c75b6",
   "metadata": {},
   "outputs": [],
   "source": [
    "new_arr=z.reshape((3,4,2,5))"
   ]
  },
  {
   "cell_type": "code",
   "execution_count": 305,
   "id": "3e285f3e-2790-4eb2-8cdd-5279dc2a465d",
   "metadata": {},
   "outputs": [
    {
     "data": {
      "text/plain": [
       "array([[[[  0,   1,   2,   3,   4],\n",
       "         [  5,   6,   7,   8,   9]],\n",
       "\n",
       "        [[ 10,  11,  12,  13,  14],\n",
       "         [ 15,  16,  17,  18,  19]],\n",
       "\n",
       "        [[ 20,  21,  22,  23,  24],\n",
       "         [ 25,  26,  27,  28,  29]],\n",
       "\n",
       "        [[ 30,  31,  32,  33,  34],\n",
       "         [ 35,  36,  37,  38,  39]]],\n",
       "\n",
       "\n",
       "       [[[ 40,  41,  42,  43,  44],\n",
       "         [ 45,  46,  47,  48,  49]],\n",
       "\n",
       "        [[ 50,  51,  52,  53,  54],\n",
       "         [ 55,  56,  57,  58,  59]],\n",
       "\n",
       "        [[ 60,  61,  62,  63,  64],\n",
       "         [ 65,  66,  67,  68,  69]],\n",
       "\n",
       "        [[ 70,  71,  72,  73,  74],\n",
       "         [ 75,  76,  77,  78,  79]]],\n",
       "\n",
       "\n",
       "       [[[ 80,  81,  82,  83,  84],\n",
       "         [ 85,  86,  87,  88,  89]],\n",
       "\n",
       "        [[ 90,  91,  92,  93,  94],\n",
       "         [ 95,  96,  97,  98,  99]],\n",
       "\n",
       "        [[100, 101, 102, 103, 104],\n",
       "         [105, 106, 107, 108, 109]],\n",
       "\n",
       "        [[110, 111, 112, 113, 114],\n",
       "         [115, 116, 117, 118, 119]]]])"
      ]
     },
     "execution_count": 305,
     "metadata": {},
     "output_type": "execute_result"
    }
   ],
   "source": [
    "new_arr"
   ]
  },
  {
   "cell_type": "code",
   "execution_count": 307,
   "id": "d2a83cce-a6a7-43bb-8c89-9f7513322f86",
   "metadata": {},
   "outputs": [
    {
     "data": {
      "text/plain": [
       "0"
      ]
     },
     "execution_count": 307,
     "metadata": {},
     "output_type": "execute_result"
    }
   ],
   "source": [
    "z[0]"
   ]
  },
  {
   "cell_type": "code",
   "execution_count": 329,
   "id": "c69e9086-40ad-4190-ae4a-fece175ca34c",
   "metadata": {},
   "outputs": [
    {
     "data": {
      "text/plain": [
       "array([[22, 23],\n",
       "       [27, 28]])"
      ]
     },
     "execution_count": 329,
     "metadata": {},
     "output_type": "execute_result"
    }
   ],
   "source": [
    "new_arr[0,2,0:3,2:4]"
   ]
  },
  {
   "cell_type": "code",
   "execution_count": 319,
   "id": "e4016126-cdc7-4b7c-9137-052279c2e1b4",
   "metadata": {},
   "outputs": [
    {
     "data": {
      "text/plain": [
       "dtype('int32')"
      ]
     },
     "execution_count": 319,
     "metadata": {},
     "output_type": "execute_result"
    }
   ],
   "source": [
    "new_arr.dtype"
   ]
  },
  {
   "cell_type": "code",
   "execution_count": 331,
   "id": "d536d94c-3af1-4768-aefe-9357d5a2f7b3",
   "metadata": {},
   "outputs": [],
   "source": [
    "zeros_arr=np.zeros((2,3,5))"
   ]
  },
  {
   "cell_type": "code",
   "execution_count": 333,
   "id": "946bf248-bee5-4ca7-a7e3-1a93580c727a",
   "metadata": {},
   "outputs": [
    {
     "data": {
      "text/plain": [
       "array([[[0., 0., 0., 0., 0.],\n",
       "        [0., 0., 0., 0., 0.],\n",
       "        [0., 0., 0., 0., 0.]],\n",
       "\n",
       "       [[0., 0., 0., 0., 0.],\n",
       "        [0., 0., 0., 0., 0.],\n",
       "        [0., 0., 0., 0., 0.]]])"
      ]
     },
     "execution_count": 333,
     "metadata": {},
     "output_type": "execute_result"
    }
   ],
   "source": [
    "zeros_arr"
   ]
  },
  {
   "cell_type": "code",
   "execution_count": 335,
   "id": "4dc25c08-5262-4b85-bc79-bd7bac87b764",
   "metadata": {},
   "outputs": [],
   "source": [
    "ones_arr=np.ones((3,2))"
   ]
  },
  {
   "cell_type": "code",
   "execution_count": 337,
   "id": "5b3d51e7-236d-4645-bd10-6897b7806c00",
   "metadata": {},
   "outputs": [
    {
     "data": {
      "text/plain": [
       "array([[1., 1.],\n",
       "       [1., 1.],\n",
       "       [1., 1.]])"
      ]
     },
     "execution_count": 337,
     "metadata": {},
     "output_type": "execute_result"
    }
   ],
   "source": [
    "ones_arr"
   ]
  },
  {
   "cell_type": "code",
   "execution_count": 339,
   "id": "3e3d1ca0-132d-4e8f-9506-e24eb37007ad",
   "metadata": {},
   "outputs": [],
   "source": [
    "c=np.eye(3)#to make the identity matrix"
   ]
  },
  {
   "cell_type": "code",
   "execution_count": 341,
   "id": "6868b8aa-9b34-44e3-8dd0-7ab5998084f2",
   "metadata": {},
   "outputs": [
    {
     "data": {
      "text/plain": [
       "array([[1., 0., 0.],\n",
       "       [0., 1., 0.],\n",
       "       [0., 0., 1.]])"
      ]
     },
     "execution_count": 341,
     "metadata": {},
     "output_type": "execute_result"
    }
   ],
   "source": [
    "c"
   ]
  },
  {
   "cell_type": "code",
   "execution_count": 343,
   "id": "bb771344-7ed7-444a-a5eb-66184985ec53",
   "metadata": {},
   "outputs": [
    {
     "data": {
      "text/plain": [
       "array([[[ 0,  1,  2,  3,  4],\n",
       "        [ 5,  6,  7,  8,  9],\n",
       "        [10, 11, 12, 13, 14]]])"
      ]
     },
     "execution_count": 343,
     "metadata": {},
     "output_type": "execute_result"
    }
   ],
   "source": [
    "b\n"
   ]
  },
  {
   "cell_type": "code",
   "execution_count": 345,
   "id": "e9d101e7-f9b8-44e0-8434-0fefb904b1a4",
   "metadata": {},
   "outputs": [
    {
     "data": {
      "text/plain": [
       "15"
      ]
     },
     "execution_count": 345,
     "metadata": {},
     "output_type": "execute_result"
    }
   ],
   "source": [
    "b.size"
   ]
  },
  {
   "cell_type": "code",
   "execution_count": 347,
   "id": "1862eb7c-9da9-4b6e-b89a-f6536e6ea86c",
   "metadata": {},
   "outputs": [],
   "source": [
    "c=b.reshape((5,3))"
   ]
  },
  {
   "cell_type": "code",
   "execution_count": 349,
   "id": "e60550c3-ca2e-4f09-af38-bf619f34eaf7",
   "metadata": {},
   "outputs": [
    {
     "data": {
      "text/plain": [
       "array([[ 0,  1,  2],\n",
       "       [ 3,  4,  5],\n",
       "       [ 6,  7,  8],\n",
       "       [ 9, 10, 11],\n",
       "       [12, 13, 14]])"
      ]
     },
     "execution_count": 349,
     "metadata": {},
     "output_type": "execute_result"
    }
   ],
   "source": [
    "c"
   ]
  },
  {
   "cell_type": "code",
   "execution_count": 353,
   "id": "c81e0def-403b-44a0-896a-9aab5233b85a",
   "metadata": {},
   "outputs": [],
   "source": [
    "d=b.reshape((3,5))"
   ]
  },
  {
   "cell_type": "code",
   "execution_count": 355,
   "id": "498db11b-912d-4e3b-9690-cb59468c46e6",
   "metadata": {},
   "outputs": [
    {
     "data": {
      "text/plain": [
       "array([[ 0,  1,  2,  3,  4],\n",
       "       [ 5,  6,  7,  8,  9],\n",
       "       [10, 11, 12, 13, 14]])"
      ]
     },
     "execution_count": 355,
     "metadata": {},
     "output_type": "execute_result"
    }
   ],
   "source": [
    "d"
   ]
  },
  {
   "cell_type": "code",
   "execution_count": 357,
   "id": "5edc1617-9106-4a37-851a-0d819b3337a4",
   "metadata": {},
   "outputs": [],
   "source": [
    "arr1=np.array([[1,2],[3,4]])\n",
    "arr2=np.array([[5,6]])"
   ]
  },
  {
   "cell_type": "code",
   "execution_count": 359,
   "id": "37bb95a3-3b21-41e7-8edf-69c9c9e9ff17",
   "metadata": {},
   "outputs": [
    {
     "data": {
      "text/plain": [
       "array([[1, 2],\n",
       "       [3, 4]])"
      ]
     },
     "execution_count": 359,
     "metadata": {},
     "output_type": "execute_result"
    }
   ],
   "source": [
    "arr1"
   ]
  },
  {
   "cell_type": "code",
   "execution_count": 361,
   "id": "37fb3917-ce08-4825-af8f-9b96df4ffcab",
   "metadata": {},
   "outputs": [
    {
     "data": {
      "text/plain": [
       "array([[5, 6]])"
      ]
     },
     "execution_count": 361,
     "metadata": {},
     "output_type": "execute_result"
    }
   ],
   "source": [
    "arr2"
   ]
  },
  {
   "cell_type": "code",
   "execution_count": 367,
   "id": "c8be723b-2373-45cb-ae7f-3b2fe9ee2765",
   "metadata": {},
   "outputs": [],
   "source": [
    "concatenated_arr=np.concatenate((arr1,arr2),axis=0)"
   ]
  },
  {
   "cell_type": "code",
   "execution_count": 369,
   "id": "35916f11-da51-406b-94e2-c99414a30e08",
   "metadata": {},
   "outputs": [
    {
     "data": {
      "text/plain": [
       "array([[1, 2],\n",
       "       [3, 4],\n",
       "       [5, 6]])"
      ]
     },
     "execution_count": 369,
     "metadata": {},
     "output_type": "execute_result"
    }
   ],
   "source": [
    "concatenated_arr"
   ]
  },
  {
   "cell_type": "code",
   "execution_count": 373,
   "id": "0fcbe347-adf2-4fc4-b612-4faed96f5326",
   "metadata": {},
   "outputs": [],
   "source": [
    "arr2=arr2.transpose()"
   ]
  },
  {
   "cell_type": "code",
   "execution_count": 375,
   "id": "49523e37-7c30-41b7-b178-ccd41624cdf9",
   "metadata": {},
   "outputs": [],
   "source": [
    "concatenated_arr=np.concatenate((arr1,arr2),axis=1)#axis=0 is row,axis=1 is column\n"
   ]
  },
  {
   "cell_type": "code",
   "execution_count": 377,
   "id": "2eaae679-5b24-402b-8485-4e98d39e60b3",
   "metadata": {},
   "outputs": [
    {
     "data": {
      "text/plain": [
       "array([[1, 2, 5],\n",
       "       [3, 4, 6]])"
      ]
     },
     "execution_count": 377,
     "metadata": {},
     "output_type": "execute_result"
    }
   ],
   "source": [
    "concatenated_arr"
   ]
  },
  {
   "cell_type": "code",
   "execution_count": 379,
   "id": "27a5f144-135a-41b2-aae2-acbcb9da3e4a",
   "metadata": {},
   "outputs": [],
   "source": [
    "arr1=np.array([1,2,3,4])\n",
    "arr2=np.array([5,6,7,8])"
   ]
  },
  {
   "cell_type": "code",
   "execution_count": 383,
   "id": "02e45676-f902-4497-8029-d12cf8dcb3d6",
   "metadata": {},
   "outputs": [],
   "source": [
    "result_addition=arr1+arr2"
   ]
  },
  {
   "cell_type": "code",
   "execution_count": 385,
   "id": "60c26621-7628-4987-9373-cf1ce129368d",
   "metadata": {},
   "outputs": [
    {
     "data": {
      "text/plain": [
       "array([ 6,  8, 10, 12])"
      ]
     },
     "execution_count": 385,
     "metadata": {},
     "output_type": "execute_result"
    }
   ],
   "source": [
    "result_addition"
   ]
  },
  {
   "cell_type": "code",
   "execution_count": 387,
   "id": "46f66158-d840-4115-bb63-8af92a5dd8f7",
   "metadata": {},
   "outputs": [],
   "source": [
    "result_subtraction=arr1-arr2"
   ]
  },
  {
   "cell_type": "code",
   "execution_count": 389,
   "id": "349ecc69-089c-418b-a9a4-077580f79563",
   "metadata": {},
   "outputs": [
    {
     "data": {
      "text/plain": [
       "array([-4, -4, -4, -4])"
      ]
     },
     "execution_count": 389,
     "metadata": {},
     "output_type": "execute_result"
    }
   ],
   "source": [
    "result_subtraction"
   ]
  },
  {
   "cell_type": "code",
   "execution_count": 391,
   "id": "eef66dc4-fceb-4c59-8955-346d1350f6b4",
   "metadata": {},
   "outputs": [],
   "source": [
    "result_multiplication=arr1*arr2"
   ]
  },
  {
   "cell_type": "code",
   "execution_count": 393,
   "id": "4920f985-7904-48c0-99dd-a0e50c34679d",
   "metadata": {},
   "outputs": [
    {
     "data": {
      "text/plain": [
       "array([ 5, 12, 21, 32])"
      ]
     },
     "execution_count": 393,
     "metadata": {},
     "output_type": "execute_result"
    }
   ],
   "source": [
    "result_multiplication"
   ]
  },
  {
   "cell_type": "code",
   "execution_count": 395,
   "id": "c007ecb2-b69d-4390-ab18-9eee5ff77951",
   "metadata": {},
   "outputs": [],
   "source": [
    "result_division=arr1/arr2"
   ]
  },
  {
   "cell_type": "code",
   "execution_count": 397,
   "id": "22dbe0c0-ef66-43c9-bb7c-b758565d5416",
   "metadata": {},
   "outputs": [
    {
     "data": {
      "text/plain": [
       "array([0.2       , 0.33333333, 0.42857143, 0.5       ])"
      ]
     },
     "execution_count": 397,
     "metadata": {},
     "output_type": "execute_result"
    }
   ],
   "source": [
    "result_division"
   ]
  },
  {
   "cell_type": "code",
   "execution_count": 399,
   "id": "657c1c4c-a807-4132-b0bb-b2e8c592f524",
   "metadata": {},
   "outputs": [],
   "source": [
    "result_sqrt=np.sqrt(arr1)"
   ]
  },
  {
   "cell_type": "code",
   "execution_count": 401,
   "id": "d6dca44b-8ee9-4b8c-b62c-f037251ca709",
   "metadata": {},
   "outputs": [
    {
     "data": {
      "text/plain": [
       "array([1.        , 1.41421356, 1.73205081, 2.        ])"
      ]
     },
     "execution_count": 401,
     "metadata": {},
     "output_type": "execute_result"
    }
   ],
   "source": [
    "result_sqrt"
   ]
  },
  {
   "cell_type": "code",
   "execution_count": 405,
   "id": "33e28a03-8dd9-4474-b201-4d22a140cc6d",
   "metadata": {},
   "outputs": [],
   "source": [
    "result_power=np.power(arr1,arr2)"
   ]
  },
  {
   "cell_type": "code",
   "execution_count": 407,
   "id": "3d928a1d-04d3-4e6d-a611-49764d58de87",
   "metadata": {},
   "outputs": [
    {
     "data": {
      "text/plain": [
       "array([    1,    64,  2187, 65536])"
      ]
     },
     "execution_count": 407,
     "metadata": {},
     "output_type": "execute_result"
    }
   ],
   "source": [
    "result_power"
   ]
  },
  {
   "cell_type": "code",
   "execution_count": 409,
   "id": "0f1d78ae-6138-4687-984b-67cc16bf2ff2",
   "metadata": {},
   "outputs": [],
   "source": [
    "sum_result=np.sum(arr1)"
   ]
  },
  {
   "cell_type": "code",
   "execution_count": 411,
   "id": "2f83bf1f-f354-4d82-bc42-e4aa4a674ca7",
   "metadata": {},
   "outputs": [
    {
     "data": {
      "text/plain": [
       "10"
      ]
     },
     "execution_count": 411,
     "metadata": {},
     "output_type": "execute_result"
    }
   ],
   "source": [
    "sum_result"
   ]
  },
  {
   "cell_type": "code",
   "execution_count": 419,
   "id": "6022f72d-9ada-4778-9485-cba7cc4ff0c4",
   "metadata": {},
   "outputs": [],
   "source": [
    "\n",
    "mean_result=np.mean(arr1)"
   ]
  },
  {
   "cell_type": "code",
   "execution_count": 421,
   "id": "c761a25a-59cc-42b5-9e51-2eac1129a3ee",
   "metadata": {},
   "outputs": [
    {
     "data": {
      "text/plain": [
       "2.5"
      ]
     },
     "execution_count": 421,
     "metadata": {},
     "output_type": "execute_result"
    }
   ],
   "source": [
    "mean_result"
   ]
  },
  {
   "cell_type": "code",
   "execution_count": 423,
   "id": "42073447-cba5-4440-821c-ff2f9fe6b26b",
   "metadata": {},
   "outputs": [],
   "source": [
    "min_result=np.min(arr1)"
   ]
  },
  {
   "cell_type": "code",
   "execution_count": 425,
   "id": "b2da034c-327a-4f9c-9c3e-2b23446b5a87",
   "metadata": {},
   "outputs": [
    {
     "data": {
      "text/plain": [
       "1"
      ]
     },
     "execution_count": 425,
     "metadata": {},
     "output_type": "execute_result"
    }
   ],
   "source": [
    "min_result"
   ]
  },
  {
   "cell_type": "code",
   "execution_count": 452,
   "id": "505c650c-ba6d-496a-a311-a687be203c4b",
   "metadata": {},
   "outputs": [],
   "source": [
    "matrix_alt=np.matrix([[1,2,3],[2,3,4],[4,5,7]])"
   ]
  },
  {
   "cell_type": "code",
   "execution_count": 433,
   "id": "b153ea64-0abb-4a3a-a300-ff54115096de",
   "metadata": {},
   "outputs": [
    {
     "data": {
      "text/plain": [
       "matrix([[1, 2, 3],\n",
       "        [2, 3, 4],\n",
       "        [4, 5, 7]])"
      ]
     },
     "execution_count": 433,
     "metadata": {},
     "output_type": "execute_result"
    }
   ],
   "source": [
    "matrix_alt"
   ]
  },
  {
   "cell_type": "code",
   "execution_count": 439,
   "id": "08430bdd-be51-41f7-9038-0fd331d43b50",
   "metadata": {},
   "outputs": [
    {
     "data": {
      "text/plain": [
       "numpy.matrix"
      ]
     },
     "execution_count": 439,
     "metadata": {},
     "output_type": "execute_result"
    }
   ],
   "source": [
    "type(matrix_alt)"
   ]
  },
  {
   "cell_type": "code",
   "execution_count": 456,
   "id": "d7024d1f-f1a9-4263-9480-907801b0582a",
   "metadata": {},
   "outputs": [],
   "source": [
    "result=matrix_alt*matrix_alt#this works when the matrix define uing matrix"
   ]
  },
  {
   "cell_type": "code",
   "execution_count": 450,
   "id": "6dd5316a-87f4-4208-9558-d16b5153d81d",
   "metadata": {},
   "outputs": [
    {
     "data": {
      "text/plain": [
       "matrix([[17, 23, 32],\n",
       "        [24, 33, 46],\n",
       "        [42, 58, 81]])"
      ]
     },
     "execution_count": 450,
     "metadata": {},
     "output_type": "execute_result"
    }
   ],
   "source": [
    "result"
   ]
  },
  {
   "cell_type": "code",
   "execution_count": 458,
   "id": "4bdf782d-bb17-4ff7-b0db-7a8dad9ad202",
   "metadata": {},
   "outputs": [
    {
     "data": {
      "text/plain": [
       "array([1, 2, 3, 4])"
      ]
     },
     "execution_count": 458,
     "metadata": {},
     "output_type": "execute_result"
    }
   ],
   "source": [
    "a\n"
   ]
  },
  {
   "cell_type": "code",
   "execution_count": 460,
   "id": "4740b1a2-0a21-4bcc-8b8e-44a6cc9e7d0a",
   "metadata": {},
   "outputs": [],
   "source": [
    "result1=a*a"
   ]
  },
  {
   "cell_type": "code",
   "execution_count": 462,
   "id": "7d4efc93-dfbc-4f3a-a159-1e2f5046283c",
   "metadata": {},
   "outputs": [
    {
     "data": {
      "text/plain": [
       "array([ 1,  4,  9, 16])"
      ]
     },
     "execution_count": 462,
     "metadata": {},
     "output_type": "execute_result"
    }
   ],
   "source": [
    "result1"
   ]
  },
  {
   "cell_type": "code",
   "execution_count": 466,
   "id": "3bc54b64-3f89-479c-825b-a847cc4e45df",
   "metadata": {},
   "outputs": [],
   "source": [
    "result1=a@a"
   ]
  },
  {
   "cell_type": "code",
   "execution_count": 468,
   "id": "07f17ced-acd2-4eea-98e5-51a1fadb0b24",
   "metadata": {},
   "outputs": [
    {
     "data": {
      "text/plain": [
       "30"
      ]
     },
     "execution_count": 468,
     "metadata": {},
     "output_type": "execute_result"
    }
   ],
   "source": [
    "result1\n"
   ]
  },
  {
   "cell_type": "code",
   "execution_count": 472,
   "id": "5fa2e869-b6e5-49ae-a4b4-3aea314a3581",
   "metadata": {},
   "outputs": [],
   "source": [
    "elementwise_exp=np.power(matrix,2)"
   ]
  },
  {
   "cell_type": "code",
   "execution_count": 476,
   "id": "a07a180b-8ca8-4766-adf9-5656363efe4f",
   "metadata": {},
   "outputs": [
    {
     "data": {
      "text/plain": [
       "matrix([[ 1,  4,  9],\n",
       "        [ 4,  9, 16],\n",
       "        [16, 25, 49]], dtype=int32)"
      ]
     },
     "execution_count": 476,
     "metadata": {},
     "output_type": "execute_result"
    }
   ],
   "source": [
    "elementwise_exp"
   ]
  },
  {
   "cell_type": "code",
   "execution_count": 474,
   "id": "6922e13d-2940-44e4-9e6a-0b6dbb68a7f3",
   "metadata": {},
   "outputs": [],
   "source": [
    "inverse_matrix=np.linalg.inv(matrix)"
   ]
  },
  {
   "cell_type": "code",
   "execution_count": 478,
   "id": "9c7495fa-5a0b-4668-9242-0941e82f20ec",
   "metadata": {},
   "outputs": [
    {
     "data": {
      "text/plain": [
       "matrix([[-1., -1.,  1.],\n",
       "        [-2.,  5., -2.],\n",
       "        [ 2., -3.,  1.]])"
      ]
     },
     "execution_count": 478,
     "metadata": {},
     "output_type": "execute_result"
    }
   ],
   "source": [
    "inverse_matrix"
   ]
  },
  {
   "cell_type": "code",
   "execution_count": 482,
   "id": "8f90c6ab-a68f-442f-bcde-e6b8d670549c",
   "metadata": {},
   "outputs": [],
   "source": [
    "eigenvalues,eigenvectors=np.linalg.eig(matrix)"
   ]
  },
  {
   "cell_type": "code",
   "execution_count": 484,
   "id": "72da6e45-211f-4da4-8b9b-448173876aad",
   "metadata": {},
   "outputs": [
    {
     "data": {
      "text/plain": [
       "array([11.42979843, -0.58051141,  0.15071298])"
      ]
     },
     "execution_count": 484,
     "metadata": {},
     "output_type": "execute_result"
    }
   ],
   "source": [
    "eigenvalues"
   ]
  },
  {
   "cell_type": "code",
   "execution_count": 488,
   "id": "b60d86ab-f3f8-46cb-93e0-570b9d65e534",
   "metadata": {},
   "outputs": [
    {
     "data": {
      "text/plain": [
       "matrix([[-0.32598996, -0.85125487,  0.17708145],\n",
       "        [-0.46729531, -0.09999617, -0.84130234],\n",
       "        [-0.82180633,  0.51513679,  0.51073724]])"
      ]
     },
     "execution_count": 488,
     "metadata": {},
     "output_type": "execute_result"
    }
   ],
   "source": [
    "eigenvectors"
   ]
  },
  {
   "cell_type": "code",
   "execution_count": 494,
   "id": "890be797-44b3-402e-aabd-7b25562ba012",
   "metadata": {},
   "outputs": [],
   "source": [
    "transpose_matrix=matrix.T"
   ]
  },
  {
   "cell_type": "code",
   "execution_count": 496,
   "id": "513dcaa9-815e-493e-a645-19a4a6c84c60",
   "metadata": {},
   "outputs": [
    {
     "data": {
      "text/plain": [
       "matrix([[1, 2, 4],\n",
       "        [2, 3, 5],\n",
       "        [3, 4, 7]])"
      ]
     },
     "execution_count": 496,
     "metadata": {},
     "output_type": "execute_result"
    }
   ],
   "source": [
    "transpose_matrix"
   ]
  },
  {
   "cell_type": "code",
   "execution_count": 508,
   "id": "57c05f41-4acc-46b0-a7d6-4d1e5310a8ca",
   "metadata": {},
   "outputs": [],
   "source": [
    "dot_product_result=np.dot(arr1,arr2)"
   ]
  },
  {
   "cell_type": "code",
   "execution_count": 510,
   "id": "e5fee979-6564-406d-bd60-5ea17720f27e",
   "metadata": {},
   "outputs": [
    {
     "data": {
      "text/plain": [
       "70"
      ]
     },
     "execution_count": 510,
     "metadata": {},
     "output_type": "execute_result"
    }
   ],
   "source": [
    "dot_product_result"
   ]
  },
  {
   "cell_type": "code",
   "execution_count": 502,
   "id": "e52a11f4-8e6a-40d0-9ae2-a95374c28615",
   "metadata": {},
   "outputs": [],
   "source": [
    "matrix1=np.array([[1,2],[3,4]])"
   ]
  },
  {
   "cell_type": "code",
   "execution_count": null,
   "id": "ec8b24b1-384a-46f3-9b2a-4648ed94e721",
   "metadata": {},
   "outputs": [],
   "source": []
  },
  {
   "cell_type": "code",
   "execution_count": 528,
   "id": "af121cce-1fc7-459c-96dd-e4b53cf901b8",
   "metadata": {},
   "outputs": [],
   "source": [
    "matrix2=np.array([[5,6],[7,8]])\n"
   ]
  },
  {
   "cell_type": "code",
   "execution_count": 530,
   "id": "a01a5e75-059e-460d-aa29-5b129aff3a31",
   "metadata": {},
   "outputs": [],
   "source": [
    "matrix_multiplication_result=np.matmul(matrix1,matrix2)"
   ]
  },
  {
   "cell_type": "code",
   "execution_count": 532,
   "id": "f69d02e6-0c2e-45da-a864-89cc2d824c96",
   "metadata": {},
   "outputs": [
    {
     "data": {
      "text/plain": [
       "array([[ 67,  78],\n",
       "       [ 91, 106]])"
      ]
     },
     "execution_count": 532,
     "metadata": {},
     "output_type": "execute_result"
    }
   ],
   "source": [
    "matrix_multiplication_result"
   ]
  },
  {
   "cell_type": "code",
   "execution_count": 516,
   "id": "bfcbe96e-ff38-4650-af9b-a7585f73acf3",
   "metadata": {},
   "outputs": [],
   "source": [
    "matrix_determinant=np.linalg.det(matrix1)"
   ]
  },
  {
   "cell_type": "code",
   "execution_count": 518,
   "id": "8e5d1205-c261-4e2f-9dd7-724a12f7d9c0",
   "metadata": {},
   "outputs": [
    {
     "data": {
      "text/plain": [
       "-1.999999999999999"
      ]
     },
     "execution_count": 518,
     "metadata": {},
     "output_type": "execute_result"
    }
   ],
   "source": [
    "matrix_determinant"
   ]
  },
  {
   "cell_type": "code",
   "execution_count": 520,
   "id": "e44376f4-d455-4c71-8563-cfe78086140f",
   "metadata": {},
   "outputs": [],
   "source": [
    "inverse_matrix=np.linalg.inv(matrix1)"
   ]
  },
  {
   "cell_type": "code",
   "execution_count": 522,
   "id": "c331d015-0aa6-4b8b-a349-b86be1da2555",
   "metadata": {},
   "outputs": [
    {
     "data": {
      "text/plain": [
       "array([[-4. ,  3. ],\n",
       "       [ 3.5, -2.5]])"
      ]
     },
     "execution_count": 522,
     "metadata": {},
     "output_type": "execute_result"
    }
   ],
   "source": [
    "inverse_matrix"
   ]
  },
  {
   "cell_type": "code",
   "execution_count": 536,
   "id": "8275684a-16c1-4c92-a0c7-94b756bef132",
   "metadata": {},
   "outputs": [],
   "source": [
    "angles=np.array([0,np.pi/2,np.pi])"
   ]
  },
  {
   "cell_type": "code",
   "execution_count": 538,
   "id": "3effe5ac-bda0-46bc-acb7-12fc3cd6cb34",
   "metadata": {},
   "outputs": [],
   "source": [
    "sin_values=np.sin(angles)"
   ]
  },
  {
   "cell_type": "code",
   "execution_count": 540,
   "id": "44c97b81-7f57-4d04-b964-802d96abaef6",
   "metadata": {},
   "outputs": [],
   "source": [
    "cos_values=np.cos(angles)"
   ]
  },
  {
   "cell_type": "code",
   "execution_count": 542,
   "id": "1956889c-143b-4975-8796-857f76a0b11d",
   "metadata": {},
   "outputs": [],
   "source": [
    "exponential_values=np.exp(arr1)"
   ]
  },
  {
   "cell_type": "code",
   "execution_count": 544,
   "id": "a0660045-f153-4422-bfc7-1d622d23fad9",
   "metadata": {},
   "outputs": [
    {
     "data": {
      "text/plain": [
       "array([ 2.71828183,  7.3890561 , 20.08553692, 54.59815003])"
      ]
     },
     "execution_count": 544,
     "metadata": {},
     "output_type": "execute_result"
    }
   ],
   "source": [
    "exponential_values"
   ]
  },
  {
   "cell_type": "code",
   "execution_count": 550,
   "id": "e9acf921-204b-4e12-b38a-e2b42c839531",
   "metadata": {},
   "outputs": [],
   "source": [
    "random_numners=np.random.randn(5)#n represent the normal distribution"
   ]
  },
  {
   "cell_type": "code",
   "execution_count": 548,
   "id": "8053f557-8c33-4308-bcd6-5abe84167d61",
   "metadata": {},
   "outputs": [
    {
     "data": {
      "text/plain": [
       "array([ 0.69087042, -2.43653856,  1.60813127,  0.93274014,  0.5254712 ])"
      ]
     },
     "execution_count": 548,
     "metadata": {},
     "output_type": "execute_result"
    }
   ],
   "source": [
    "random_numners"
   ]
  },
  {
   "cell_type": "code",
   "execution_count": 552,
   "id": "53093e71-6e0e-40e4-8c87-bf28aa28c910",
   "metadata": {},
   "outputs": [],
   "source": [
    "random_integers=np.random.randint(low=1,high=10,size=(3,3))"
   ]
  },
  {
   "cell_type": "code",
   "execution_count": 554,
   "id": "01380220-2d2b-4ddb-ae2f-7e1380f00196",
   "metadata": {},
   "outputs": [
    {
     "data": {
      "text/plain": [
       "array([[7, 3, 5],\n",
       "       [3, 4, 6],\n",
       "       [8, 6, 3]])"
      ]
     },
     "execution_count": 554,
     "metadata": {},
     "output_type": "execute_result"
    }
   ],
   "source": [
    "random_integers"
   ]
  },
  {
   "cell_type": "code",
   "execution_count": 622,
   "id": "c11cda5c-4a91-412e-9b55-2944102ca2a0",
   "metadata": {},
   "outputs": [],
   "source": [
    "random_integers=np.random.randint(low=1,high=256,size=(350,350))"
   ]
  },
  {
   "cell_type": "code",
   "execution_count": 580,
   "id": "c3887777-267e-4e3c-a7f8-bda7990b300f",
   "metadata": {},
   "outputs": [],
   "source": [
    "random_nbr=np.random.randint(1,256,size=(350,350))"
   ]
  },
  {
   "cell_type": "code",
   "execution_count": 590,
   "id": "32dc377d-b42a-4314-8de5-94aaf162f31c",
   "metadata": {},
   "outputs": [],
   "source": [
    "import matplotlib.pyplot as plt"
   ]
  },
  {
   "cell_type": "code",
   "execution_count": 596,
   "id": "ad0daf52-0222-4985-8e3f-edbe5eb40375",
   "metadata": {},
   "outputs": [
    {
     "data": {
      "text/plain": [
       "<matplotlib.image.AxesImage at 0x28abaddc890>"
      ]
     },
     "execution_count": 596,
     "metadata": {},
     "output_type": "execute_result"
    },
    {
     "data": {
      "image/png": "[encoded data removed]",
      "text/plain": [
       "<Figure size 640x480 with 1 Axes>"
      ]
     },
     "metadata": {},
     "output_type": "display_data"
    }
   ],
   "source": [
    "plt.imshow(random_nbr)"
   ]
  },
  {
   "cell_type": "code",
   "execution_count": 598,
   "id": "ed286f41-28b6-417e-9e7f-90542d205b52",
   "metadata": {},
   "outputs": [],
   "source": [
    "rounded_values=np.round(arr1)"
   ]
  },
  {
   "cell_type": "code",
   "execution_count": 600,
   "id": "3bdfd36c-c67a-4c61-8959-a6df524735d7",
   "metadata": {},
   "outputs": [
    {
     "data": {
      "text/plain": [
       "array([1, 2, 3, 4])"
      ]
     },
     "execution_count": 600,
     "metadata": {},
     "output_type": "execute_result"
    }
   ],
   "source": [
    "rounded_values"
   ]
  },
  {
   "cell_type": "code",
   "execution_count": 602,
   "id": "96c5000d-7017-47c1-9207-07fe349fc95e",
   "metadata": {},
   "outputs": [],
   "source": [
    "abs_values=np.abs(arr1)"
   ]
  },
  {
   "cell_type": "code",
   "execution_count": 604,
   "id": "d61259f9-9fcd-4986-a0d6-869467858a08",
   "metadata": {},
   "outputs": [
    {
     "data": {
      "text/plain": [
       "array([1, 2, 3, 4])"
      ]
     },
     "execution_count": 604,
     "metadata": {},
     "output_type": "execute_result"
    }
   ],
   "source": [
    "abs_values"
   ]
  },
  {
   "cell_type": "code",
   "execution_count": 608,
   "id": "18878826-b641-4159-91f5-a9cb68b25107",
   "metadata": {},
   "outputs": [],
   "source": [
    "log_values=np.log(arr1)#natureal logarithms base e"
   ]
  },
  {
   "cell_type": "code",
   "execution_count": 610,
   "id": "ebf8ba0b-e902-46a0-a80b-d20a7e0757e1",
   "metadata": {},
   "outputs": [
    {
     "data": {
      "text/plain": [
       "array([0.        , 0.69314718, 1.09861229, 1.38629436])"
      ]
     },
     "execution_count": 610,
     "metadata": {},
     "output_type": "execute_result"
    }
   ],
   "source": [
    "log_values"
   ]
  },
  {
   "cell_type": "code",
   "execution_count": 612,
   "id": "584ccd83-90ae-45d5-b025-d3091067a1cc",
   "metadata": {},
   "outputs": [],
   "source": [
    "log10_values=np.log10(arr1)#natureal logarithms base e"
   ]
  },
  {
   "cell_type": "code",
   "execution_count": 614,
   "id": "008f27b6-d4bc-43f5-a766-c348235463ba",
   "metadata": {},
   "outputs": [
    {
     "data": {
      "text/plain": [
       "array([0.        , 0.30103   , 0.47712125, 0.60205999])"
      ]
     },
     "execution_count": 614,
     "metadata": {},
     "output_type": "execute_result"
    }
   ],
   "source": [
    "log10_values"
   ]
  },
  {
   "cell_type": "code",
   "execution_count": 616,
   "id": "e1f25c0a-9b41-405c-8c8b-0c8495f716cd",
   "metadata": {},
   "outputs": [],
   "source": [
    "expm1_values=np.expm1(arr1)"
   ]
  },
  {
   "cell_type": "code",
   "execution_count": 618,
   "id": "5b9de2d9-43fb-479f-b600-773cc89edd90",
   "metadata": {},
   "outputs": [
    {
     "data": {
      "text/plain": [
       "array([ 1.71828183,  6.3890561 , 19.08553692, 53.59815003])"
      ]
     },
     "execution_count": 618,
     "metadata": {},
     "output_type": "execute_result"
    }
   ],
   "source": [
    "expm1_values"
   ]
  },
  {
   "cell_type": "code",
   "execution_count": 620,
   "id": "933cc1bf-6b8c-40c5-850b-35e8187853cd",
   "metadata": {},
   "outputs": [
    {
     "data": {
      "text/plain": [
       "(120,)"
      ]
     },
     "execution_count": 620,
     "metadata": {},
     "output_type": "execute_result"
    }
   ],
   "source": [
    "z.shape"
   ]
  },
  {
   "cell_type": "code",
   "execution_count": 634,
   "id": "4fd9d7e1-55f3-498d-8204-efffa611cfc1",
   "metadata": {},
   "outputs": [],
   "source": [
    "arr1=np.array([1,2,3,4])"
   ]
  },
  {
   "cell_type": "code",
   "execution_count": 636,
   "id": "c66351e0-1209-4b7d-8a91-5bb4ee9ad4d0",
   "metadata": {},
   "outputs": [],
   "source": [
    "arr2=np.array([5,6,7,8])"
   ]
  },
  {
   "cell_type": "code",
   "execution_count": 638,
   "id": "f359b6ad-ce4f-4c69-a946-4dc56b098458",
   "metadata": {},
   "outputs": [
    {
     "data": {
      "text/plain": [
       "array([False, False, False, False])"
      ]
     },
     "execution_count": 638,
     "metadata": {},
     "output_type": "execute_result"
    }
   ],
   "source": [
    "arr1>arr2#compare the elemet wise value"
   ]
  },
  {
   "cell_type": "code",
   "execution_count": 640,
   "id": "9e0c272c-d257-410d-8dcd-7cf5c969c214",
   "metadata": {},
   "outputs": [
    {
     "data": {
      "text/plain": [
       "array([ True,  True,  True,  True])"
      ]
     },
     "execution_count": 640,
     "metadata": {},
     "output_type": "execute_result"
    }
   ],
   "source": [
    "arr1<arr2"
   ]
  },
  {
   "cell_type": "code",
   "execution_count": 642,
   "id": "83387d1d-816b-4569-8643-becbaa42e3e1",
   "metadata": {},
   "outputs": [],
   "source": [
    "any_result=np.any(arr1>arr2)"
   ]
  },
  {
   "cell_type": "code",
   "execution_count": 646,
   "id": "d4c6f169-d280-4308-a533-32bfd40ec95c",
   "metadata": {},
   "outputs": [
    {
     "data": {
      "text/plain": [
       "False"
      ]
     },
     "execution_count": 646,
     "metadata": {},
     "output_type": "execute_result"
    }
   ],
   "source": [
    "any_result"
   ]
  },
  {
   "cell_type": "code",
   "execution_count": 644,
   "id": "9b0cfdda-9231-421a-8c41-eb33876b47d8",
   "metadata": {},
   "outputs": [],
   "source": [
    "any_result=np.all(arr1>arr2)\n"
   ]
  },
  {
   "cell_type": "code",
   "execution_count": 648,
   "id": "9ea10836-337f-46f8-a0c6-8e16ae585c33",
   "metadata": {},
   "outputs": [
    {
     "data": {
      "text/plain": [
       "False"
      ]
     },
     "execution_count": 648,
     "metadata": {},
     "output_type": "execute_result"
    }
   ],
   "source": [
    "any_result"
   ]
  },
  {
   "cell_type": "code",
   "execution_count": 650,
   "id": "452bbe65-eb58-4e95-aa6b-9df996b4488b",
   "metadata": {},
   "outputs": [],
   "source": [
    "std_deviation=np.std(arr1)"
   ]
  },
  {
   "cell_type": "code",
   "execution_count": 660,
   "id": "cdcc3eb5-4bf3-4bdb-b3e4-556f9d0be6ba",
   "metadata": {},
   "outputs": [
    {
     "data": {
      "text/plain": [
       "1.118033988749895"
      ]
     },
     "execution_count": 660,
     "metadata": {},
     "output_type": "execute_result"
    }
   ],
   "source": [
    "std_deviation"
   ]
  },
  {
   "cell_type": "code",
   "execution_count": 652,
   "id": "ad017e0f-aaa3-4f07-a251-ea66b3883363",
   "metadata": {},
   "outputs": [],
   "source": [
    "variance=np.var(arr1)"
   ]
  },
  {
   "cell_type": "code",
   "execution_count": 662,
   "id": "ff528d82-7bea-4332-9dd3-7a6803e3fd58",
   "metadata": {},
   "outputs": [
    {
     "data": {
      "text/plain": [
       "1.25"
      ]
     },
     "execution_count": 662,
     "metadata": {},
     "output_type": "execute_result"
    }
   ],
   "source": [
    "variance\n"
   ]
  },
  {
   "cell_type": "code",
   "execution_count": 658,
   "id": "9d605c84-f244-4a5b-905a-3de0148efcb2",
   "metadata": {},
   "outputs": [],
   "source": [
    "median_value=np.median(arr1)"
   ]
  },
  {
   "cell_type": "code",
   "execution_count": 664,
   "id": "83596d9c-5b06-4cb5-adc3-1b8f2afe6dbf",
   "metadata": {},
   "outputs": [
    {
     "data": {
      "text/plain": [
       "2.5"
      ]
     },
     "execution_count": 664,
     "metadata": {},
     "output_type": "execute_result"
    }
   ],
   "source": [
    "median_value"
   ]
  },
  {
   "cell_type": "code",
   "execution_count": 666,
   "id": "50aa0134-39ad-4cbd-a86a-bef81c1b2188",
   "metadata": {},
   "outputs": [],
   "source": [
    "a=np.array([1,2,3,4])"
   ]
  },
  {
   "cell_type": "code",
   "execution_count": 668,
   "id": "54cbe21a-e565-44ce-b703-ce55f2d70db8",
   "metadata": {},
   "outputs": [
    {
     "data": {
      "text/plain": [
       "array([2, 3, 4, 5])"
      ]
     },
     "execution_count": 668,
     "metadata": {},
     "output_type": "execute_result"
    }
   ],
   "source": [
    "a+1#add all the element with 1"
   ]
  },
  {
   "cell_type": "code",
   "execution_count": 670,
   "id": "af4dfd3e-7ac3-4f58-bbcd-b35cc1369b10",
   "metadata": {},
   "outputs": [
    {
     "data": {
      "text/plain": [
       "array([[[ 0,  1,  2,  3,  4],\n",
       "        [ 5,  6,  7,  8,  9],\n",
       "        [10, 11, 12, 13, 14]]])"
      ]
     },
     "execution_count": 670,
     "metadata": {},
     "output_type": "execute_result"
    }
   ],
   "source": [
    "b"
   ]
  },
  {
   "cell_type": "code",
   "execution_count": 672,
   "id": "5e67f446-6f6d-49b3-9c9f-f2a76eefbfc6",
   "metadata": {},
   "outputs": [
    {
     "data": {
      "text/plain": [
       "array([[[ 1,  2,  3,  4,  5],\n",
       "        [ 6,  7,  8,  9, 10],\n",
       "        [11, 12, 13, 14, 15]]])"
      ]
     },
     "execution_count": 672,
     "metadata": {},
     "output_type": "execute_result"
    }
   ],
   "source": [
    "b+1"
   ]
  },
  {
   "cell_type": "code",
   "execution_count": 17,
   "id": "e8e30249-31a3-445b-9859-6e1f5660815d",
   "metadata": {},
   "outputs": [
    {
     "data": {
      "text/plain": [
       "'Srs'"
      ]
     },
     "execution_count": 17,
     "metadata": {},
     "output_type": "execute_result"
    }
   ],
   "source": [
    "names='Rosan Shrestha'\n",
    "names[:6]#print the string with 0 index to the n-1 index\n",
    "len(names)\n",
    "names[1:5]\n",
    "names[6:-1]\n",
    "names[6:-3:2]"
   ]
  },
  {
   "cell_type": "code",
   "execution_count": 19,
   "id": "658dd736-c1e7-4008-96c6-1965e09946b2",
   "metadata": {},
   "outputs": [
    {
     "data": {
      "text/plain": [
       "[1, 2, 3, 4, 5]"
      ]
     },
     "execution_count": 19,
     "metadata": {},
     "output_type": "execute_result"
    }
   ],
   "source": [
    "#list methods \n",
    "list1=[1,2,3,4,5]\n",
    "list1\n"
   ]
  },
  {
   "cell_type": "code",
   "execution_count": 21,
   "id": "6cdcba18-943f-42f2-a650-141378d29a99",
   "metadata": {},
   "outputs": [],
   "source": [
    "list1.append(8)"
   ]
  },
  {
   "cell_type": "code",
   "execution_count": 23,
   "id": "50e03dbe-a6c3-4853-a9b9-8bb82f2c2c04",
   "metadata": {},
   "outputs": [
    {
     "data": {
      "text/plain": [
       "[1, 2, 3, 4, 5, 8]"
      ]
     },
     "execution_count": 23,
     "metadata": {},
     "output_type": "execute_result"
    }
   ],
   "source": [
    "list1"
   ]
  },
  {
   "cell_type": "code",
   "execution_count": 25,
   "id": "acd28d43-ad8f-424a-ba96-73d4765c9c6a",
   "metadata": {},
   "outputs": [],
   "source": [
    "list1.sort()"
   ]
  },
  {
   "cell_type": "code",
   "execution_count": 27,
   "id": "64f08312-8687-407b-9351-8f90fd4cdff4",
   "metadata": {},
   "outputs": [
    {
     "data": {
      "text/plain": [
       "[1, 2, 3, 4, 5, 8]"
      ]
     },
     "execution_count": 27,
     "metadata": {},
     "output_type": "execute_result"
    }
   ],
   "source": [
    "list1"
   ]
  },
  {
   "cell_type": "code",
   "execution_count": 29,
   "id": "44313d52-0aa4-42f4-887c-fb80ffba8a4b",
   "metadata": {},
   "outputs": [],
   "source": [
    "list1.reverse()"
   ]
  },
  {
   "cell_type": "code",
   "execution_count": 31,
   "id": "057460d8-8737-4df1-814d-f0498999d9af",
   "metadata": {},
   "outputs": [
    {
     "data": {
      "text/plain": [
       "[8, 5, 4, 3, 2, 1]"
      ]
     },
     "execution_count": 31,
     "metadata": {},
     "output_type": "execute_result"
    }
   ],
   "source": [
    "list1"
   ]
  },
  {
   "cell_type": "code",
   "execution_count": 33,
   "id": "c6767f16-4417-4026-9187-c15bad76eebc",
   "metadata": {},
   "outputs": [
    {
     "data": {
      "text/plain": [
       "5"
      ]
     },
     "execution_count": 33,
     "metadata": {},
     "output_type": "execute_result"
    }
   ],
   "source": [
    "list1.index(1)"
   ]
  },
  {
   "cell_type": "code",
   "execution_count": 35,
   "id": "bd59c32e-5159-438d-abfd-207baf24d63c",
   "metadata": {},
   "outputs": [
    {
     "data": {
      "text/plain": [
       "2"
      ]
     },
     "execution_count": 35,
     "metadata": {},
     "output_type": "execute_result"
    }
   ],
   "source": [
    "list1.index(4)"
   ]
  },
  {
   "cell_type": "code",
   "execution_count": 37,
   "id": "c44baa45-c065-4e6b-af61-027d9269e0ab",
   "metadata": {},
   "outputs": [
    {
     "data": {
      "text/plain": [
       "1"
      ]
     },
     "execution_count": 37,
     "metadata": {},
     "output_type": "execute_result"
    }
   ],
   "source": [
    "list1.count(1)"
   ]
  },
  {
   "cell_type": "code",
   "execution_count": 39,
   "id": "c7fb6842-85e2-4c0c-a3d9-4d7f5942324a",
   "metadata": {},
   "outputs": [],
   "source": [
    "list1.append(1)"
   ]
  },
  {
   "cell_type": "code",
   "execution_count": 41,
   "id": "9f0292f1-29db-4038-97bf-45f912cf4629",
   "metadata": {},
   "outputs": [
    {
     "data": {
      "text/plain": [
       "[8, 5, 4, 3, 2, 1, 1]"
      ]
     },
     "execution_count": 41,
     "metadata": {},
     "output_type": "execute_result"
    }
   ],
   "source": [
    "list1"
   ]
  },
  {
   "cell_type": "code",
   "execution_count": 43,
   "id": "efb3fec1-99a2-4c41-9eef-e7302a1d75ee",
   "metadata": {},
   "outputs": [],
   "source": [
    "list1.insert(3,88)#insert the value in disired location"
   ]
  },
  {
   "cell_type": "code",
   "execution_count": 45,
   "id": "ee1a477a-8004-45d2-b5ac-f68d2abf5e25",
   "metadata": {},
   "outputs": [
    {
     "data": {
      "text/plain": [
       "[8, 5, 4, 88, 3, 2, 1, 1]"
      ]
     },
     "execution_count": 45,
     "metadata": {},
     "output_type": "execute_result"
    }
   ],
   "source": [
    "list1"
   ]
  },
  {
   "cell_type": "code",
   "execution_count": 57,
   "id": "382b7450-4231-4dfc-869e-56840cddba76",
   "metadata": {},
   "outputs": [
    {
     "data": {
      "text/plain": [
       "'hey my name is Rosan  shrestha and i am from nepal'"
      ]
     },
     "execution_count": 57,
     "metadata": {},
     "output_type": "execute_result"
    }
   ],
   "source": [
    "#f string in python used in the string formatting\n",
    "letter=\"hey my name is {0} shrestha and i am from {1}\"\n",
    "country='nepal'\n",
    "name='Rosan '\n",
    "letter.format(name,country)\n",
    "f"
   ]
  },
  {
   "cell_type": "code",
   "execution_count": 67,
   "id": "b46759aa-6bf4-4715-a05f-e258527c2afe",
   "metadata": {},
   "outputs": [
    {
     "ename": "NameError",
     "evalue": "name 'address' is not defined",
     "output_type": "error",
     "traceback": [
      "\u001b[1;31m---------------------------------------------------------------------------\u001b[0m",
      "\u001b[1;31mNameError\u001b[0m                                 Traceback (most recent call last)",
      "Cell \u001b[1;32mIn[67], line 1\u001b[0m\n\u001b[1;32m----> 1\u001b[0m letter\u001b[38;5;241m=\u001b[39m\u001b[38;5;124mf\u001b[39m\u001b[38;5;124m'\u001b[39m\u001b[38;5;124mHello gyes my name is \u001b[39m\u001b[38;5;132;01m{\u001b[39;00mname\u001b[38;5;132;01m}\u001b[39;00m\u001b[38;5;124m and i am from \u001b[39m\u001b[38;5;132;01m{\u001b[39;00maddress\u001b[38;5;132;01m}\u001b[39;00m\u001b[38;5;124m and i want to learn\u001b[39m\u001b[38;5;132;01m{\u001b[39;00mprogram\u001b[38;5;132;01m}\u001b[39;00m\u001b[38;5;124m programming\u001b[39m\u001b[38;5;124m'\u001b[39m\n\u001b[0;32m      2\u001b[0m name\u001b[38;5;241m=\u001b[39m\u001b[38;5;124m'\u001b[39m\u001b[38;5;124mrosan\u001b[39m\u001b[38;5;124m'\u001b[39m\n\u001b[0;32m      3\u001b[0m addresss\u001b[38;5;241m=\u001b[39m\u001b[38;5;124m'\u001b[39m\u001b[38;5;124mramechhap\u001b[39m\u001b[38;5;124m'\u001b[39m\n",
      "\u001b[1;31mNameError\u001b[0m: name 'address' is not defined"
     ]
    }
   ],
   "source": [
    "letter=f'Hello gyes my name is {name} and i am from {address} and i want to learn{program} programming'\n",
    "name='rosan'\n",
    "addresss='ramechhap'\n",
    "program='python'\n",
    "letter.format(name,address,program)"
   ]
  },
  {
   "cell_type": "code",
   "execution_count": null,
   "id": "98f0ec3f-a093-4fc4-b038-64523bb7063e",
   "metadata": {},
   "outputs": [],
   "source": []
  }
 ],
 "metadata": {
  "kernelspec": {
   "display_name": "Python 3 (ipykernel)",
   "language": "python",
   "name": "python3"
  },
  "language_info": {
   "codemirror_mode": {
    "name": "ipython",
    "version": 3
   },
   "file_extension": ".py",
   "mimetype": "text/x-python",
   "name": "python",
   "nbconvert_exporter": "python",
   "pygments_lexer": "ipython3",
   "version": "3.12.4"
  }
 },
 "nbformat": 4,
 "nbformat_minor": 5
}
