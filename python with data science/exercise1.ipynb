{
 "cells": [
  {
   "cell_type": "markdown",
   "id": "4e20f298-8938-466a-a14f-926489464a1c",
   "metadata": {},
   "source": [
    "Define a variable `age` and set it to your age."
   ]
  },
  {
   "cell_type": "code",
   "execution_count": 3,
   "id": "b548b203-1290-4758-9f02-44137059d3a6",
   "metadata": {},
   "outputs": [],
   "source": [
    "age=20"
   ]
  },
  {
   "cell_type": "code",
   "execution_count": 4,
   "id": "8fe40e72-854d-40fc-8727-6c64988fd990",
   "metadata": {},
   "outputs": [
    {
     "data": {
      "text/plain": [
       "20"
      ]
     },
     "execution_count": 4,
     "metadata": {},
     "output_type": "execute_result"
    }
   ],
   "source": [
    "age"
   ]
  },
  {
   "cell_type": "markdown",
   "id": "d8414759-3919-4925-8ea3-4d4cc0af8aaa",
   "metadata": {},
   "source": [
    "Create a list of your three favorite fruits and print the second fruit in the list."
   ]
  },
  {
   "cell_type": "code",
   "execution_count": null,
   "id": "c2b53f07-b2ff-4a7b-bfcc-500f902c445a",
   "metadata": {},
   "outputs": [],
   "source": [
    "fruits=['banana','orange','apple']"
   ]
  },
  {
   "cell_type": "code",
   "execution_count": 11,
   "id": "93fcae18-8618-4e5c-8701-c3aa37e276e4",
   "metadata": {},
   "outputs": [
    {
     "data": {
      "text/plain": [
       "'orange'"
      ]
     },
     "execution_count": 11,
     "metadata": {},
     "output_type": "execute_result"
    }
   ],
   "source": [
    "fruits[1]"
   ]
  },
  {
   "cell_type": "markdown",
   "id": "a7d8df4e-76a9-4515-ab66-a64a7e28515e",
   "metadata": {},
   "source": [
    "Create a dictionary with your name, age, and favorite color. Print your favorite color from the dictionary."
   ]
  },
  {
   "cell_type": "code",
   "execution_count": 19,
   "id": "9682aa95-d3e3-4f55-8e80-1176b16d1521",
   "metadata": {},
   "outputs": [],
   "source": [
    "dcit1={'name':'Rosan Shrestha','age':20,'fav_col':\"red\"}"
   ]
  },
  {
   "cell_type": "code",
   "execution_count": 34,
   "id": "1535fc59-3918-49ff-9218-bbfa58cf27d6",
   "metadata": {},
   "outputs": [
    {
     "data": {
      "text/plain": [
       "'red'"
      ]
     },
     "execution_count": 34,
     "metadata": {},
     "output_type": "execute_result"
    }
   ],
   "source": [
    "dcit1[\"fav_col\"]"
   ]
  },
  {
   "cell_type": "markdown",
   "id": "0c04ec8c-f00a-4857-b0be-7e47277bd1a2",
   "metadata": {},
   "source": [
    "- Add 10 and 5\n",
    "- Subtract 7 from 20\n",
    "- Multiply 4 by 6\n",
    "- Divide 20 by 4"
   ]
  },
  {
   "cell_type": "code",
   "execution_count": 36,
   "id": "24779953-a781-4367-94cb-dde6b6c49f1d",
   "metadata": {},
   "outputs": [],
   "source": [
    "add=10+5"
   ]
  },
  {
   "cell_type": "code",
   "execution_count": 38,
   "id": "07e9ad67-4b6f-4bbf-b894-3812c7490cdc",
   "metadata": {},
   "outputs": [
    {
     "data": {
      "text/plain": [
       "15"
      ]
     },
     "execution_count": 38,
     "metadata": {},
     "output_type": "execute_result"
    }
   ],
   "source": [
    "add"
   ]
  },
  {
   "cell_type": "code",
   "execution_count": 40,
   "id": "1936049b-6560-41f9-9122-3550184fb001",
   "metadata": {},
   "outputs": [],
   "source": [
    "sub=7-20"
   ]
  },
  {
   "cell_type": "code",
   "execution_count": 42,
   "id": "85471669-148c-471c-8717-b18398e5f67b",
   "metadata": {},
   "outputs": [
    {
     "data": {
      "text/plain": [
       "-13"
      ]
     },
     "execution_count": 42,
     "metadata": {},
     "output_type": "execute_result"
    }
   ],
   "source": [
    "sub"
   ]
  },
  {
   "cell_type": "markdown",
   "id": "5b1fac1e-a7f3-41a8-affd-12aa633f318e",
   "metadata": {},
   "source": [
    "Use floor division and modulus to divide 17 by 5 and print the results."
   ]
  },
  {
   "cell_type": "code",
   "execution_count": 44,
   "id": "f6d0ae15-2e98-46a4-b084-eb013170d244",
   "metadata": {},
   "outputs": [],
   "source": [
    "mul=6*4"
   ]
  },
  {
   "cell_type": "code",
   "execution_count": 46,
   "id": "ba1a5bf1-6d37-47a5-996b-552c6d02edb8",
   "metadata": {},
   "outputs": [
    {
     "data": {
      "text/plain": [
       "24"
      ]
     },
     "execution_count": 46,
     "metadata": {},
     "output_type": "execute_result"
    }
   ],
   "source": [
    "mul"
   ]
  },
  {
   "cell_type": "code",
   "execution_count": 48,
   "id": "b69d954f-c5a7-4ae8-b3be-90769e870bff",
   "metadata": {},
   "outputs": [],
   "source": [
    "divide=20/4"
   ]
  },
  {
   "cell_type": "code",
   "execution_count": 50,
   "id": "abfc3f10-785f-4b3b-bafc-bc3285935daa",
   "metadata": {},
   "outputs": [
    {
     "data": {
      "text/plain": [
       "5.0"
      ]
     },
     "execution_count": 50,
     "metadata": {},
     "output_type": "execute_result"
    }
   ],
   "source": [
    "divide"
   ]
  },
  {
   "cell_type": "markdown",
   "id": "0221ae63-d611-4ecc-96b2-805875cbc51a",
   "metadata": {},
   "source": [
    "Write a script that checks if a number is positive, negative, or zero and prints an appropriate message."
   ]
  },
  {
   "cell_type": "code",
   "execution_count": 54,
   "id": "f29969e3-e5b3-40a1-b35f-1490991d132b",
   "metadata": {},
   "outputs": [
    {
     "name": "stdout",
     "output_type": "stream",
     "text": [
      "a is positive\n"
     ]
    }
   ],
   "source": [
    "a=10\n",
    "if a<0:\n",
    "    print(\"a is negative number\")\n",
    "elif a==0:\n",
    "    print(\"a  is equal to 0\")\n",
    "else:\n",
    "    print(\"a is positive\")"
   ]
  },
  {
   "cell_type": "code",
   "execution_count": null,
   "id": "1c032ac0-6e58-4833-812d-bb06110ca877",
   "metadata": {},
   "outputs": [],
   "source": []
  },
  {
   "cell_type": "markdown",
   "id": "95e2f912-6df9-408c-9266-e360503d6c99",
   "metadata": {},
   "source": [
    "Create a nested if-else statement that checks if a number is even or odd and then checks if it is greater than 10 or not."
   ]
  },
  {
   "cell_type": "code",
   "execution_count": 3,
   "id": "fb33c4eb-5d52-4136-84d5-d24597fc3375",
   "metadata": {},
   "outputs": [
    {
     "name": "stdout",
     "output_type": "stream",
     "text": [
      "odd number\n",
      " a is greater than 10\n"
     ]
    }
   ],
   "source": [
    "a=25\n",
    "if a%2==0:\n",
    "    print(\"even number\")\n",
    "    if a>10:\n",
    "        print(\"a is greater than 10\")\n",
    "    else:\n",
    "        print(\"a is less than 10\")\n",
    "else:\n",
    "    print(\"odd number\")\n",
    "    if a>10:\n",
    "        print(\" a is greater than 10\")\n",
    "    else:\n",
    "        print(\"a is less than 10\")"
   ]
  },
  {
   "cell_type": "markdown",
   "id": "7bbbd6ae-ce14-4886-bd76-d9dc84015712",
   "metadata": {},
   "source": [
    "Use a for loop to print each element in the list `[10, 20, 30, 40, 50]`."
   ]
  },
  {
   "cell_type": "code",
   "execution_count": 60,
   "id": "e84dd840-0b68-4588-b632-1866d5252dd0",
   "metadata": {},
   "outputs": [
    {
     "name": "stdout",
     "output_type": "stream",
     "text": [
      "10\n",
      "20\n",
      "30\n",
      "40\n",
      "50\n"
     ]
    }
   ],
   "source": [
    "list2=[10,20,30,40,50]\n",
    "for x in list2:\n",
    "    print(x)"
   ]
  },
  {
   "cell_type": "markdown",
   "id": "58725c2c-8df8-41fc-8c8a-de60e0f9f573",
   "metadata": {},
   "source": [
    "Write a while loop that prints numbers from 1 to 5."
   ]
  },
  {
   "cell_type": "code",
   "execution_count": 62,
   "id": "30efa004-e154-4b63-8120-e515da66da86",
   "metadata": {},
   "outputs": [
    {
     "name": "stdout",
     "output_type": "stream",
     "text": [
      "1\n",
      "2\n",
      "3\n",
      "4\n",
      "5\n"
     ]
    }
   ],
   "source": [
    "a=1\n",
    "while a<=5:\n",
    "    print(a)\n",
    "    a=a+1"
   ]
  },
  {
   "cell_type": "markdown",
   "id": "f86e3cda-15f7-4642-803e-99e19c678e16",
   "metadata": {},
   "source": [
    "Write a function `greet` that takes a name as an argument and prints \"Hello, [name]!\"."
   ]
  },
  {
   "cell_type": "code",
   "execution_count": 70,
   "id": "94d07271-0663-4c86-9b91-b1dff652f4f4",
   "metadata": {},
   "outputs": [],
   "source": [
    "def greet(fname):\n",
    "    print(\"Hello  \"+fname)"
   ]
  },
  {
   "cell_type": "code",
   "execution_count": 72,
   "id": "fc524f21-72f4-4fc8-9803-9286dbf03517",
   "metadata": {},
   "outputs": [
    {
     "name": "stdout",
     "output_type": "stream",
     "text": [
      "Hello  Rosan \n"
     ]
    }
   ],
   "source": [
    "greet(\"Rosan \")"
   ]
  },
  {
   "cell_type": "markdown",
   "id": "bd58d8cb-3b15-47e1-87e8-e4dcc76a5140",
   "metadata": {},
   "source": [
    "Create a function `factorial` that takes a number as an argument and returns its factorial."
   ]
  },
  {
   "cell_type": "code",
   "execution_count": 11,
   "id": "b70fc6c8-9a15-4a0a-953e-55ab21008719",
   "metadata": {},
   "outputs": [
    {
     "data": {
      "text/plain": [
       "120"
      ]
     },
     "execution_count": 11,
     "metadata": {},
     "output_type": "execute_result"
    }
   ],
   "source": [
    "def factorial(num):\n",
    "    fact=1\n",
    "    for i in range(1,num+1):\n",
    "         fact=fact*i\n",
    "    return fact\n",
    "factorial(5)  "
   ]
  },
  {
   "cell_type": "markdown",
   "id": "1703c9ba-34b6-46d5-9c24-125ff4cd24fb",
   "metadata": {},
   "source": [
    "Define a class `Book` with attributes `title` and `author`. Include a method `display_info` that prints the book's title and author."
   ]
  },
  {
   "cell_type": "code",
   "execution_count": 26,
   "id": "195d7300-887a-494a-98b6-7c83321b26ae",
   "metadata": {},
   "outputs": [],
   "source": [
    "class Book:\n",
    "  def  __init__(self,title,author):\n",
    "      self.title=title\n",
    "      author.author=author\n",
    "  def display_info(self):\n",
    "      print(f\"title:{self.title},author:{self.author}\")\n",
    "          \n",
    " "
   ]
  },
  {
   "cell_type": "markdown",
   "id": "979d0427-f8cf-4508-9153-cdb236d00a4c",
   "metadata": {},
   "source": [
    "Create an instance of the `Book` class and call the `display_info` method."
   ]
  },
  {
   "cell_type": "code",
   "execution_count": 28,
   "id": "8c4fa12f-3a61-4cc4-a430-1f52917e6fc6",
   "metadata": {},
   "outputs": [
    {
     "ename": "AttributeError",
     "evalue": "'str' object has no attribute 'author'",
     "output_type": "error",
     "traceback": [
      "\u001b[1;31m---------------------------------------------------------------------------\u001b[0m",
      "\u001b[1;31mAttributeError\u001b[0m                            Traceback (most recent call last)",
      "Cell \u001b[1;32mIn[28], line 1\u001b[0m\n\u001b[1;32m----> 1\u001b[0m b\u001b[38;5;241m=\u001b[39mBook(\u001b[38;5;124m\"\u001b[39m\u001b[38;5;124mpython programming\u001b[39m\u001b[38;5;124m\"\u001b[39m,\u001b[38;5;124m\"\u001b[39m\u001b[38;5;124mhello\u001b[39m\u001b[38;5;124m\"\u001b[39m)\n\u001b[0;32m      2\u001b[0m b\u001b[38;5;241m.\u001b[39mdisplay_info()\n",
      "Cell \u001b[1;32mIn[26], line 4\u001b[0m, in \u001b[0;36mBook.__init__\u001b[1;34m(self, title, author)\u001b[0m\n\u001b[0;32m      2\u001b[0m \u001b[38;5;28;01mdef\u001b[39;00m  \u001b[38;5;21m__init__\u001b[39m(\u001b[38;5;28mself\u001b[39m,title,author):\n\u001b[0;32m      3\u001b[0m     \u001b[38;5;28mself\u001b[39m\u001b[38;5;241m.\u001b[39mtitle\u001b[38;5;241m=\u001b[39mtitle\n\u001b[1;32m----> 4\u001b[0m     author\u001b[38;5;241m.\u001b[39mauthor\u001b[38;5;241m=\u001b[39mauthor\n",
      "\u001b[1;31mAttributeError\u001b[0m: 'str' object has no attribute 'author'"
     ]
    }
   ],
   "source": [
    "b=Book(\"python programming\",\"hello\")\n",
    "b.display_info()"
   ]
  },
  {
   "cell_type": "markdown",
   "id": "560047c6-8f1c-48f1-ad0c-b0c3f1de7849",
   "metadata": {},
   "source": [
    "Create a list of integers from 1 to 10. Use list comprehension to create a new list containing the squares of these integers."
   ]
  },
  {
   "cell_type": "code",
   "execution_count": 7,
   "id": "813b5a48-66eb-4ac2-9d36-93a02c4a208e",
   "metadata": {},
   "outputs": [
    {
     "data": {
      "text/plain": [
       "[1, 4, 9, 16, 25, 36, 49, 64, 81, 100]"
      ]
     },
     "execution_count": 7,
     "metadata": {},
     "output_type": "execute_result"
    }
   ],
   "source": [
    "list1=[1,2,3,4,5,6,7,8,9,10]\n",
    "square_number=[x*x for x in list1]\n",
    "square_number"
   ]
  },
  {
   "cell_type": "markdown",
   "id": "5a7c0847-6eaf-4cea-956d-a23010c2d9a0",
   "metadata": {},
   "source": [
    "Append the number 11 to the list and print the updated list."
   ]
  },
  {
   "cell_type": "code",
   "execution_count": 9,
   "id": "b988e44d-bcaf-42ca-96bd-c9d990779fa4",
   "metadata": {},
   "outputs": [
    {
     "data": {
      "text/plain": [
       "[12, 34, 15, 16, 17, 18, 19, 20, 21]"
      ]
     },
     "execution_count": 9,
     "metadata": {},
     "output_type": "execute_result"
    }
   ],
   "source": [
    "list2=[1,23,4,5,6,7,8,9,10]\n",
    "new_list= [num+11 for num in list2]\n",
    "new_list"
   ]
  },
  {
   "cell_type": "markdown",
   "id": "06a5edd9-bcda-4e16-867c-0baa019d7e4f",
   "metadata": {},
   "source": [
    "Create a tuple with the numbers 1, 2, and 3. Access and print the second element in the tuple."
   ]
  },
  {
   "cell_type": "code",
   "execution_count": 13,
   "id": "be811c42-7c89-4874-9786-bc3ae1ef83b2",
   "metadata": {},
   "outputs": [
    {
     "data": {
      "text/plain": [
       "2"
      ]
     },
     "execution_count": 13,
     "metadata": {},
     "output_type": "execute_result"
    }
   ],
   "source": [
    "tuple1=(1,2,3)\n",
    "tuple1[1]"
   ]
  },
  {
   "cell_type": "markdown",
   "id": "f8cfeb33-a800-4247-ad00-3909acfd0194",
   "metadata": {},
   "source": [
    "Try to change the value of the first element and observe what happens."
   ]
  },
  {
   "cell_type": "code",
   "execution_count": 15,
   "id": "0f7e9e47-cb4d-4bcd-9097-eb21bcb6d94b",
   "metadata": {},
   "outputs": [
    {
     "ename": "TypeError",
     "evalue": "'tuple' object does not support item assignment",
     "output_type": "error",
     "traceback": [
      "\u001b[1;31m---------------------------------------------------------------------------\u001b[0m",
      "\u001b[1;31mTypeError\u001b[0m                                 Traceback (most recent call last)",
      "Cell \u001b[1;32mIn[15], line 1\u001b[0m\n\u001b[1;32m----> 1\u001b[0m tuple1[\u001b[38;5;241m0\u001b[39m]\u001b[38;5;241m=\u001b[39m\u001b[38;5;241m6\u001b[39m\n",
      "\u001b[1;31mTypeError\u001b[0m: 'tuple' object does not support item assignment"
     ]
    }
   ],
   "source": [
    "tuple1[0]=6#this gives an error\n"
   ]
  },
  {
   "cell_type": "markdown",
   "id": "3fc310e1-4d59-427e-bfac-fcb27f678354",
   "metadata": {},
   "source": [
    "Create a dictionary with keys as names of three students and values as their scores. Print the score of a specific student."
   ]
  },
  {
   "cell_type": "code",
   "execution_count": 19,
   "id": "13fc378d-7a47-4397-bfff-81853c5488d0",
   "metadata": {},
   "outputs": [
    {
     "data": {
      "text/plain": [
       "85"
      ]
     },
     "execution_count": 19,
     "metadata": {},
     "output_type": "execute_result"
    }
   ],
   "source": [
    "dict1={\n",
    "    'Rosan':90,\n",
    "    'sneha':85,\n",
    "    'Ram':60}\n",
    "dict1['sneha']"
   ]
  },
  {
   "cell_type": "markdown",
   "id": "2d0dccc3-8d02-4079-b33f-ebe886fa2601",
   "metadata": {},
   "source": [
    "Add a new student to the dictionary and update the score of an existing student."
   ]
  },
  {
   "cell_type": "code",
   "execution_count": 25,
   "id": "165a886f-9203-41cc-a102-f91c026d0d82",
   "metadata": {},
   "outputs": [
    {
     "data": {
      "text/plain": [
       "{'Rosan': 90, 'sneha': 66, 'Ram': 60, 'prince': 89}"
      ]
     },
     "execution_count": 25,
     "metadata": {},
     "output_type": "execute_result"
    }
   ],
   "source": [
    "dict1['prince']=89\n",
    "dict1['sneha']=66\n",
    "dict1"
   ]
  },
  {
   "cell_type": "markdown",
   "id": "88c182bc-013a-47c6-a739-943d67483494",
   "metadata": {},
   "source": [
    "Import NumPy and create an array with numbers from 1 to 10."
   ]
  },
  {
   "cell_type": "code",
   "execution_count": 31,
   "id": "f875a81f-4e27-48b8-b6ba-cfb0930ffd5f",
   "metadata": {},
   "outputs": [
    {
     "ename": "TypeError",
     "evalue": "'builtin_function_or_method' object is not subscriptable",
     "output_type": "error",
     "traceback": [
      "\u001b[1;31m---------------------------------------------------------------------------\u001b[0m",
      "\u001b[1;31mTypeError\u001b[0m                                 Traceback (most recent call last)",
      "Cell \u001b[1;32mIn[31], line 2\u001b[0m\n\u001b[0;32m      1\u001b[0m \u001b[38;5;28;01mimport\u001b[39;00m \u001b[38;5;21;01mnumpy\u001b[39;00m \u001b[38;5;28;01mas\u001b[39;00m \u001b[38;5;21;01mnp\u001b[39;00m\n\u001b[1;32m----> 2\u001b[0m number\u001b[38;5;241m=\u001b[39mnp\u001b[38;5;241m.\u001b[39marray[\u001b[38;5;241m1\u001b[39m,\u001b[38;5;241m2\u001b[39m,\u001b[38;5;241m3\u001b[39m,\u001b[38;5;241m4\u001b[39m,\u001b[38;5;241m5\u001b[39m,\u001b[38;5;241m6\u001b[39m,\u001b[38;5;241m7\u001b[39m,\u001b[38;5;241m8\u001b[39m,\u001b[38;5;241m9\u001b[39m,\u001b[38;5;241m10\u001b[39m]\n",
      "\u001b[1;31mTypeError\u001b[0m: 'builtin_function_or_method' object is not subscriptable"
     ]
    }
   ],
   "source": [
    "import numpy as np\n",
    "number=np.array[1,2,3,4,5,6,7,8,9,10]"
   ]
  },
  {
   "cell_type": "markdown",
   "id": "c17e2dce-07c3-4cdf-858d-54a4675b519b",
   "metadata": {},
   "source": [
    "Reshape this array to a 2x5 matrix and print it."
   ]
  },
  {
   "cell_type": "code",
   "execution_count": null,
   "id": "ac0cb2dc-336f-416f-b043-d3f85d1acd8b",
   "metadata": {},
   "outputs": [],
   "source": []
  },
  {
   "cell_type": "markdown",
   "id": "9db80db4-02d6-48bd-92a9-fd3eb7b8ebc4",
   "metadata": {},
   "source": [
    "Perform element-wise addition with another array of the same shape."
   ]
  },
  {
   "cell_type": "code",
   "execution_count": null,
   "id": "cfdf5e6e-356b-4f41-afaf-9b7f7d94de52",
   "metadata": {},
   "outputs": [],
   "source": []
  },
  {
   "cell_type": "markdown",
   "id": "c40d4f6d-82f2-4445-88df-e20d5c1eab4b",
   "metadata": {},
   "source": [
    "Import Pandas and create a DataFrame from a dictionary where keys are column names and values are lists of column data."
   ]
  },
  {
   "cell_type": "code",
   "execution_count": null,
   "id": "56f69b80-a1f7-405b-a655-519cb8944416",
   "metadata": {},
   "outputs": [],
   "source": []
  },
  {
   "cell_type": "markdown",
   "id": "82bdf369-d697-4ec6-bd65-82796a5b5f9d",
   "metadata": {},
   "source": [
    "Print the first few rows of the DataFrame."
   ]
  },
  {
   "cell_type": "code",
   "execution_count": null,
   "id": "d56d87e9-6297-45fb-81eb-5aef1ca1df0a",
   "metadata": {},
   "outputs": [],
   "source": []
  },
  {
   "cell_type": "markdown",
   "id": "a7d946cb-c0c8-4f21-8ce7-25cbbe59cd59",
   "metadata": {},
   "source": [
    "Select and print a specific column from the DataFrame."
   ]
  },
  {
   "cell_type": "code",
   "execution_count": null,
   "id": "d2f9d465-9f63-4c5c-ae99-3af113b01c38",
   "metadata": {},
   "outputs": [],
   "source": []
  }
 ],
 "metadata": {
  "kernelspec": {
   "display_name": "Python 3 (ipykernel)",
   "language": "python",
   "name": "python3"
  },
  "language_info": {
   "codemirror_mode": {
    "name": "ipython",
    "version": 3
   },
   "file_extension": ".py",
   "mimetype": "text/x-python",
   "name": "python",
   "nbconvert_exporter": "python",
   "pygments_lexer": "ipython3",
   "version": "3.12.4"
  }
 },
 "nbformat": 4,
 "nbformat_minor": 5
}
