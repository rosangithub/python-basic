{
 "cells": [
  {
   "cell_type": "code",
   "execution_count": 1,
   "id": "611092d9-2ccd-4168-9bd3-5e30038b69c9",
   "metadata": {},
   "outputs": [
    {
     "name": "stdout",
     "output_type": "stream",
     "text": [
      "Mean Squared Error: 0.8157500000000001\n",
      "Feature Importances:\n",
      "age: 0.2989452754736683\n",
      "salary: 0.27644548498897675\n",
      "experience: 0.42460923953735497\n",
      "Predicted Performance: [5.35]\n"
     ]
    }
   ],
   "source": [
    "import numpy as np\n",
    "from sklearn.preprocessing import StandardScaler\n",
    "from sklearn.model_selection import train_test_split\n",
    "from sklearn.ensemble import RandomForestRegressor\n",
    "from sklearn.metrics import mean_squared_error\n",
    "\n",
    "# Define the employee data\n",
    "employee_data = np.array([\n",
    "    [28, 50000, 4],\n",
    "    [32, 60000, 7],\n",
    "    [25, 45000, 2],\n",
    "    [30, 55000, 5],\n",
    "    [35, 70000, 9],\n",
    "    [27, 48000, 3],\n",
    "    [29, 52000, 6],\n",
    "    [31, 58000, 8],\n",
    "    [26, 46000, 1],\n",
    "    [33, 65000, 10],\n",
    "    [22, 38000, 3],   # Age 22, salary 38000, experience 3 years\n",
    "    [24, 42000, 1],   # Age 24, salary 42000, experience 1 year\n",
    "    [23, 40000, 2],   # Age 23, salary 40000, experience 2 years\n",
    "    [36, 72000, 11],  # Age 36, salary 72000, experience 11 years\n",
    "    [34, 67000, 9],   # Age 34, salary 67000, experience 9 years\n",
    "    [21, 36000, 2],   # Age 21, salary 36000, experience 2 years\n",
    "    [20, 34000, 1],   # Age 20, salary 34000, experience 1 year\n",
    "    [25, 46000, 4],   # Age 25, salary 46000, experience 4 years\n",
    "    [31, 60000, 8],   # Age 31, salary 60000, experience 8 years\n",
    "    [29, 52000, 6] \n",
    "])\n",
    "\n",
    "# Define feature names\n",
    "feature_names = ['age', 'salary', 'experience']\n",
    "\n",
    "# Create labels\n",
    "labels = np.array([8, 7, 6, 9, 8, 6, 7, 8, 5, 9,\n",
    "                   7, 6, 5, 8, 7, 5, 4, 6, 8, 7])  # Assuming 'performance' as the target variable\n",
    "\n",
    "# Split data into training and testing sets\n",
    "X_train, X_test, y_train, y_test = train_test_split(employee_data, labels, test_size=0.2, random_state=42)\n",
    "\n",
    "# Initialize StandardScaler\n",
    "scaler = StandardScaler()\n",
    "\n",
    "# Fit and transform the training data\n",
    "X_train_scaled = scaler.fit_transform(X_train)\n",
    "\n",
    "# Transform the test data (using the same scaler fitted on training data)\n",
    "X_test_scaled = scaler.transform(X_test)\n",
    "\n",
    "# Initialize RandomForestRegressor for predicting continuous \"experience\"\n",
    "regressor = RandomForestRegressor(n_estimators=100, random_state=42)\n",
    "\n",
    "# Fit the regressor to the training data\n",
    "regressor.fit(X_train_scaled, y_train)\n",
    "\n",
    "# Predict \"experience\" on the test data\n",
    "y_pred = regressor.predict(X_test_scaled)\n",
    "\n",
    "# Evaluate the model using Mean Squared Error\n",
    "mse = mean_squared_error(y_test, y_pred)\n",
    "print(f\"Mean Squared Error: {mse}\")\n",
    "\n",
    "# Print feature importances based on RandomForestRegressor\n",
    "print(\"Feature Importances:\")\n",
    "for feature, importance in zip(feature_names, regressor.feature_importances_):\n",
    "    print(f\"{feature}: {importance}\")\n",
    "\n",
    "# Example prediction for a new data point (if needed)\n",
    "new_data_point = np.array([[26, 46000, 1]])  # Example new data point (age, salary, performance)\n",
    "predicted_performance = regressor.predict(scaler.transform(new_data_point))\n",
    "print(f\"Predicted Performance: {predicted_performance}\")"
   ]
  },
  {
   "cell_type": "code",
   "execution_count": 3,
   "id": "006982fb-2e3b-4e59-9cbb-ccc2ce5e43e0",
   "metadata": {},
   "outputs": [],
   "source": [
    "import numpy as np"
   ]
  },
  {
   "cell_type": "code",
   "execution_count": 11,
   "id": "547f2269-e7df-486b-a4b5-518e124cec66",
   "metadata": {},
   "outputs": [],
   "source": [
    "arr= np.array([[[1,2,3,4],[5,6,7,8]]])\n"
   ]
  },
  {
   "cell_type": "code",
   "execution_count": 15,
   "id": "51294e63-1c92-4236-a77b-c0a2d4cdbe5a",
   "metadata": {},
   "outputs": [
    {
     "data": {
      "text/plain": [
       "(1, 2, 4)"
      ]
     },
     "execution_count": 15,
     "metadata": {},
     "output_type": "execute_result"
    }
   ],
   "source": [
    "arr.shape"
   ]
  },
  {
   "cell_type": "code",
   "execution_count": 23,
   "id": "58b22131-867c-43d0-b32b-38a0d105f897",
   "metadata": {},
   "outputs": [],
   "source": [
    "arr=np.arange(15)"
   ]
  },
  {
   "cell_type": "code",
   "execution_count": 25,
   "id": "57f7cb90-0677-49a6-b9a9-131366957e01",
   "metadata": {},
   "outputs": [
    {
     "data": {
      "text/plain": [
       "array([ 0,  1,  2,  3,  4,  5,  6,  7,  8,  9, 10, 11, 12, 13, 14])"
      ]
     },
     "execution_count": 25,
     "metadata": {},
     "output_type": "execute_result"
    }
   ],
   "source": [
    "arr"
   ]
  },
  {
   "cell_type": "code",
   "execution_count": 31,
   "id": "cc47faa0-17a2-4747-b8f1-7977039f344e",
   "metadata": {},
   "outputs": [],
   "source": [
    "d=arr.reshape(1,3,5)"
   ]
  },
  {
   "cell_type": "code",
   "execution_count": 33,
   "id": "b534fa70-b2a8-4a78-bebe-46d69474f083",
   "metadata": {},
   "outputs": [
    {
     "data": {
      "text/plain": [
       "array([[[ 0,  1,  2,  3,  4],\n",
       "        [ 5,  6,  7,  8,  9],\n",
       "        [10, 11, 12, 13, 14]]])"
      ]
     },
     "execution_count": 33,
     "metadata": {},
     "output_type": "execute_result"
    }
   ],
   "source": [
    "d"
   ]
  },
  {
   "cell_type": "code",
   "execution_count": 35,
   "id": "6fd36c9b-b417-4408-bdb5-1651c8c35c39",
   "metadata": {},
   "outputs": [
    {
     "data": {
      "text/plain": [
       "array([ 0,  1,  2,  3,  4,  5,  6,  7,  8,  9, 10, 11, 12, 13, 14])"
      ]
     },
     "execution_count": 35,
     "metadata": {},
     "output_type": "execute_result"
    }
   ],
   "source": [
    "d.flatten()"
   ]
  },
  {
   "cell_type": "code",
   "execution_count": 37,
   "id": "47694336-f26a-4c20-a0af-fec25059eb76",
   "metadata": {},
   "outputs": [
    {
     "data": {
      "text/plain": [
       "array([[[ 0,  1,  2,  3,  4],\n",
       "        [ 5,  6,  7,  8,  9],\n",
       "        [10, 11, 12, 13, 14]]])"
      ]
     },
     "execution_count": 37,
     "metadata": {},
     "output_type": "execute_result"
    }
   ],
   "source": [
    "d"
   ]
  },
  {
   "cell_type": "code",
   "execution_count": 39,
   "id": "dd829078-34c9-47b1-a674-da3486b504c5",
   "metadata": {},
   "outputs": [
    {
     "data": {
      "text/plain": [
       "(1, 3, 5)"
      ]
     },
     "execution_count": 39,
     "metadata": {},
     "output_type": "execute_result"
    }
   ],
   "source": [
    "d.shape"
   ]
  },
  {
   "cell_type": "code",
   "execution_count": 43,
   "id": "976937da-d836-4c67-82cd-02924334ad47",
   "metadata": {},
   "outputs": [
    {
     "data": {
      "text/plain": [
       "array([], shape=(0, 3, 5), dtype=int32)"
      ]
     },
     "execution_count": 43,
     "metadata": {},
     "output_type": "execute_result"
    }
   ],
   "source": [
    "d[2:1]"
   ]
  },
  {
   "cell_type": "code",
   "execution_count": 45,
   "id": "e586fba5-f373-4e28-9d96-c57be6620ecc",
   "metadata": {},
   "outputs": [
    {
     "data": {
      "text/plain": [
       "array([[[ 0,  1,  2,  3,  4],\n",
       "        [ 5,  6,  7,  8,  9],\n",
       "        [10, 11, 12, 13, 14]]])"
      ]
     },
     "execution_count": 45,
     "metadata": {},
     "output_type": "execute_result"
    }
   ],
   "source": [
    "d"
   ]
  },
  {
   "cell_type": "code",
   "execution_count": 47,
   "id": "eaf90176-df49-432e-a946-20ea6678cac4",
   "metadata": {},
   "outputs": [
    {
     "data": {
      "text/plain": [
       "array([], shape=(0, 3, 5), dtype=int32)"
      ]
     },
     "execution_count": 47,
     "metadata": {},
     "output_type": "execute_result"
    }
   ],
   "source": [
    "d[2:1]"
   ]
  },
  {
   "cell_type": "code",
   "execution_count": 49,
   "id": "a8e9832d-8a2e-40ce-8bc7-5a7d45d4a01a",
   "metadata": {},
   "outputs": [],
   "source": [
    "arr=d"
   ]
  },
  {
   "cell_type": "code",
   "execution_count": 51,
   "id": "b75fb8d7-8161-4312-a1c5-a61f22f133ba",
   "metadata": {},
   "outputs": [
    {
     "data": {
      "text/plain": [
       "array([[[ 0,  1,  2,  3,  4],\n",
       "        [ 5,  6,  7,  8,  9],\n",
       "        [10, 11, 12, 13, 14]]])"
      ]
     },
     "execution_count": 51,
     "metadata": {},
     "output_type": "execute_result"
    }
   ],
   "source": [
    "arr"
   ]
  },
  {
   "cell_type": "code",
   "execution_count": 53,
   "id": "61f025fa-03b6-47ab-a128-fbbacdc4c84b",
   "metadata": {},
   "outputs": [
    {
     "data": {
      "text/plain": [
       "array([[ 0,  1,  2,  3,  4],\n",
       "       [ 5,  6,  7,  8,  9],\n",
       "       [10, 11, 12, 13, 14]])"
      ]
     },
     "execution_count": 53,
     "metadata": {},
     "output_type": "execute_result"
    }
   ],
   "source": [
    "arr[0]"
   ]
  },
  {
   "cell_type": "code",
   "execution_count": 67,
   "id": "d6a3d388-d813-4a30-8d4f-feae7680914b",
   "metadata": {},
   "outputs": [
    {
     "data": {
      "text/plain": [
       "(1, 3, 5)"
      ]
     },
     "execution_count": 67,
     "metadata": {},
     "output_type": "execute_result"
    }
   ],
   "source": [
    "arr.shape\n",
    "\n"
   ]
  },
  {
   "cell_type": "code",
   "execution_count": 71,
   "id": "b86c5774-052e-4c03-a4c7-c5852f93149d",
   "metadata": {},
   "outputs": [
    {
     "data": {
      "text/plain": [
       "array([2, 3])"
      ]
     },
     "execution_count": 71,
     "metadata": {},
     "output_type": "execute_result"
    }
   ],
   "source": [
    "arr[0,0,2:-1]"
   ]
  },
  {
   "cell_type": "code",
   "execution_count": 77,
   "id": "2e8780bb-a1de-4410-bfe6-53ad9505bded",
   "metadata": {},
   "outputs": [
    {
     "data": {
      "text/plain": [
       "array([8, 9])"
      ]
     },
     "execution_count": 77,
     "metadata": {},
     "output_type": "execute_result"
    }
   ],
   "source": [
    "arr[0,1,3:5]"
   ]
  },
  {
   "cell_type": "code",
   "execution_count": 88,
   "id": "23f447c5-f6b3-48ad-8a5d-8379884ef302",
   "metadata": {},
   "outputs": [
    {
     "data": {
      "text/plain": [
       "array([[[ 0,  1,  2,  3,  4],\n",
       "        [ 5,  6,  7,  8,  9],\n",
       "        [10, 11, 12, 13, 14]]])"
      ]
     },
     "execution_count": 88,
     "metadata": {},
     "output_type": "execute_result"
    }
   ],
   "source": [
    "d"
   ]
  },
  {
   "cell_type": "code",
   "execution_count": 92,
   "id": "65ead3ca-b872-464f-9277-9630cd08cc9b",
   "metadata": {},
   "outputs": [
    {
     "data": {
      "text/plain": [
       "array([[ 6,  7,  8],\n",
       "       [11, 12, 13]])"
      ]
     },
     "execution_count": 92,
     "metadata": {},
     "output_type": "execute_result"
    }
   ],
   "source": [
    "d[0,1:3,1:-1]"
   ]
  },
  {
   "cell_type": "code",
   "execution_count": 94,
   "id": "7abf25fb-4e82-48a5-818a-174eb3744d61",
   "metadata": {},
   "outputs": [
    {
     "data": {
      "text/plain": [
       "array([[ 5,  6,  7,  8,  9],\n",
       "       [10, 11, 12, 13, 14]])"
      ]
     },
     "execution_count": 94,
     "metadata": {},
     "output_type": "execute_result"
    }
   ],
   "source": [
    "d[0,1:3]"
   ]
  },
  {
   "cell_type": "code",
   "execution_count": 96,
   "id": "42f2a18f-1bea-43ad-8f8e-697cb9b23905",
   "metadata": {},
   "outputs": [
    {
     "data": {
      "text/plain": [
       "array([[[ 0,  1,  2,  3,  4],\n",
       "        [ 5,  6,  7,  8,  9],\n",
       "        [10, 11, 12, 13, 14]]])"
      ]
     },
     "execution_count": 96,
     "metadata": {},
     "output_type": "execute_result"
    }
   ],
   "source": [
    "arr"
   ]
  },
  {
   "cell_type": "code",
   "execution_count": 98,
   "id": "49517c15-c771-4607-8584-bfbad6b1254f",
   "metadata": {},
   "outputs": [
    {
     "data": {
      "text/plain": [
       "array([[[ 0,  1,  2,  3,  4],\n",
       "        [ 5,  6,  7,  8,  9],\n",
       "        [10, 11, 12, 13, 14]]])"
      ]
     },
     "execution_count": 98,
     "metadata": {},
     "output_type": "execute_result"
    }
   ],
   "source": [
    "d"
   ]
  },
  {
   "cell_type": "code",
   "execution_count": 102,
   "id": "3a1b2fa6-ee86-42a0-8176-692e4a529b88",
   "metadata": {},
   "outputs": [
    {
     "data": {
      "text/plain": [
       "array([[ 7,  8],\n",
       "       [12, 13]])"
      ]
     },
     "execution_count": 102,
     "metadata": {},
     "output_type": "execute_result"
    }
   ],
   "source": [
    "d[0,1:3,2:4]"
   ]
  },
  {
   "cell_type": "code",
   "execution_count": 104,
   "id": "71dbbb6d-60be-4abf-a72a-a589fd5a188a",
   "metadata": {},
   "outputs": [],
   "source": [
    "arr1=np.arange(120)"
   ]
  },
  {
   "cell_type": "code",
   "execution_count": 106,
   "id": "f9c094a2-e115-4124-9338-f2bef69afc59",
   "metadata": {},
   "outputs": [
    {
     "data": {
      "text/plain": [
       "array([  0,   1,   2,   3,   4,   5,   6,   7,   8,   9,  10,  11,  12,\n",
       "        13,  14,  15,  16,  17,  18,  19,  20,  21,  22,  23,  24,  25,\n",
       "        26,  27,  28,  29,  30,  31,  32,  33,  34,  35,  36,  37,  38,\n",
       "        39,  40,  41,  42,  43,  44,  45,  46,  47,  48,  49,  50,  51,\n",
       "        52,  53,  54,  55,  56,  57,  58,  59,  60,  61,  62,  63,  64,\n",
       "        65,  66,  67,  68,  69,  70,  71,  72,  73,  74,  75,  76,  77,\n",
       "        78,  79,  80,  81,  82,  83,  84,  85,  86,  87,  88,  89,  90,\n",
       "        91,  92,  93,  94,  95,  96,  97,  98,  99, 100, 101, 102, 103,\n",
       "       104, 105, 106, 107, 108, 109, 110, 111, 112, 113, 114, 115, 116,\n",
       "       117, 118, 119])"
      ]
     },
     "execution_count": 106,
     "metadata": {},
     "output_type": "execute_result"
    }
   ],
   "source": [
    "arr1"
   ]
  },
  {
   "cell_type": "code",
   "execution_count": 108,
   "id": "cb8b4506-8089-4e15-9cc5-d92a67bfa43a",
   "metadata": {},
   "outputs": [],
   "source": [
    "arr2=arr1.reshape(3,4,2,5)"
   ]
  },
  {
   "cell_type": "code",
   "execution_count": 110,
   "id": "9b428865-1e0b-41d7-b44f-3cbcdf720a93",
   "metadata": {},
   "outputs": [
    {
     "data": {
      "text/plain": [
       "array([[[[  0,   1,   2,   3,   4],\n",
       "         [  5,   6,   7,   8,   9]],\n",
       "\n",
       "        [[ 10,  11,  12,  13,  14],\n",
       "         [ 15,  16,  17,  18,  19]],\n",
       "\n",
       "        [[ 20,  21,  22,  23,  24],\n",
       "         [ 25,  26,  27,  28,  29]],\n",
       "\n",
       "        [[ 30,  31,  32,  33,  34],\n",
       "         [ 35,  36,  37,  38,  39]]],\n",
       "\n",
       "\n",
       "       [[[ 40,  41,  42,  43,  44],\n",
       "         [ 45,  46,  47,  48,  49]],\n",
       "\n",
       "        [[ 50,  51,  52,  53,  54],\n",
       "         [ 55,  56,  57,  58,  59]],\n",
       "\n",
       "        [[ 60,  61,  62,  63,  64],\n",
       "         [ 65,  66,  67,  68,  69]],\n",
       "\n",
       "        [[ 70,  71,  72,  73,  74],\n",
       "         [ 75,  76,  77,  78,  79]]],\n",
       "\n",
       "\n",
       "       [[[ 80,  81,  82,  83,  84],\n",
       "         [ 85,  86,  87,  88,  89]],\n",
       "\n",
       "        [[ 90,  91,  92,  93,  94],\n",
       "         [ 95,  96,  97,  98,  99]],\n",
       "\n",
       "        [[100, 101, 102, 103, 104],\n",
       "         [105, 106, 107, 108, 109]],\n",
       "\n",
       "        [[110, 111, 112, 113, 114],\n",
       "         [115, 116, 117, 118, 119]]]])"
      ]
     },
     "execution_count": 110,
     "metadata": {},
     "output_type": "execute_result"
    }
   ],
   "source": [
    "arr2"
   ]
  },
  {
   "cell_type": "code",
   "execution_count": 114,
   "id": "c17629ef-9365-44aa-82be-4ed8ff845fe2",
   "metadata": {},
   "outputs": [
    {
     "data": {
      "text/plain": [
       "array([[[ 0,  1,  2,  3,  4],\n",
       "        [ 5,  6,  7,  8,  9]],\n",
       "\n",
       "       [[10, 11, 12, 13, 14],\n",
       "        [15, 16, 17, 18, 19]],\n",
       "\n",
       "       [[20, 21, 22, 23, 24],\n",
       "        [25, 26, 27, 28, 29]],\n",
       "\n",
       "       [[30, 31, 32, 33, 34],\n",
       "        [35, 36, 37, 38, 39]]])"
      ]
     },
     "execution_count": 114,
     "metadata": {},
     "output_type": "execute_result"
    }
   ],
   "source": [
    "arr2[0]"
   ]
  },
  {
   "cell_type": "code",
   "execution_count": 128,
   "id": "dbbba583-f864-4a99-a3bf-d44ba0e61079",
   "metadata": {},
   "outputs": [],
   "source": [
    "arr1=np.array([[1,2,3],[4,5,6]])"
   ]
  },
  {
   "cell_type": "code",
   "execution_count": 130,
   "id": "99aedf0a-e695-4b45-9ddb-d680b97e0bbd",
   "metadata": {},
   "outputs": [],
   "source": [
    "arr2=np.array([[4,5,6],[1,2,3]])"
   ]
  },
  {
   "cell_type": "code",
   "execution_count": 136,
   "id": "77e94d4a-6cdb-480e-9c28-80cd2af94c94",
   "metadata": {},
   "outputs": [],
   "source": [
    "a=np.concatenate((arr1,arr2),axis=0)"
   ]
  },
  {
   "cell_type": "code",
   "execution_count": 138,
   "id": "44a9907b-3fe5-4405-b0b5-267065cf59da",
   "metadata": {},
   "outputs": [
    {
     "data": {
      "text/plain": [
       "array([[1, 2, 3],\n",
       "       [4, 5, 6],\n",
       "       [4, 5, 6],\n",
       "       [1, 2, 3]])"
      ]
     },
     "execution_count": 138,
     "metadata": {},
     "output_type": "execute_result"
    }
   ],
   "source": [
    "a"
   ]
  },
  {
   "cell_type": "code",
   "execution_count": null,
   "id": "b98deebf-a25d-4ff6-a5ed-cfc46ef01016",
   "metadata": {},
   "outputs": [],
   "source": []
  }
 ],
 "metadata": {
  "kernelspec": {
   "display_name": "Python 3 (ipykernel)",
   "language": "python",
   "name": "python3"
  },
  "language_info": {
   "codemirror_mode": {
    "name": "ipython",
    "version": 3
   },
   "file_extension": ".py",
   "mimetype": "text/x-python",
   "name": "python",
   "nbconvert_exporter": "python",
   "pygments_lexer": "ipython3",
   "version": "3.12.4"
  }
 },
 "nbformat": 4,
 "nbformat_minor": 5
}
