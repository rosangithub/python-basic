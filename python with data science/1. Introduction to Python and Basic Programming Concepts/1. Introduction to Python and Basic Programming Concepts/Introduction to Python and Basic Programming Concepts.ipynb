{
 "cells": [
  {
   "cell_type": "markdown",
   "id": "20b78f70-97f3-4be8-80ab-60cf37d1de7a",
   "metadata": {},
   "source": [
    "#### Python has become the predominant language in the field of Artificial Intelligence (AI) and Machine Learning (ML), and for several compelling reasons:\n",
    "![python](ai_ml_python.png)\n",
    "\n",
    "1. **Extensive Libraries and Frameworks:**\n",
    "   - Python offers a rich ecosystem of libraries and frameworks dedicated to AI/ML, such as TensorFlow, PyTorch, scikit-learn, and Keras.\n",
    "   - These libraries provide pre-built functions and modules for various AI/ML tasks, making development more efficient.\n",
    "\n",
    "2. **Ease of Learning and Readability:**\n",
    "   - Python's syntax is clear and readable, making it accessible for beginners and experienced developers alike.\n",
    "   - Its simplicity accelerates the learning curve, enabling rapid prototyping and experimentation.\n",
    "\n",
    "3. **Community and Documentation:**\n",
    "   - Python has a vast and active community of developers and researchers contributing to AI/ML.\n",
    "   - Extensive documentation and community support ensure that developers can find solutions to problems quickly.\n",
    "\n",
    "4. **Versatility:**\n",
    "   - Python is a versatile language suitable for a wide range of applications, from web development to data analysis and machine learning.\n",
    "   - This versatility makes it easy to integrate AI/ML components into larger systems and projects.\n",
    "\n",
    "5. **Integration with Other Technologies:**\n",
    "   - Python seamlessly integrates with other technologies, facilitating the incorporation of AI/ML into diverse software ecosystems.\n",
    "   - It can be easily combined with databases, web frameworks, and cloud services.\n",
    "\n",
    "6. **Open Source and Collaboration:**\n",
    "   - Python's open-source nature encourages collaboration and knowledge sharing within the AI/ML community.\n",
    "   - Researchers and practitioners can contribute to the development of AI algorithms and tools.\n",
    "\n",
    "7. **Strong Industry Adoption:**\n",
    "   - Many major tech companies, including Google, Facebook, and Microsoft, use Python for AI/ML development.\n",
    "   - Industry-standard tools and frameworks are often implemented in Python."
   ]
  },
  {
   "cell_type": "markdown",
   "id": "7f69bd15-da0f-4fb2-98fd-8b99ef4d1a20",
   "metadata": {},
   "source": [
    "### ----------------------------------------------------------------------------------------"
   ]
  },
  {
   "cell_type": "markdown",
   "id": "69382f87-4293-4ad9-b7e0-6ee9962c1993",
   "metadata": {},
   "source": [
    "![python_intro](python.jpg)"
   ]
  },
  {
   "cell_type": "markdown",
   "id": "9cc8c4ae-cc85-4f65-9870-49de2562db09",
   "metadata": {},
   "source": [
    "### ----------------------------------------------------------------------------------------"
   ]
  },
  {
   "attachments": {},
   "cell_type": "markdown",
   "id": "5468069e-374a-4a0f-bc25-e0548e15b356",
   "metadata": {},
   "source": [
    "#### Python's syntax is designed to be clear, concise, and readable, emphasizing readability and simplicity. Here are some key aspects of Python's syntax:\r\n",
    "\r\n",
    "1. **Indentation:**\r\n",
    "   - Python uses indentation to define blocks of code instead of braces or keywords like \"begin\" and \"end\" in other languages.\r\n",
    "   - Proper indentation is crucial for the correct interpretation of code and is part of Python's syntax.\r\n",
    "\r\n",
    "2. **No Semicolons:**\r\n",
    "   - Python does not require semicolons at the end of statements. Line breaks are sufficient to indicate the end of a statement.\r\n",
    "\r\n",
    "3. **Whitespace Matters:**\r\n",
    "   - Whitespace (spaces and tabs) is significant in Python and is used for indentation.\r\n",
    "   - Consistent indentation is essential for maintaining the structure of the code.\r\n",
    "\r\n",
    "4. **Comments:**\r\n",
    "   - Comments are created using the `#` symbol, and they extend to the end of the line.\r\n",
    "   - Multi-line comments can be enclosed in triple quotes (`'''` or `\"\"\"`).\r\n",
    "\r\n",
    "5. **Variables:**\r\n",
    "   - Variables are dynamically typed, meaning their types are inferred at runtime.\r\n",
    "   - Variable names are case-sensitive and should follow the convention of using lowercase letters with underscores for readability (snake_case).\r\n",
    "\r\n",
    "6. **Functions:**\r\n",
    "   - Functions are defined using the `def` keyword, followed by the function name and parameters.\r\n",
    "   - The body of the function is indented.\r\n",
    "\r\n",
    "7. **Print Statement:**\r\n",
    "   - The `print` statement is used for output. In Python 3, it's a function and requires parentheses.\r\n",
    "   - Example: `print(\"Hello, World!\")`\r\n",
    "\r\n",
    "8. **Data Types:**\r\n",
    "   - Python supports various data types such as integers, floats, strings, lists, tuples, dictionaries, and more.\r\n",
    "   - Type conversion is often implicit, and Python provides built-in functions for explicit conversion.\r\n",
    "\r\n",
    "9. **Readability:**\r\n",
    "   - Python prioritizes readability, and its syntax aims to express concepts in fewer lines of code than languages with more verbose syntax.\r\n",
    "   - The use of English keywords and a clear structure contributes to code readability.\r\n"
   ]
  },
  {
   "cell_type": "markdown",
   "id": "ffc0e8a9-2e96-4a80-920e-8a23a92cb2fd",
   "metadata": {},
   "source": [
    "### ----------------------------------------------------------------------------------------"
   ]
  },
  {
   "cell_type": "code",
   "execution_count": null,
   "id": "62133e82-be8d-44a2-84cf-6c5f89ef68d1",
   "metadata": {},
   "outputs": [],
   "source": [
    "import this"
   ]
  },
  {
   "cell_type": "markdown",
   "id": "8a521b2f-218b-4f9a-b9c2-dc2fdf62bf46",
   "metadata": {},
   "source": [
    "### ----------------------------------------------------------------------------------------"
   ]
  },
  {
   "attachments": {},
   "cell_type": "markdown",
   "id": "c6645144-82c2-42dc-a932-f5a503387c77",
   "metadata": {},
   "source": [
    "**Writing Code**\r\n",
    "\r\n",
    "- In the selected cell, type a Python code snippet, for example:\r\n",
    "  ```python\r\n",
    "  print(\"Hello, Jupyter!\")\r\n",
    "  ```\r\n"
   ]
  },
  {
   "cell_type": "code",
   "execution_count": null,
   "id": "ce79ee9a-01af-4edc-9bb2-02eed0951ef1",
   "metadata": {},
   "outputs": [],
   "source": [
    "print(\"Hello, jupyter!\")"
   ]
  },
  {
   "cell_type": "code",
   "execution_count": 10,
   "id": "6cc1aea8-4423-4ae2-b3fc-0430a6f00cfc",
   "metadata": {},
   "outputs": [
    {
     "name": "stdout",
     "output_type": "stream",
     "text": [
      "hello world!!!\n"
     ]
    }
   ],
   "source": [
    "    print('hello world!!!')"
   ]
  },
  {
   "cell_type": "code",
   "execution_count": null,
   "id": "6bf7ee12-8b45-4c3f-9031-a18c0dc94efc",
   "metadata": {},
   "outputs": [],
   "source": []
  },
  {
   "cell_type": "code",
   "execution_count": null,
   "id": "22d46785-ee52-4273-8198-28db9857d6f3",
   "metadata": {},
   "outputs": [],
   "source": []
  },
  {
   "cell_type": "code",
   "execution_count": null,
   "id": "94af7d41-713c-436d-b290-02ccf09ef706",
   "metadata": {},
   "outputs": [],
   "source": []
  },
  {
   "cell_type": "markdown",
   "id": "6cfbf8ce-c2ed-457b-9510-2cab7e3faef9",
   "metadata": {},
   "source": [
    "### ----------------------------------------------------------------------------------------"
   ]
  },
  {
   "attachments": {},
   "cell_type": "markdown",
   "id": "25631e59-2084-4231-ac8f-5d02d641b814",
   "metadata": {},
   "source": [
    "**Running Code**\r\n",
    "\r\n",
    "- To execute the code in the cell, press `Shift + Enter` or click the \"Run\" button in the toolbar.\r\n",
    "- The output of the code will be displayed below the cell.\r\n"
   ]
  },
  {
   "cell_type": "markdown",
   "id": "b4f3f001-6308-45bc-abe8-778b2e162f7c",
   "metadata": {},
   "source": [
    "### ----------------------------------------------------------------------------------------"
   ]
  },
  {
   "cell_type": "markdown",
   "id": "18b4fec0-59ff-4fb0-b30b-d6a216efc092",
   "metadata": {},
   "source": [
    "**Adding New Cells**\n",
    "\n",
    "- To add a new cell, click the \"+\" button in the toolbar.\n",
    "- You can choose to add a cell above or below the currently selected cell.\n"
   ]
  },
  {
   "cell_type": "markdown",
   "id": "d1b95ff3-5960-4ae5-9838-fa97679d7a53",
   "metadata": {},
   "source": [
    "### ----------------------------------------------------------------------------------------"
   ]
  },
  {
   "attachments": {},
   "cell_type": "markdown",
   "id": "8d90880d-905a-43a0-85ec-5c32bfbb9c04",
   "metadata": {},
   "source": [
    "**Code Cells:**\r\n",
    "- Jupyter Notebooks are composed of cells, and code is written in code cells.\r\n",
    "- You can execute a code cell by pressing `Shift + Enter` or by clicking the \"Run\" button in the toolbar.\r\n",
    "\r\n",
    "```python\r\n",
    "# Example: Simple Python code\r\n",
    "print(\"Hello, Jupyter!\")\r\n",
    "```\r\n"
   ]
  },
  {
   "cell_type": "markdown",
   "id": "99b85bc4-1e33-4b05-ae6e-1a8221cb26d7",
   "metadata": {},
   "source": [
    "### ----------------------------------------------------------------------------------------"
   ]
  },
  {
   "attachments": {},
   "cell_type": "markdown",
   "id": "a9dd1716-3801-4959-ac6c-52fb7eef0610",
   "metadata": {},
   "source": [
    "**Markdown Cells:**\r\n",
    "- Markdown cells allow you to add formatted text, headers, lists, links, and more.\r\n",
    "- Change the cell type to \"Markdown\" and write Markdown content.\r\n",
    "\r\n",
    "```markdown\r\n",
    "## Markdown Example\r\n",
    "\r\n",
    "This is a **bold** text. Here's a list:\r\n",
    "- Item 1\r\n",
    "- Item 2\r\n",
    "```\r\n"
   ]
  },
  {
   "cell_type": "markdown",
   "id": "ed0bdaca-e002-4c28-a3af-fd455e464a10",
   "metadata": {},
   "source": [
    "##### Markdown Example\n",
    "This is a **bold** text. **Here's** a list:\n",
    "- Item 1\n",
    "- Item 2\n",
    "- item 3"
   ]
  },
  {
   "cell_type": "markdown",
   "id": "1be261e9-57ea-4ffa-bbe6-cb35244fd096",
   "metadata": {},
   "source": [
    "### ----------------------------------------------------------------------------------------"
   ]
  },
  {
   "attachments": {},
   "cell_type": "markdown",
   "id": "78dce6fd-572b-451b-8973-afca021c8982",
   "metadata": {},
   "source": [
    "**Running Shell Commands:**\r\n",
    "- You can run shell commands directly in Jupyter by prefixing the command with an exclamation mark.\r\n",
    "\r\n",
    "```python\r\n",
    "!pip list  # Display installed Python packages\r\n",
    "```\r\n"
   ]
  },
  {
   "cell_type": "code",
   "execution_count": null,
   "id": "e578e75b-2e5e-4c47-a7e6-7451226d1cdb",
   "metadata": {},
   "outputs": [],
   "source": [
    "!pip install scrapy"
   ]
  },
  {
   "attachments": {},
   "cell_type": "markdown",
   "id": "0fe77345-584c-4a7b-b5a7-e28e704ac366",
   "metadata": {},
   "source": [
    "### ----------------------------------------------------------------------------------------"
   ]
  },
  {
   "attachments": {},
   "cell_type": "markdown",
   "id": "01bddf48-0d50-4f16-a8aa-9b8eafcf5e4f",
   "metadata": {},
   "source": [
    "**Magic Commands:**\r\n",
    "- Magic commands start with `%` or `%%` and provide additional functionality.\r\n",
    "\r\n",
    "```python\r\n",
    "%matplotlib inline  # Display matplotlib plots inline\r\n",
    "```\r\n"
   ]
  },
  {
   "cell_type": "code",
   "execution_count": 1,
   "id": "8e150bdd-b5ec-4834-8461-edaef2e66aa7",
   "metadata": {},
   "outputs": [],
   "source": [
    "import matplotlib.pyplot as plt"
   ]
  },
  {
   "cell_type": "code",
   "execution_count": null,
   "id": "398a31a3-13ba-41a5-aa03-abd13735a8d4",
   "metadata": {},
   "outputs": [],
   "source": [
    "# %matplotlib inline"
   ]
  },
  {
   "cell_type": "code",
   "execution_count": 2,
   "id": "83454719-97dc-4a47-b59e-8cf760986f99",
   "metadata": {},
   "outputs": [
    {
     "data": {
      "image/png": "[encoded data removed]",
      "text/plain": [
       "<Figure size 640x480 with 1 Axes>"
      ]
     },
     "metadata": {},
     "output_type": "display_data"
    }
   ],
   "source": [
    "plt.plot([1, 2, 3, 4], [1, 4, 9, 16])\n",
    "\n",
    "plt.show()"
   ]
  },
  {
   "cell_type": "markdown",
   "id": "d9064f8c-0d20-4653-94e1-e536bd7c7a19",
   "metadata": {},
   "source": [
    "![this_is_title](python.jpg)"
   ]
  },
  {
   "cell_type": "code",
   "execution_count": 3,
   "id": "bda3b8be-6a5b-404b-8fd6-78a2c5a8a8d3",
   "metadata": {},
   "outputs": [
    {
     "data": {
      "text/html": [
       "<h1>This is HTML</h1>\n",
       "<p>this is paragraph</p>\n"
      ],
      "text/plain": [
       "<IPython.core.display.HTML object>"
      ]
     },
     "metadata": {},
     "output_type": "display_data"
    }
   ],
   "source": [
    "%%html\n",
    "<h1>This is HTML</h1>\n",
    "<p>this is paragraph</p>"
   ]
  },
  {
   "cell_type": "code",
   "execution_count": 4,
   "id": "446ba67d-ba46-45dd-90ed-c2d298621fc3",
   "metadata": {},
   "outputs": [
    {
     "name": "stdout",
     "output_type": "stream",
     "text": [
      "This is example of running scripts using magic command\n"
     ]
    }
   ],
   "source": [
    "%run script.py"
   ]
  },
  {
   "cell_type": "markdown",
   "id": "2a14e8f6-175b-4df3-b5ac-e66aa97a4241",
   "metadata": {
    "jp-MarkdownHeadingCollapsed": true
   },
   "source": [
    "### ----------------------------------------------------------------------------------------"
   ]
  },
  {
   "cell_type": "markdown",
   "id": "3ed1977f-4a2c-4c4b-8d71-7256d006c0f5",
   "metadata": {},
   "source": [
    "### ----------------------------------------------------------------------------------------"
   ]
  },
  {
   "attachments": {},
   "cell_type": "markdown",
   "id": "2b8a1e52-b094-4226-87a2-7ff3e2327544",
   "metadata": {},
   "source": [
    "**Help and Documentation:**\r\n",
    "- Access documentation and help for functions by using the `?` symbol.\r\n",
    "\r\n",
    "```python\r\n",
    "help(print)  # Display help for the print function\n",
    "```\r\n"
   ]
  },
  {
   "cell_type": "code",
   "execution_count": 5,
   "id": "b0010a2e-ff13-4991-b3cb-d8d980b9ec05",
   "metadata": {},
   "outputs": [
    {
     "data": {
      "text/plain": [
       "\u001b[0;31mDocstring:\u001b[0m\n",
       "print(value, ..., sep=' ', end='\\n', file=sys.stdout, flush=False)\n",
       "\n",
       "Prints the values to a stream, or to sys.stdout by default.\n",
       "Optional keyword arguments:\n",
       "file:  a file-like object (stream); defaults to the current sys.stdout.\n",
       "sep:   string inserted between values, default a space.\n",
       "end:   string appended after the last value, default a newline.\n",
       "flush: whether to forcibly flush the stream.\n",
       "\u001b[0;31mType:\u001b[0m      builtin_function_or_method"
      ]
     },
     "metadata": {},
     "output_type": "display_data"
    }
   ],
   "source": [
    "print?"
   ]
  },
  {
   "cell_type": "code",
   "execution_count": 6,
   "id": "e783d761-26cf-40b9-b37b-a99b203cfd7f",
   "metadata": {},
   "outputs": [
    {
     "name": "stdout",
     "output_type": "stream",
     "text": [
      "Help on built-in function print in module builtins:\n",
      "\n",
      "print(...)\n",
      "    print(value, ..., sep=' ', end='\\n', file=sys.stdout, flush=False)\n",
      "    \n",
      "    Prints the values to a stream, or to sys.stdout by default.\n",
      "    Optional keyword arguments:\n",
      "    file:  a file-like object (stream); defaults to the current sys.stdout.\n",
      "    sep:   string inserted between values, default a space.\n",
      "    end:   string appended after the last value, default a newline.\n",
      "    flush: whether to forcibly flush the stream.\n",
      "\n"
     ]
    }
   ],
   "source": [
    "help(print)"
   ]
  },
  {
   "cell_type": "code",
   "execution_count": 7,
   "id": "dc123fe4-e8af-42c1-9b7d-3c12e9fc9684",
   "metadata": {},
   "outputs": [
    {
     "data": {
      "text/plain": [
       "\u001b[0;31mType:\u001b[0m        module\n",
       "\u001b[0;31mString form:\u001b[0m <module 'matplotlib.pyplot' from '/Users/rupesh/anaconda3/lib/python3.9/site-packages/matplotlib/pyplot.py'>\n",
       "\u001b[0;31mFile:\u001b[0m        ~/anaconda3/lib/python3.9/site-packages/matplotlib/pyplot.py\n",
       "\u001b[0;31mDocstring:\u001b[0m  \n",
       "`matplotlib.pyplot` is a state-based interface to matplotlib. It provides\n",
       "an implicit,  MATLAB-like, way of plotting.  It also opens figures on your\n",
       "screen, and acts as the figure GUI manager.\n",
       "\n",
       "pyplot is mainly intended for interactive plots and simple cases of\n",
       "programmatic plot generation::\n",
       "\n",
       "    import numpy as np\n",
       "    import matplotlib.pyplot as plt\n",
       "\n",
       "    x = np.arange(0, 5, 0.1)\n",
       "    y = np.sin(x)\n",
       "    plt.plot(x, y)\n",
       "\n",
       "The explicit object-oriented API is recommended for complex plots, though\n",
       "pyplot is still usually used to create the figure and often the axes in the\n",
       "figure. See `.pyplot.figure`, `.pyplot.subplots`, and\n",
       "`.pyplot.subplot_mosaic` to create figures, and\n",
       ":doc:`Axes API </api/axes_api>` for the plotting methods on an Axes::\n",
       "\n",
       "    import numpy as np\n",
       "    import matplotlib.pyplot as plt\n",
       "\n",
       "    x = np.arange(0, 5, 0.1)\n",
       "    y = np.sin(x)\n",
       "    fig, ax = plt.subplots()\n",
       "    ax.plot(x, y)\n",
       "\n",
       "\n",
       "See :ref:`api_interfaces` for an explanation of the tradeoffs between the\n",
       "implicit and explicit interfaces."
      ]
     },
     "metadata": {},
     "output_type": "display_data"
    }
   ],
   "source": [
    "plt?"
   ]
  },
  {
   "cell_type": "code",
   "execution_count": 12,
   "id": "69b85f15-e9a3-4e71-9eaf-07b3c9bb3a88",
   "metadata": {},
   "outputs": [
    {
     "data": {
      "text/plain": [
       "[<matplotlib.lines.Line2D at 0x7fa1aef8c8b0>]"
      ]
     },
     "execution_count": 12,
     "metadata": {},
     "output_type": "execute_result"
    },
    {
     "data": {
      "image/png": "[encoded data removed]",
      "text/plain": [
       "<Figure size 640x480 with 1 Axes>"
      ]
     },
     "metadata": {},
     "output_type": "display_data"
    }
   ],
   "source": [
    "    import numpy as np\n",
    "import matplotlib.pyplot as plt\n",
    "\n",
    "    x = np.arange(0, 5, 0.1)\n",
    "y = np.sin(x)\n",
    "    plt.plot(x, y)"
   ]
  },
  {
   "cell_type": "code",
   "execution_count": 20,
   "id": "abb23fa8-8602-4d61-b8d9-9b6c8043da17",
   "metadata": {},
   "outputs": [
    {
     "name": "stdout",
     "output_type": "stream",
     "text": [
      "positive\n"
     ]
    }
   ],
   "source": [
    "num = 5\n",
    "if num > 0:\n",
    "    \n",
    "    print('positive')\n",
    " \n",
    "else:\n",
    "    print('this number is neagtive')\n",
    "    print('this number is neagtive')\n",
    "    \n",
    "# if(fsdjhfsdbhj)\n",
    "# {\n",
    "\n",
    "    \n",
    "# }\n",
    "# else \n",
    "# {\n",
    "\n",
    "\n",
    "\n",
    "# }"
   ]
  },
  {
   "cell_type": "markdown",
   "id": "58f3b499-7c33-4c7c-a368-d0681b6c26b4",
   "metadata": {},
   "source": [
    "### ----------------------------------------------------------------------------------------"
   ]
  },
  {
   "cell_type": "markdown",
   "id": "5aa67872-fb7e-4f5a-b44b-d1fa7c757f68",
   "metadata": {},
   "source": [
    "Jupyter Notebooks provide various keyboard shortcuts for efficient navigation and interaction. Here are some commonly used keyboard shortcuts in Jupyter Notebooks:\n",
    "\n",
    "**Command Mode Shortcuts (Press `Esc` to enter Command Mode):**\n",
    "   - `A`: Insert a new cell above the current cell.\n",
    "   - `B`: Insert a new cell below the current cell.\n",
    "   - `M`: Change the cell type to Markdown.\n",
    "   - `Y`: Change the cell type to Code.\n",
    "   - `D, D` (Press `D` twice): Delete the current cell."
   ]
  },
  {
   "cell_type": "markdown",
   "id": "69279e29-d638-4445-bd01-abdb4053e517",
   "metadata": {},
   "source": [
    "### ----------------------------------------------------------------------------------------"
   ]
  },
  {
   "attachments": {},
   "cell_type": "markdown",
   "id": "051ad1ed-6b89-4725-904e-82de10542eac",
   "metadata": {},
   "source": [
    "**Widgets and Interactivity:**\r\n",
    "- Jupyter supports interactive widgets for creating user interfaces.\r\n",
    "\r\n",
    "```python\r\n",
    "from ipywidgets import interact\r\n",
    "\r\n",
    "# Simple interactive widget\r\n",
    "@interact(x=(0, 10))\r\n",
    "def square(x):\r\n",
    "    print(f\"The square of {x} is {x**2}.\")\r\n",
    "```\r\n"
   ]
  },
  {
   "cell_type": "code",
   "execution_count": 22,
   "id": "5f0f5275-48d5-4250-80eb-7ca14f2d885a",
   "metadata": {},
   "outputs": [
    {
     "data": {
      "application/vnd.jupyter.widget-view+json": {
       "model_id": "e51e4c29d34042048cd2bcf01860d887",
       "version_major": 2,
       "version_minor": 0
      },
      "text/plain": [
       "interactive(children=(IntSlider(value=50, description='x'), Output()), _dom_classes=('widget-interact',))"
      ]
     },
     "metadata": {},
     "output_type": "display_data"
    }
   ],
   "source": [
    "from ipywidgets import interact\n",
    "\n",
    "@interact(x=(0, 100))\n",
    "def square(x):\n",
    "    print(f\"The square of {x} is {x**2}.\")"
   ]
  },
  {
   "cell_type": "code",
   "execution_count": 26,
   "id": "942fc21e-1435-4b03-9f1d-dcd990f2cf67",
   "metadata": {},
   "outputs": [
    {
     "data": {
      "application/vnd.jupyter.widget-view+json": {
       "model_id": "b779bf44e8e044b5ab0f3cd71217fa20",
       "version_major": 2,
       "version_minor": 0
      },
      "text/plain": [
       "interactive(children=(Text(value='Your Name', description='name'), IntSlider(value=59, description='age', min=…"
      ]
     },
     "metadata": {},
     "output_type": "display_data"
    }
   ],
   "source": [
    "from ipywidgets import interact\n",
    "\n",
    "@interact(name=\"Your Name\", age=(18, 100, 1), country=['USA', 'Canada', 'UK', 'Nepal'])\n",
    "def display_info(name, age, country):\n",
    "    return f\"Name: {name}, Age: {age}, Country: {country}\""
   ]
  },
  {
   "cell_type": "code",
   "execution_count": 24,
   "id": "a93a58e1-2198-4036-8f09-f32f51b8caeb",
   "metadata": {},
   "outputs": [
    {
     "data": {
      "application/vnd.jupyter.widget-view+json": {
       "model_id": "232208f7b7064a22bf03d135b49ea622",
       "version_major": 2,
       "version_minor": 0
      },
      "text/plain": [
       "interactive(children=(FloatSlider(value=5.0, description='frequency', max=10.0, min=1.0), FloatSlider(value=3.…"
      ]
     },
     "metadata": {},
     "output_type": "display_data"
    }
   ],
   "source": [
    "import matplotlib.pyplot as plt\n",
    "import numpy as np\n",
    "from ipywidgets import interact\n",
    "\n",
    "# Function to plot a sine wave with frequency and amplitude as parameters\n",
    "# Using interact with numeric sliders to control frequency and amplitude\n",
    "@interact(frequency=(1, 10, 0.1), amplitude=(1, 5, 0.1))\n",
    "def plot_sine_wave(frequency, amplitude):\n",
    "    x = np.linspace(0, 2 * np.pi, 1000) # \n",
    "    y = amplitude * np.sin(frequency * x)\n",
    "\n",
    "    plt.figure(figsize=(8, 6))\n",
    "    plt.plot(x, y)\n",
    "    plt.title(f'Sine Wave: Frequency = {frequency}, Amplitude = {amplitude}')\n",
    "    plt.xlabel('x')\n",
    "    plt.ylabel('y')\n",
    "    plt.grid(True)\n",
    "    plt.show()\n",
    "\n",
    "\n"
   ]
  },
  {
   "cell_type": "code",
   "execution_count": null,
   "id": "25ecac8d-7764-4a24-9a9d-dc6eb188003a",
   "metadata": {},
   "outputs": [],
   "source": [
    "np.linspace?"
   ]
  },
  {
   "cell_type": "code",
   "execution_count": null,
   "id": "b7d19a77-4f29-4b72-a196-8dcb2d4375ae",
   "metadata": {},
   "outputs": [],
   "source": [
    "plt.figure?"
   ]
  },
  {
   "cell_type": "markdown",
   "id": "8ca5d44e-a66d-4ae8-bfd7-0bbdb43b730d",
   "metadata": {},
   "source": [
    "### ----------------------------------------------------------------------------------------"
   ]
  },
  {
   "attachments": {},
   "cell_type": "markdown",
   "id": "2085e368-74ba-4cff-ad8d-ebe84b26fcf9",
   "metadata": {},
   "source": [
    "Let's cover the basic syntax rules in Python, including indentation, comments, and code structure:\r\n",
    "\r\n",
    "### **1. Indentation:**\r\n",
    "\r\n",
    "Python uses indentation to define blocks of code. Indentation is crucial for indicating the structure of the code, and it replaces the need for explicit braces or keywords like \"begin\" and \"end.\" Consistent indentation is essential for correct interpretation by the Python interpreter.\r\n",
    "\r\n",
    "**Example:**\r\n",
    "```python\r\n",
    "if True:\r\n",
    "    print(\"This is indented\")\r\n",
    "    print(\"This is also indented\")\r\n",
    "else:\r\n",
    "    print(\"This is not indented\")\r\n",
    "```\r\n",
    "\r\n",
    "### **2. Comments:**\r\n",
    "\r\n",
    "Comments in Python are preceded by the `#` symbol. Comments are ignored by the Python interpreter and are used to provide explanations or context within the code.\r\n",
    "\r\n",
    "**Example:**\r\n",
    "```python\r\n",
    "# This is a single-line comment\r\n",
    "\r\n",
    "\"\"\"\r\n",
    "This is a\r\n",
    "multi-line comment\r\n",
    "\"\"\"\r\n",
    "```\r\n",
    "\r\n",
    "### **3. Code Structure:**\r\n",
    "\r\n",
    "Python code is structured using various elements, such as variables, functions, and control flow structures.\r\n",
    "\r\n",
    "#### **Variables:**\r\n",
    "\r\n",
    "Variables are used to store data. Python is dynamically typed, meaning you don't need to declare the data type explicitly.\r\n",
    "\r\n",
    "**Example:**\r\n",
    "```python\r\n",
    "name = \"John\"\r\n",
    "age = 25\r\n",
    "```\r\n",
    "\r\n",
    "#### **Functions:**\r\n",
    "\r\n",
    "Functions are defined using the `def` keyword. The function body is indented.\r\n",
    "\r\n",
    "**Example:**\r\n",
    "```python\r\n",
    "def greet(name):\r\n",
    "    print(\"Hello, \" + name + \"!\")\r\n",
    "```\r\n",
    "\r\n",
    "#### **Control Flow:**\r\n",
    "\r\n",
    "Control flow structures include `if`, `elif`, `else`, `for` loops, and `while` loops.\r\n",
    "\r\n",
    "**Example:**\r\n",
    "```python\r\n",
    "if condition:\r\n",
    "    print(\"Condition is True\")\r\n",
    "elif another_condition:\r\n",
    "    print(\"Another condition is True\")\r\n",
    "else:\r\n",
    "    print(\"No conditions are True\")\r\n",
    "\r\n",
    "for item in iterable:\r\n",
    "    print(item)\r\n",
    "\r\n",
    "while condition:\r\n",
    "    print(\"Executing while loop\")\r\n",
    "```\r\n",
    "\r\n",
    "### **4. Naming Conventions:**\r\n",
    "\r\n",
    "Follow Python's naming conventions for variables and functions. Variables use snake_case (e.g., `my_variable`), and functions use lowercase with underscores (e.g., `my_function`).\r\n",
    "\r\n",
    "### **5. Importing Modules:**\r\n",
    "\r\n",
    "To use external modules, import them using the `import` keyword.\r\n",
    "\r\n",
    "**Example:**\r\n",
    "```python\r\n",
    "import math\r\n",
    "\r\n",
    "result = math.sqrt(25)\r\n",
    "```\r\n",
    "\r\n",
    "### **6. Running Python Scripts:**\r\n",
    "\r\n",
    "Python scripts are saved with a `.py` extension. Execute a script from the command line using `python script_name.py`.\r\n"
   ]
  },
  {
   "cell_type": "markdown",
   "id": "a7b9fda5-e449-475b-9a12-0543d53dbd2a",
   "metadata": {},
   "source": [
    "### ----------------------------------------------------------------------------------------"
   ]
  },
  {
   "attachments": {},
   "cell_type": "markdown",
   "id": "d0d6fa1d-237b-4a65-9e3f-5016e3615087",
   "metadata": {},
   "source": [
    "#### Indentation More Examples\r\n",
    "### **1. Conditional Statements (if-else):**\r\n",
    "\r\n",
    "```python\r\n",
    "# Example 1: Simple if-else statement\r\n",
    "x = 10\r\n",
    "\r\n",
    "if x > 5:\r\n",
    "    print(\"x is greater than 5\")\r\n",
    "else:\r\n",
    "    print(\"x is not greater than 5\")\r\n",
    "\r\n",
    "# Example 2: Nested if-else statements\r\n",
    "y = 7\r\n",
    "\r\n",
    "if y > 5:\r\n",
    "    print(\"y is greater than 5\")\r\n",
    "    \r\n",
    "    if y > 10:\r\n",
    "        print(\"y is also greater than 10\")\r\n",
    "    else:\r\n",
    "        print(\"y is not greater than 10\")\r\n",
    "else:\r\n",
    "    print(\"y is not greater than 5\")\r\n",
    "```\r\n",
    "\r\n",
    "### **2. Loops (for and while):**\r\n",
    "\r\n",
    "```python\r\n",
    "# Example 1: for loop\r\n",
    "numbers = [1, 2, 3, 4, 5]\r\n",
    "\r\n",
    "for num in numbers:\r\n",
    "    print(num)\r\n",
    "\r\n",
    "# Example 2: Nested for loop\r\n",
    "for i in range(3):\r\n",
    "    for j in range(2):\r\n",
    "        print(f\"({i}, {j})\")\r\n",
    "\r\n",
    "# Example 3: while loop\r\n",
    "count = 0\r\n",
    "\r\n",
    "while count < 5:\r\n",
    "    print(count)\r\n",
    "    count += 1\r\n",
    "```\r\n",
    "\r\n",
    "### **3. Functions:**\r\n",
    "\r\n",
    "```python\r\n",
    "# Example: Defining a function\r\n",
    "def greet(name):\r\n",
    "    print(f\"Hello, {name}!\")\r\n",
    "\r\n",
    "# Example: Using the function\r\n",
    "greet(\"Alice\")\r\n",
    "```\r\n",
    "\r\n",
    "### **4. Class Definitions:**\r\n",
    "\r\n",
    "```python\r\n",
    "# Example: Defining a class\r\n",
    "class Car:\r\n",
    "    def __init__(self, make, model):\r\n",
    "        self.make = make\r\n",
    "        self.model = model\r\n",
    "\r\n",
    "    def display_info(self):\r\n",
    "        print(f\"{self.make} {self.model}\")\r\n",
    "\r\n",
    "# Example: Creating an instance of the class\r\n",
    "my_car = Car(\"Toyota\", \"Camry\")\r\n",
    "my_car.display_info()\r\n",
    "```\r\n"
   ]
  },
  {
   "cell_type": "markdown",
   "id": "e5390530-ef77-4154-9998-6bdc9f24ffb6",
   "metadata": {},
   "source": [
    "### ----------------------------------------------------------------------------------------"
   ]
  },
  {
   "cell_type": "code",
   "execution_count": 29,
   "id": "cd8a1661-36fe-4501-9fec-2f2eb847e16d",
   "metadata": {},
   "outputs": [
    {
     "data": {
      "text/plain": [
       "str"
      ]
     },
     "execution_count": 29,
     "metadata": {},
     "output_type": "execute_result"
    }
   ],
   "source": [
    "type(str(5))"
   ]
  },
  {
   "attachments": {},
   "cell_type": "markdown",
   "id": "4405c837-3ce3-4cf0-ae73-dfb18cb76d51",
   "metadata": {},
   "source": [
    "Python supports various fundamental data types that are used to represent different kinds of values. Here, we'll introduce three fundamental data types: integers, floats, and strings.\r\n",
    "\r\n",
    "### 1. **Integers (int):**\r\n",
    "\r\n",
    "Integers represent whole numbers without any decimal point. They can be positive or negative.\r\n",
    "\r\n",
    "**Examples:**\r\n",
    "```python\r\n",
    "x = 5\r\n",
    "y = -10\r\n",
    "z = 0\r\n",
    "```\r\n",
    "\r\n",
    "### 2. **Floats (float):**\r\n",
    "\r\n",
    "Floats represent real numbers and can have decimal points. They can also be expressed in scientific notation.\r\n",
    "\r\n",
    "**Examples:**\r\n",
    "```python\r\n",
    "a = 3.14\r\n",
    "b = -2.5\r\n",
    "c = 1.0  # Note: Even though it's written as an integer, it's treated as a float\r\n",
    "```\r\n",
    "\r\n",
    "### 3. **Strings (str):**\r\n",
    "\r\n",
    "Strings represent sequences of characters and are enclosed in single (' ') or double (\" \") quotes.\r\n",
    "\r\n",
    "**Examples:**\r\n",
    "```python\r\n",
    "name = \"Alice\"\r\n",
    "greeting = 'Hello, World!'\r\n",
    "empty_string = \"\"\r\n",
    "```\r\n",
    "\r\n",
    "### **Operations on Fundamental Data Types:**\r\n",
    "\r\n",
    "You can perform various operations on these fundamental data types:\r\n",
    "\r\n",
    "- **Integers:**\r\n",
    "  ```python\r\n",
    "  sum_result = x + y\r\n",
    "  difference_result = x - y\r\n",
    "  product_result = x * y\r\n",
    "  ```\r\n",
    "\r\n",
    "- **Floats:**\r\n",
    "  ```python\r\n",
    "  division_result = a / b\r\n",
    "  power_result = a ** 2\r\n",
    "  ```\r\n",
    "\r\n",
    "- **Strings:**\r\n",
    "  ```python\r\n",
    "  concat_result = n.\r\n",
    "ame + \" is a student\"\r\n",
    "  ```\r\n",
    "\r\n",
    "### **Type Conversion:**\r\n",
    "\r\n",
    "You can convert between data types \n",
    "\n",
    "1. **`int(x)`**: Converts `x` to an integer.\n",
    "2. **`float(x)`**: Converts `x` to a floating-point number.\n",
    "3. **`str(x)`**: Converts `x` to a string.using built-in functions like `int()`, `float()`, and `str()`.\r\n",
    "\r\n",
    "**Examples:**\r\n",
    "```python\r\n",
    "# Convert to int\r\n",
    "int_from_float = int(b)\r\n",
    "int_from_string = int(\"123\")\r\n",
    "\r\n",
    "# Convert to float\r\n",
    "float_from_int = float(x)\r\n",
    "float_from_string = float(\"3.14\")\r\n",
    "\r\n",
    "# Convert to string\r\n",
    "string_from_int = str(x)\r\n",
    "string_from_float = str(a)\r\n",
    "```\r\n"
   ]
  },
  {
   "cell_type": "code",
   "execution_count": 43,
   "id": "aee5aada-d64a-4bda-869a-b0fb367d2b2e",
   "metadata": {},
   "outputs": [
    {
     "ename": "ValueError",
     "evalue": "could not convert string to float: '100.60a'",
     "output_type": "error",
     "traceback": [
      "\u001b[0;31m---------------------------------------------------------------------------\u001b[0m",
      "\u001b[0;31mValueError\u001b[0m                                Traceback (most recent call last)",
      "Cell \u001b[0;32mIn[43], line 9\u001b[0m\n\u001b[1;32m      1\u001b[0m \u001b[38;5;66;03m# Convert to int\u001b[39;00m\n\u001b[1;32m      2\u001b[0m \u001b[38;5;66;03m# b = 5.5\u001b[39;00m\n\u001b[1;32m      3\u001b[0m \u001b[38;5;66;03m# int_from_float = int(b)\u001b[39;00m\n\u001b[0;32m   (...)\u001b[0m\n\u001b[1;32m      6\u001b[0m \u001b[38;5;66;03m# print(int_from_string)\u001b[39;00m\n\u001b[1;32m      7\u001b[0m \u001b[38;5;66;03m# # Convert to float\u001b[39;00m\n\u001b[1;32m      8\u001b[0m xyz \u001b[38;5;241m=\u001b[39m \u001b[38;5;124m\"\u001b[39m\u001b[38;5;124m100.60a\u001b[39m\u001b[38;5;124m\"\u001b[39m\n\u001b[0;32m----> 9\u001b[0m float_from_int \u001b[38;5;241m=\u001b[39m \u001b[38;5;28;43mfloat\u001b[39;49m\u001b[43m(\u001b[49m\u001b[43mxyz\u001b[49m\u001b[43m)\u001b[49m\n\u001b[1;32m     10\u001b[0m float_from_string \u001b[38;5;241m=\u001b[39m \u001b[38;5;28mfloat\u001b[39m(\u001b[38;5;124m\"\u001b[39m\u001b[38;5;124m3.14\u001b[39m\u001b[38;5;124m\"\u001b[39m)\n\u001b[1;32m     11\u001b[0m float_from_int\n",
      "\u001b[0;31mValueError\u001b[0m: could not convert string to float: '100.60a'"
     ]
    }
   ],
   "source": [
    "# Convert to int\n",
    "# b = 5.5\n",
    "# int_from_float = int(b)\n",
    "# int_from_string = int(\"123271\")\n",
    "# print(int_from_float)\n",
    "# print(int_from_string)\n",
    "# # Convert to float\n",
    "xyz = \"100.60\"\n",
    "float_from_int = float(xyz)\n",
    "float_from_string = float(\"3.14\")\n",
    "float_from_int\n",
    "# float_from_string\n",
    "# # Convert to string\n",
    "# string_from_int = str(x)\n",
    "# string_from_float = str(a)"
   ]
  },
  {
   "cell_type": "markdown",
   "id": "318f1f0b-076a-4fdd-a67c-e20a2be53990",
   "metadata": {},
   "source": [
    "### ----------------------------------------------------------------------------------------"
   ]
  },
  {
   "attachments": {},
   "cell_type": "markdown",
   "id": "fe720722-5e08-42c3-9025-04bde353fe41",
   "metadata": {},
   "source": [
    "### **Basic Operations on Each Data Type:**\r\n",
    "\r\n",
    "Let's explore basic operations on integers, floats, and strings.\r\n",
    "\r\n",
    "### **1. Integers (int):**\r\n",
    "\r\n",
    "**Basic Operations:**\r\n",
    "```python\r\n",
    "a = 5\r\n",
    "b = 3\r\n",
    "\r\n",
    "# Addition\r\n",
    "sum_result = a + b  # Result: 8\r\n",
    "\r\n",
    "# Subtraction\r\n",
    "difference_result = a - b  # Result: 2\r\n",
    "\r\n",
    "# Multiplication\r\n",
    "product_result = a * b  # Result: 15\r\n",
    "\r\n",
    "# Division\r\n",
    "division_result = a / b  # Result: 1.6666666666666667 (float)\r\n",
    "\r\n",
    "# Floor Division (returns integer part)\r\n",
    "floor_division_result = a // b  # Result: 1\r\n",
    "\r\n",
    "# Modulus (remainder)\r\n",
    "modulus_result = a % b  # Result: 2\r\n",
    "\r\n",
    "# Exponentiation\r\n",
    "power_result = a ** b  # Result: 125\r\n",
    "```\r\n",
    "\r\n",
    "### **2. Floats (float):**\r\n",
    "\r\n",
    "**Basic Operations:**\r\n",
    "```python\r\n",
    "c = 3.0\r\n",
    "d = 2.5\r\n",
    "\r\n",
    "# Addition\r\n",
    "sum_float_result = c + d  # Result: 5.5\r\n",
    "\r\n",
    "# Subtraction\r\n",
    "difference_float_result = c - d  # Result: 0.5\r\n",
    "\r\n",
    "# Multiplication\r\n",
    "product_float_result = c * d  # Result: 7.5\r\n",
    "\r\n",
    "# Division\r\n",
    "division_float_result = c / d  # Result: 1.2\r\n",
    "\r\n",
    "# Exponentiation\r\n",
    "power_float_result = c ** d  # Result: 15.588457268119896\r\n",
    "```\r\n",
    "\r\n",
    "### **3. Strings (str):**\r\n",
    "\r\n",
    "**Basic Operations:**\r\n",
    "```python\r\n",
    "str1 = \"Hello\"\r\n",
    "str2 = \"World\"\r\n",
    "\r\n",
    "# Concatenation\r\n",
    "concatenation_result = str1 + \" \" + str2  # Result: \"Hello World\"\r\n",
    "\r\n",
    "# Repetition\r\n",
    "repetition_result = str1 * 3  # Result: \"HelloHelloHello\"\r\n",
    "\r\n",
    "# Indexing\r\n",
    "first_char = str1[0]  # Result: \"H\"\r\n",
    "\r\n",
    "# Slicing\r\n",
    "substring = str1[1:4]  # Result: \"ell\"\r\n",
    "\r\n",
    "# Length\r\n",
    "length_result = len(str1)  # Result: 5\r\n",
    "\r\n",
    "# Conversion to Upper/Lower case\r\n",
    "upper_case_result = str1.upper()  # Result: \"HELLO\"\r\n",
    "lower_case_result = str2.lower()  # Result: \"world\"\r\n",
    "```\r\n"
   ]
  },
  {
   "cell_type": "code",
   "execution_count": 50,
   "id": "f44363d7-d0fc-4b70-92bb-a853cd0d69bf",
   "metadata": {},
   "outputs": [
    {
     "data": {
      "text/plain": [
       "'hellohellohello'"
      ]
     },
     "execution_count": 50,
     "metadata": {},
     "output_type": "execute_result"
    }
   ],
   "source": [
    "[1] * 3"
   ]
  },
  {
   "cell_type": "code",
   "execution_count": 1,
   "id": "bad1c163-106f-4301-b095-c3fa90f1bcc1",
   "metadata": {},
   "outputs": [
    {
     "data": {
      "text/plain": [
       "'hello world, jupyter'"
      ]
     },
     "execution_count": 1,
     "metadata": {},
     "output_type": "execute_result"
    }
   ],
   "source": [
    "sample = \"hello world, jupyter\"\n",
    "sample"
   ]
  },
  {
   "cell_type": "code",
   "execution_count": 32,
   "id": "87abe63b-4874-4978-874d-8d61e9cadf7c",
   "metadata": {},
   "outputs": [
    {
     "data": {
      "text/plain": [
       "[999, 909]"
      ]
     },
     "execution_count": 32,
     "metadata": {},
     "output_type": "execute_result"
    }
   ],
   "source": [
    "numbers = [1,2,3,4,5,6,7,8,\"ram\",[56,98,9],[34,99,[999,909,787]]]\n",
    "numbers[10][2][:2]"
   ]
  },
  {
   "cell_type": "markdown",
   "id": "eff1a08e-5b04-4078-9e6e-5128fe8aeafe",
   "metadata": {},
   "source": [
    "### ----------------------------------------------------------------------------------------"
   ]
  },
  {
   "attachments": {},
   "cell_type": "markdown",
   "id": "f5eee639-7856-4e00-ae5d-114e3206378c",
   "metadata": {},
   "source": [
    "In Python, variables are used to store and reference data values. Unlike some other programming languages, Python is dynamically typed, meaning you don't need to declare the type of a variable explicitly. Variable names are case-sensitive and follow certain conventions.\r\n",
    "\r\n",
    "### **Variables and Assignment:**\r\n",
    "\r\n",
    "#### **1. **Variable Assignment:**\r\n",
    "\r\n",
    "You can assign a value to a variable using the `=` operator.\r\n",
    "\r\n",
    "```python\r\n",
    "# Variable assignment\r\n",
    "x = 10\r\n",
    "name = \"Alice\"\r\n",
    "pi = 3.14\r\n",
    "is_student = True\r\n",
    "```\r\n",
    "\r\n",
    "#### **2. Variable Names:**\r\n",
    "\r\n",
    "Follow Python's naming conventions for variable names. Use descriptive names that convey the purpose of the variable.\r\n",
    "\r\n",
    "```python\r\n",
    "# Good variable names\r\n",
    "age = 25\r\n",
    "student_name = \"Bob\"\r\n",
    "average_score = 90.5\r\n",
    "\r\n",
    "# Avoid single-letter variable names (unless in specific cases like loop indices)\r\n",
    "a = 5\r\n",
    "b = \"John\"\r\n",
    "```\r\n",
    "\r\n",
    "#### **3. Variable Reassignment:**\r\n",
    "\r\n",
    "You can reassign a variable to a new value.\r\n",
    "\r\n",
    "```python\r\n",
    "# Variable reassignment\r\n",
    "x = 15\r\n",
    "name = \"Eve\"\r\n",
    "```\r\n",
    "\r\n",
    "#### **4. Multiple Assignments:**\r\n",
    "\r\n",
    "You can assign multiple variables in a single line.\r\n",
    "\r\n",
    "```python\r\n",
    "# Multiple assignments\r\n",
    "a, b, c = 1, 2, 3\r\n",
    "```\r\n",
    "\r\n",
    "#### **5. Swapping Values:**\r\n",
    "\r\n",
    "You can swap the values of two variables in a single line.\r\n",
    "\r\n",
    "```python\r\n",
    "# Swapping values\r\n",
    "x, y = 5, 10\r\n",
    "x, y = y, x  # Swaps the values of x and y\r\n",
    "```\r\n",
    "\r\n",
    "#### **6. Constants:**\r\n",
    "\r\n",
    "While Python doesn't have constants in the strict sense, variables with uppercase names are often used to represent constants (values that should not be changed).\r\n",
    "\r\n",
    "```python\r\n",
    "# Constant\r\n",
    "PI = 3.14159\r\n",
    "```\r\n",
    "\r\n",
    "### **Dynamic Typing:**\r\n",
    "\r\n",
    "Variables in Python are dynamically typed, meaning the type of a variable is determined at runtime.\r\n",
    "\r\n",
    "```python\r\n",
    "# Dynamic typing\r\n",
    "var = 10\r\n",
    "print(var)  # Output: 10\r\n",
    "\r\n",
    "var = \"Hello\"\r\n",
    "print(var)  # Output: Hello\r\n",
    "```\r\n",
    "\r\n",
    "### **Variable Scope:**\r\n",
    "\r\n",
    "Variables have a scope, which defines where in your code a variable is accessible.\r\n",
    "\r\n",
    "- **Local Variables:** Defined inside a function and are only accessible within that function.\r\n",
    "- **Global Variables:** Defined outside of any function and can be accessed throughout the entire program.\r\n",
    "\r\n",
    "```python\r\n",
    "# Global variable\r\n",
    "global_var = \"I am global\"\r\n",
    "\r\n",
    "def my_function():\r\n",
    "    # Local variable\r\n",
    "    local_var = \"I am local\"\r\n",
    "    print(global_var)  # Accessing global variable\r\n",
    "    print(local_var)   # Accessing local variable\r\n",
    "\r\n",
    "my_function()\r\n",
    "print(global_var)  # Accessing global variable outside the function\r\n",
    "```\r\n"
   ]
  },
  {
   "cell_type": "code",
   "execution_count": 33,
   "id": "04194f0a-8a97-4a8d-88c2-a1ce3c738dbe",
   "metadata": {},
   "outputs": [
    {
     "ename": "NameError",
     "evalue": "name 'name' is not defined",
     "output_type": "error",
     "traceback": [
      "\u001b[0;31m---------------------------------------------------------------------------\u001b[0m",
      "\u001b[0;31mNameError\u001b[0m                                 Traceback (most recent call last)",
      "Cell \u001b[0;32mIn[33], line 1\u001b[0m\n\u001b[0;32m----> 1\u001b[0m \u001b[38;5;28mprint\u001b[39m(\u001b[43mname\u001b[49m)\n",
      "\u001b[0;31mNameError\u001b[0m: name 'name' is not defined"
     ]
    }
   ],
   "source": [
    "print(name)"
   ]
  },
  {
   "cell_type": "markdown",
   "id": "53f1415c-d914-44f2-8995-25a76228f5be",
   "metadata": {},
   "source": [
    "### ----------------------------------------------------------------------------------------"
   ]
  },
  {
   "attachments": {},
   "cell_type": "markdown",
   "id": "0ea921f8-9f08-4331-8d66-46de659d5593",
   "metadata": {},
   "source": [
    "Understanding variables and their assignment is fundamental to programming in Python, as they allow you to store and manipulate data efficiently within your programs.\r\n",
    "\r\n",
    "Python provides several built-in data structures that allow you to organize and store data efficiently. Here are three fundamental data structures in Python: lists, tuples, and dictionaries.\r\n",
    "\r\n",
    "### **1. Lists:**\r\n",
    "\r\n",
    "A list is an ordered collection of items. It can contain elements of different data types, and you can modify its contents.\r\n",
    "\r\n",
    "**Creating a List:**\r\n",
    "```python\r\n",
    "my_list = [1, 2, 3, \"apple\", \"banana\", True]\r\n",
    "```\r\n",
    "\r\n",
    "**Basic Operations:**\r\n",
    "```python\r\n",
    "# Accessing elements\r\n",
    "first_element = my_list[0]  # Result: 1\r\n",
    "\r\n",
    "# Slicing\r\n",
    "subset = my_list[2:5]  # Result: [3, 'apple', 'banana']\r\n",
    "\r\n",
    "# Modifying elements\r\n",
    "my_list[1] = \"orange\"\r\n",
    "\r\n",
    "# Appending\r\n",
    "my_list.append(\"grape\")\r\n",
    "\r\n",
    "# Removing\r\n",
    "my_list.remove(2)\r\n",
    "```\r\n",
    "\r\n",
    "### **2. Tuples:**\r\n",
    "\r\n",
    "A tuple is an ordered, immutable collection of elements. Once a tuple is created, its elements cannot be changed.\r\n",
    "\r\n",
    "**Creating a Tuple:**\r\n",
    "```python\r\n",
    "my_tuple = (1, 2, 3, \"apple\", \"banana\", True)\r\n",
    "```\r\n",
    "\r\n",
    "**Basic Operations:**\r\n",
    "```python\r\n",
    "# Accessing elements\r\n",
    "first_element = my_tuple[0]  # Result: 1\r\n",
    "\r\n",
    "# Slicing\r\n",
    "subset = my_tuple[2:5]  # Result: (3, 'apple', 'banana')\r\n",
    "```\r\n",
    "\r\n",
    "### **3. Dictionaries:**\r\n",
    "\r\n",
    "A dictionary is an unordered collection of key-value pairs. Each key in a dictionary must be unique.\r\n",
    "\r\n",
    "**Creating a Dictionary:**\r\n",
    "```python\r\n",
    "my_dict = {\"name\": \"Alice\", \"age\": 25, \"is_student\": True}\r\n",
    "```\r\n",
    "\r\n",
    "**Basic Operations:**\r\n",
    "```python\r\n",
    "# Accessing values\r\n",
    "person_name = my_dict[\"name\"]  # Result: \"Alice\"\r\n",
    "\r\n",
    "# Modifying values\r\n",
    "my_dict[\"age\"] = 26\r\n",
    "\r\n",
    "# Adding new key-value pairs\r\n",
    "my_dict[\"city\"] = \"New York\"\r\n",
    "\r\n",
    "# Removing key-value pairs\r\n",
    "del my_dict[\"is_student\"]\r\n",
    "```\r\n"
   ]
  },
  {
   "cell_type": "markdown",
   "id": "0c4dbdf9-ba5b-413f-a734-27df8741c771",
   "metadata": {},
   "source": [
    "### ----------------------------------------------------------------------------------------"
   ]
  },
  {
   "attachments": {},
   "cell_type": "markdown",
   "id": "023cac59-d8d0-4e84-9f76-1169d891ffc9",
   "metadata": {},
   "source": [
    "Let's delve deeper into each of the basic data structures in Python: lists, tuples, and dictionaries.\r\n",
    "\r\n",
    "### **1. Lists:**\r\n",
    "\r\n",
    "A list is a mutable, ordered collection of elements. It allows you to store and manipulate data of different types.\r\n",
    "\r\n",
    "**Example:**\r\n",
    "```python\r\n",
    "# Creating a list\r\n",
    "my_list = [1, 2, 3, \"apple\", \"banana\", True]\r\n",
    "```\r\n",
    "\r\n",
    "**Common Operations:**\r\n",
    "- **Indexing and Slicing:**\r\n",
    "  ```python\r\n",
    "  first_element = my_list[0]  # Accessing the first element (1)\r\n",
    "  subset = my_list[2:5]  # Slicing from index 2 to 4 ([3, 'apple', 'banana'])\r\n",
    "  ```\r\n",
    "\r\n",
    "- **Modification:**\r\n",
    "  ```python\r\n",
    "  my_list[1] = \"orange\"  # Modifying the second element\r\n",
    "  ```\r\n",
    "\r\n",
    "- **Appending and Extending:**\r\n",
    "  ```python\r\n",
    "  my_list.append(\"grape\")  # Appending a new element\r\n",
    "  another_list = [4, 5, 6]\r\n",
    "  my_list.extend(another_list)  # Extending with another list\r\n",
    "  ```\r\n",
    "\r\n",
    "- **Removing Elements:**\r\n",
    "  ```python\r\n",
    "  my_list.remove(2)  # Removing an element by value\r\n",
    "  popped_value = my_list.pop(3)  # Removing and returning an element by index\r\n",
    "  ```\r\n",
    "\r\n",
    "### **2. Tuples:**\r\n",
    "\r\n",
    "A tuple is an immutable, ordered collection of elements. Once created, the elements of a tuple cannot be changed.\r\n",
    "\r\n",
    "**Example:**\r\n",
    "```python\r\n",
    "# Creating a tuple\r\n",
    "my_tuple = (1, 2, 3, \"apple\", \"banana\", True)\r\n",
    "```\r\n",
    "\r\n",
    "**Common Operations:**\r\n",
    "- **Indexing and Slicing:**\r\n",
    "  ```python\r\n",
    "  first_element = my_tuple[0]  # Accessing the first element (1)\r\n",
    "  subset = my_tuple[2:5]  # Slicing from index 2 to 4 ((3, 'apple', 'banana'))\r\n",
    "  ```\r\n",
    "\r\n",
    "- **Immutable Nature:**\r\n",
    "  ```python\r\n",
    "  my_tuple[1] = \"orange\"  # This will result in an error, as tuples are immutable\r\n",
    "  ```\r\n",
    "\r\n",
    "- **Creating Single-Element Tuple:**\r\n",
    "  ```python\r\n",
    "  single_element_tuple = (42,)  # Note the trailing comma\r\n",
    "  ```\r\n",
    "\r\n",
    "### **3. Dictionaries:**\r\n",
    "\r\n",
    "A dictionary is an unordered collection of key-value pairs. It allows you to efficiently retrieve, modify, and add elements based on their keys.\r\n",
    "\r\n",
    "**Example:**\r\n",
    "```python\r\n",
    "# Creating a dictionary\r\n",
    "my_dict = {\"name\": \"Alice\", \"age\": 25, \"is_student\": True}\r\n",
    "```\r\n",
    "\r\n",
    "**Common Operations:**\r\n",
    "- **Accessing Values:**\r\n",
    "  ```python\r\n",
    "  person_name = my_dict[\"name\"]  # Accessing the value for the key \"name\" (\"Alice\")\r\n",
    "  ```\r\n",
    "\r\n",
    "- **Modification:**\r\n",
    "  ```python\r\n",
    "  my_dict[\"age\"] = 26  # Modifying the value for the key \"age\"\r\n",
    "  ```\r\n",
    "\r\n",
    "- **Adding New Key-Value Pairs:**\r\n",
    "  ```python\r\n",
    "  my_dict[\"city\"] = \"New York\"  # Adding a new key-value pair\r\n",
    "  ```\r\n",
    "\r\n",
    "- **Removing Key-Value Pairs:**\r\n",
    "  ```python\r\n",
    "  del my_dict[\"is_student\"]  # Removing a key-value pair\r\n",
    "  ```\r\n",
    "\r\n",
    "- **Dictionary Methods:**\r\n",
    "  ```python\r\n",
    "  keys = my_dict.keys()  # Returns a list of keys\r\n",
    "  values = my_dict.values()  # Returns a list of values\r\n",
    "  items = my_dict.items()  # Returns a list of key-value pairs as tuples\r\n",
    "  ```\r\n"
   ]
  },
  {
   "cell_type": "markdown",
   "id": "5de993eb-2fdc-4e60-9d81-977f3c91f7d4",
   "metadata": {},
   "source": [
    "### ----------------------------------------------------------------------------------------"
   ]
  },
  {
   "attachments": {},
   "cell_type": "markdown",
   "id": "15b3b6e4-a03b-497b-b303-2d7c35adc489",
   "metadata": {},
   "source": [
    "List comprehension, dictionary comprehension, and additional features specific to each data structure enhance the capabilities of lists, dictionaries, and tuples. Let's explore these concepts in detail.\r\n",
    "\r\n",
    "### **List Comprehension:**\r\n",
    "\r\n",
    "List comprehension is a concise way to create lists in a single line, applying an expression to each item in an iterable.\r\n",
    "\r\n",
    "**Syntax:**\r\n",
    "```python\r\n",
    "new_list = [expression for item in iterable if condition]\r\n",
    "```\r\n",
    "\r\n",
    "**Example:**\r\n",
    "```python\r\n",
    "# Using a loop to create a list of squares\r\n",
    "squares = []\r\n",
    "for x in range(5):\r\n",
    "    squares.append(x**2)\r\n",
    "\r\n",
    "# Equivalent list comprehension\r\n",
    "squares = [x**2 for x in range(5)]\r\n",
    "```\r\n",
    "\r\n",
    "List comprehensions can also include an optional `if` condition for filtering elements.\r\n",
    "\r\n",
    "**Example with Condition:**\r\n",
    "```python\r\n",
    "# Using a loop to create a list of even squares\r\n",
    "even_squares = []\r\n",
    "for x in range(5):\r\n",
    "    if x % 2 == 0:\r\n",
    "        even_squares.append(x**2)\r\n",
    "\r\n",
    "# Equivalent list comprehension with condition\r\n",
    "even_squares = [x**2 for x in range(5) if x % 2 == 0]\r\n",
    "```\r\n",
    "\r\n",
    "### **Dictionary Comprehension:**\r\n",
    "\r\n",
    "Similarly, dictionary comprehension allows you to create dictionaries in a concise way.\r\n",
    "\r\n",
    "**Syntax:**\r\n",
    "```python\r\n",
    "new_dict = {key_expression: value_expression for item in iterable if condition}\r\n",
    "```\r\n",
    "\r\n",
    "**Example:**\r\n",
    "```python\r\n",
    "# Using a loop to create a dictionary of squares\r\n",
    "squares_dict = {}\r\n",
    "for x in range(5):\r\n",
    "    squares_dict[x] = x**2\r\n",
    "\r\n",
    "# Equivalent dictionary comprehension\r\n",
    "squares_dict = {x: x**2 for x in range(5)}\r\n",
    "```\r\n",
    "\r\n",
    "**Example with Condition:**\r\n",
    "```python\r\n",
    "# Using a loop to create a dictionary of even squares\r\n",
    "even_squares_dict = {}\r\n",
    "for x in range(5):\r\n",
    "    if x % 2 == 0:\r\n",
    "        even_squares_dict[x] = x**2\r\n",
    "\r\n",
    "# Equivalent dictionary comprehension with condition\r\n",
    "even_squares_dict = {x: x**2 for x in range(5) if x % 2 == 0}\r\n",
    "```\r\n",
    "\r\n",
    "### **Additional Features:**\r\n",
    "\r\n",
    "#### **Lists:**\r\n",
    "\r\n",
    "- **Sorting:**\r\n",
    "  ```python\r\n",
    "  sorted_list = sorted(my_list)  # Returns a new sorted list\r\n",
    "  my_list.sort()  # Sorts the list in-place\r\n",
    "  ```\r\n",
    "\r\n",
    "- **Reversing:**\r\n",
    "  ```python\r\n",
    "  reversed_list = reversed(my_list)  # Returns a reversed iterator\r\n",
    "  my_list.reverse()  # Reverses the list in-place\r\n",
    "  ```\r\n",
    "\r\n",
    "#### **Tuples:**\r\n",
    "\r\n",
    "- **Unpacking:**\r\n",
    "  ```python\r\n",
    "  a, b, c = my_tuple  # Unpacks elements into variables\r\n",
    "  ```\r\n",
    "\r\n",
    "#### **Dictionaries:**\r\n",
    "\r\n",
    "- **Getting Keys and Values:**\r\n",
    "  ```python\r\n",
    "  keys = my_dict.keys()  # Returns a view object of keys\r\n",
    "  values = my_dict.values()  # Returns a view object of values\r\n",
    "  ```\r\n",
    "\r\n",
    "- **Merging Dictionaries:**\r\n",
    "  ```python\r\n",
    "  dict1 = {\"a\": 1, \"b\": 2}\r\n",
    "  dict2 = {\"b\": 3, \"c\": 4}\r\n",
    "  merged_dict = {**dict1, **dict2}  # Merges dictionaries (Python 3.5+)\r\n",
    "  ```\r\n"
   ]
  },
  {
   "cell_type": "markdown",
   "id": "ce9c7bda-8080-4666-a19a-0ce1be7ded61",
   "metadata": {},
   "source": [
    "### ----------------------------------------------------------------------------------------"
   ]
  },
  {
   "attachments": {},
   "cell_type": "markdown",
   "id": "294f9075-f0b7-4720-8fb9-c188d1d00216",
   "metadata": {},
   "source": [
    "In the next session, we'll delve into two powerful libraries in Python for data manipulation and analysis: NumPy and Pandas. Here's a preview of the topics we'll cover:\r\n",
    "\r\n",
    "### **1. NumPy:**\r\n",
    "\r\n",
    "**Introduction:**\r\n",
    "- Overview of NumPy and its importance in numerical computing.\r\n",
    "- Understanding arrays: creation, indexing, and basic operations.\r\n",
    "\r\n",
    "**Array Operations:**\r\n",
    "- Mathematical operations with NumPy arrays.\r\n",
    "- Universal functions (ufuncs) and broadcasting.\r\n",
    "\r\n",
    "**Array Manipulation:**\r\n",
    "- Reshaping, stacking, and splitting arrays.\r\n",
    "- Indexing and slicing in multi-dimensional arrays.\r\n",
    "\r\n",
    "**Statistical and Mathematical Functions:**\r\n",
    "- Descriptive statistics with NumPy.\r\n",
    "- Mathematical functions like trigonometric and exponential functions.\r\n",
    "\r\n",
    "### **2. Pandas:**\r\n",
    "\r\n",
    "**Introduction to Pandas:**\r\n",
    "- Overview of Pandas and its role in data analysis.\r\n",
    "- Introduction to Series and DataFrame.\r\n",
    "\r\n",
    "**Working with Series:**\r\n",
    "- Creating, indexing, and manipulating Pandas Series.\r\n",
    "- Performing operations on Series.\r\n",
    "\r\n",
    "**Working with DataFrames:**\r\n",
    "- Creating, indexing, and selecting data in DataFrames.\r\n",
    "- Handling missing data and duplicates.\r\n",
    "\r\n",
    "**Data Manipulation with Pandas:**\r\n",
    "- Grouping and aggregating data.\r\n",
    "- Merging and concatenating DataFrames.\r\n",
    "\r\n",
    "**Data Input and Output:**\r\n",
    "- Reading and writing datcises to reinforce the concepts learned.\r\n"
   ]
  }
 ],
 "metadata": {
  "kernelspec": {
   "display_name": "Python 3 (ipykernel)",
   "language": "python",
   "name": "python3"
  },
  "language_info": {
   "codemirror_mode": {
    "name": "ipython",
    "version": 3
   },
   "file_extension": ".py",
   "mimetype": "text/x-python",
   "name": "python",
   "nbconvert_exporter": "python",
   "pygments_lexer": "ipython3",
   "version": "3.12.4"
  }
 },
 "nbformat": 4,
 "nbformat_minor": 5
}
