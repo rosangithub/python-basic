{
 "cells": [
  {
   "cell_type": "markdown",
   "id": "4e20f298-8938-466a-a14f-926489464a1c",
   "metadata": {},
   "source": [
    "Define a variable `age` and set it to your age."
   ]
  },
  {
   "cell_type": "code",
   "execution_count": null,
   "id": "b548b203-1290-4758-9f02-44137059d3a6",
   "metadata": {},
   "outputs": [],
   "source": []
  },
  {
   "cell_type": "markdown",
   "id": "d8414759-3919-4925-8ea3-4d4cc0af8aaa",
   "metadata": {},
   "source": [
    "Create a list of your three favorite fruits and print the second fruit in the list."
   ]
  },
  {
   "cell_type": "code",
   "execution_count": null,
   "id": "c2b53f07-b2ff-4a7b-bfcc-500f902c445a",
   "metadata": {},
   "outputs": [],
   "source": []
  },
  {
   "cell_type": "markdown",
   "id": "a7d8df4e-76a9-4515-ab66-a64a7e28515e",
   "metadata": {},
   "source": [
    "Create a dictionary with your name, age, and favorite color. Print your favorite color from the dictionary."
   ]
  },
  {
   "cell_type": "code",
   "execution_count": null,
   "id": "9682aa95-d3e3-4f55-8e80-1176b16d1521",
   "metadata": {},
   "outputs": [],
   "source": []
  },
  {
   "cell_type": "markdown",
   "id": "0c04ec8c-f00a-4857-b0be-7e47277bd1a2",
   "metadata": {},
   "source": [
    "- Add 10 and 5\n",
    "- Subtract 7 from 20\n",
    "- Multiply 4 by 6\n",
    "- Divide 20 by 4"
   ]
  },
  {
   "cell_type": "code",
   "execution_count": null,
   "id": "24779953-a781-4367-94cb-dde6b6c49f1d",
   "metadata": {},
   "outputs": [],
   "source": []
  },
  {
   "cell_type": "code",
   "execution_count": null,
   "id": "07e9ad67-4b6f-4bbf-b894-3812c7490cdc",
   "metadata": {},
   "outputs": [],
   "source": []
  },
  {
   "cell_type": "code",
   "execution_count": null,
   "id": "1936049b-6560-41f9-9122-3550184fb001",
   "metadata": {},
   "outputs": [],
   "source": []
  },
  {
   "cell_type": "code",
   "execution_count": null,
   "id": "85471669-148c-471c-8717-b18398e5f67b",
   "metadata": {},
   "outputs": [],
   "source": []
  },
  {
   "cell_type": "markdown",
   "id": "5b1fac1e-a7f3-41a8-affd-12aa633f318e",
   "metadata": {},
   "source": [
    "Use floor division and modulus to divide 17 by 5 and print the results."
   ]
  },
  {
   "cell_type": "code",
   "execution_count": null,
   "id": "f6d0ae15-2e98-46a4-b084-eb013170d244",
   "metadata": {},
   "outputs": [],
   "source": []
  },
  {
   "cell_type": "markdown",
   "id": "0221ae63-d611-4ecc-96b2-805875cbc51a",
   "metadata": {},
   "source": [
    "Write a script that checks if a number is positive, negative, or zero and prints an appropriate message."
   ]
  },
  {
   "cell_type": "code",
   "execution_count": null,
   "id": "1c032ac0-6e58-4833-812d-bb06110ca877",
   "metadata": {},
   "outputs": [],
   "source": []
  },
  {
   "cell_type": "markdown",
   "id": "95e2f912-6df9-408c-9266-e360503d6c99",
   "metadata": {},
   "source": [
    "Create a nested if-else statement that checks if a number is even or odd and then checks if it is greater than 10 or not."
   ]
  },
  {
   "cell_type": "code",
   "execution_count": null,
   "id": "fb33c4eb-5d52-4136-84d5-d24597fc3375",
   "metadata": {},
   "outputs": [],
   "source": []
  },
  {
   "cell_type": "markdown",
   "id": "7bbbd6ae-ce14-4886-bd76-d9dc84015712",
   "metadata": {},
   "source": [
    "Use a for loop to print each element in the list `[10, 20, 30, 40, 50]`."
   ]
  },
  {
   "cell_type": "code",
   "execution_count": null,
   "id": "e84dd840-0b68-4588-b632-1866d5252dd0",
   "metadata": {},
   "outputs": [],
   "source": []
  },
  {
   "cell_type": "markdown",
   "id": "58725c2c-8df8-41fc-8c8a-de60e0f9f573",
   "metadata": {},
   "source": [
    "Write a while loop that prints numbers from 1 to 5."
   ]
  },
  {
   "cell_type": "code",
   "execution_count": null,
   "id": "30efa004-e154-4b63-8120-e515da66da86",
   "metadata": {},
   "outputs": [],
   "source": []
  },
  {
   "cell_type": "markdown",
   "id": "f86e3cda-15f7-4642-803e-99e19c678e16",
   "metadata": {},
   "source": [
    "Write a function `greet` that takes a name as an argument and prints \"Hello, [name]!\"."
   ]
  },
  {
   "cell_type": "code",
   "execution_count": null,
   "id": "94d07271-0663-4c86-9b91-b1dff652f4f4",
   "metadata": {},
   "outputs": [],
   "source": []
  },
  {
   "cell_type": "markdown",
   "id": "bd58d8cb-3b15-47e1-87e8-e4dcc76a5140",
   "metadata": {},
   "source": [
    "Create a function `factorial` that takes a number as an argument and returns its factorial."
   ]
  },
  {
   "cell_type": "code",
   "execution_count": null,
   "id": "b70fc6c8-9a15-4a0a-953e-55ab21008719",
   "metadata": {},
   "outputs": [],
   "source": []
  },
  {
   "cell_type": "markdown",
   "id": "1703c9ba-34b6-46d5-9c24-125ff4cd24fb",
   "metadata": {},
   "source": [
    "Define a class `Book` with attributes `title` and `author`. Include a method `display_info` that prints the book's title and author."
   ]
  },
  {
   "cell_type": "code",
   "execution_count": null,
   "id": "6cc92ecb-e86c-46ab-8761-c190073047cd",
   "metadata": {},
   "outputs": [],
   "source": []
  },
  {
   "cell_type": "markdown",
   "id": "979d0427-f8cf-4508-9153-cdb236d00a4c",
   "metadata": {},
   "source": [
    "Create an instance of the `Book` class and call the `display_info` method."
   ]
  },
  {
   "cell_type": "code",
   "execution_count": null,
   "id": "8c4fa12f-3a61-4cc4-a430-1f52917e6fc6",
   "metadata": {},
   "outputs": [],
   "source": []
  },
  {
   "cell_type": "markdown",
   "id": "560047c6-8f1c-48f1-ad0c-b0c3f1de7849",
   "metadata": {},
   "source": [
    "Create a list of integers from 1 to 10. Use list comprehension to create a new list containing the squares of these integers."
   ]
  },
  {
   "cell_type": "code",
   "execution_count": null,
   "id": "813b5a48-66eb-4ac2-9d36-93a02c4a208e",
   "metadata": {},
   "outputs": [],
   "source": []
  },
  {
   "cell_type": "markdown",
   "id": "5a7c0847-6eaf-4cea-956d-a23010c2d9a0",
   "metadata": {},
   "source": [
    "Append the number 11 to the list and print the updated list."
   ]
  },
  {
   "cell_type": "code",
   "execution_count": null,
   "id": "b988e44d-bcaf-42ca-96bd-c9d990779fa4",
   "metadata": {},
   "outputs": [],
   "source": []
  },
  {
   "cell_type": "markdown",
   "id": "06a5edd9-bcda-4e16-867c-0baa019d7e4f",
   "metadata": {},
   "source": [
    "Create a tuple with the numbers 1, 2, and 3. Access and print the second element in the tuple."
   ]
  },
  {
   "cell_type": "code",
   "execution_count": null,
   "id": "be811c42-7c89-4874-9786-bc3ae1ef83b2",
   "metadata": {},
   "outputs": [],
   "source": []
  },
  {
   "cell_type": "markdown",
   "id": "f8cfeb33-a800-4247-ad00-3909acfd0194",
   "metadata": {},
   "source": [
    "Try to change the value of the first element and observe what happens."
   ]
  },
  {
   "cell_type": "code",
   "execution_count": null,
   "id": "0f7e9e47-cb4d-4bcd-9097-eb21bcb6d94b",
   "metadata": {},
   "outputs": [],
   "source": []
  },
  {
   "cell_type": "markdown",
   "id": "3fc310e1-4d59-427e-bfac-fcb27f678354",
   "metadata": {},
   "source": [
    "Create a dictionary with keys as names of three students and values as their scores. Print the score of a specific student."
   ]
  },
  {
   "cell_type": "code",
   "execution_count": null,
   "id": "13fc378d-7a47-4397-bfff-81853c5488d0",
   "metadata": {},
   "outputs": [],
   "source": []
  },
  {
   "cell_type": "markdown",
   "id": "2d0dccc3-8d02-4079-b33f-ebe886fa2601",
   "metadata": {},
   "source": [
    "Add a new student to the dictionary and update the score of an existing student."
   ]
  },
  {
   "cell_type": "code",
   "execution_count": null,
   "id": "165a886f-9203-41cc-a102-f91c026d0d82",
   "metadata": {},
   "outputs": [],
   "source": []
  },
  {
   "cell_type": "markdown",
   "id": "88c182bc-013a-47c6-a739-943d67483494",
   "metadata": {},
   "source": [
    "Import NumPy and create an array with numbers from 1 to 10."
   ]
  },
  {
   "cell_type": "code",
   "execution_count": null,
   "id": "f875a81f-4e27-48b8-b6ba-cfb0930ffd5f",
   "metadata": {},
   "outputs": [],
   "source": []
  },
  {
   "cell_type": "markdown",
   "id": "c17e2dce-07c3-4cdf-858d-54a4675b519b",
   "metadata": {},
   "source": [
    "Reshape this array to a 2x5 matrix and print it."
   ]
  },
  {
   "cell_type": "code",
   "execution_count": null,
   "id": "ac0cb2dc-336f-416f-b043-d3f85d1acd8b",
   "metadata": {},
   "outputs": [],
   "source": []
  },
  {
   "cell_type": "markdown",
   "id": "9db80db4-02d6-48bd-92a9-fd3eb7b8ebc4",
   "metadata": {},
   "source": [
    "Perform element-wise addition with another array of the same shape."
   ]
  },
  {
   "cell_type": "code",
   "execution_count": null,
   "id": "cfdf5e6e-356b-4f41-afaf-9b7f7d94de52",
   "metadata": {},
   "outputs": [],
   "source": []
  },
  {
   "cell_type": "markdown",
   "id": "c40d4f6d-82f2-4445-88df-e20d5c1eab4b",
   "metadata": {},
   "source": [
    "Import Pandas and create a DataFrame from a dictionary where keys are column names and values are lists of column data."
   ]
  },
  {
   "cell_type": "code",
   "execution_count": null,
   "id": "56f69b80-a1f7-405b-a655-519cb8944416",
   "metadata": {},
   "outputs": [],
   "source": []
  },
  {
   "cell_type": "markdown",
   "id": "82bdf369-d697-4ec6-bd65-82796a5b5f9d",
   "metadata": {},
   "source": [
    "Print the first few rows of the DataFrame."
   ]
  },
  {
   "cell_type": "code",
   "execution_count": null,
   "id": "d56d87e9-6297-45fb-81eb-5aef1ca1df0a",
   "metadata": {},
   "outputs": [],
   "source": []
  },
  {
   "cell_type": "markdown",
   "id": "a7d946cb-c0c8-4f21-8ce7-25cbbe59cd59",
   "metadata": {},
   "source": [
    "Select and print a specific column from the DataFrame."
   ]
  },
  {
   "cell_type": "code",
   "execution_count": null,
   "id": "d2f9d465-9f63-4c5c-ae99-3af113b01c38",
   "metadata": {},
   "outputs": [],
   "source": []
  }
 ],
 "metadata": {
  "kernelspec": {
   "display_name": "Python 3 (ipykernel)",
   "language": "python",
   "name": "python3"
  },
  "language_info": {
   "codemirror_mode": {
    "name": "ipython",
    "version": 3
   },
   "file_extension": ".py",
   "mimetype": "text/x-python",
   "name": "python",
   "nbconvert_exporter": "python",
   "pygments_lexer": "ipython3",
   "version": "3.9.18"
  }
 },
 "nbformat": 4,
 "nbformat_minor": 5
}
