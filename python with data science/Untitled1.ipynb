{
 "cells": [
  {
   "cell_type": "code",
   "execution_count": 1,
   "id": "243db782-9297-4aad-b7e2-a8459f74ea89",
   "metadata": {},
   "outputs": [],
   "source": [
    "import pandas as pd"
   ]
  },
  {
   "cell_type": "code",
   "execution_count": 3,
   "id": "1e4dc476-992f-4f40-86db-4828a5749573",
   "metadata": {},
   "outputs": [],
   "source": [
    "series_data=[1,2,3,4]"
   ]
  },
  {
   "cell_type": "code",
   "execution_count": 5,
   "id": "47994537-cbfc-44a6-b5ac-eeed2d9d2cc7",
   "metadata": {},
   "outputs": [],
   "source": [
    "series=pd.Series(series_data)"
   ]
  },
  {
   "cell_type": "code",
   "execution_count": 7,
   "id": "b20c51ad-4448-47d8-8262-bce7c96da81a",
   "metadata": {},
   "outputs": [
    {
     "data": {
      "text/plain": [
       "0    1\n",
       "1    2\n",
       "2    3\n",
       "3    4\n",
       "dtype: int64"
      ]
     },
     "execution_count": 7,
     "metadata": {},
     "output_type": "execute_result"
    }
   ],
   "source": [
    "series"
   ]
  },
  {
   "cell_type": "code",
   "execution_count": 9,
   "id": "b65a1cfd-cd02-43b9-8068-eeb611f1d08b",
   "metadata": {},
   "outputs": [
    {
     "data": {
      "text/plain": [
       "pandas.core.series.Series"
      ]
     },
     "execution_count": 9,
     "metadata": {},
     "output_type": "execute_result"
    }
   ],
   "source": [
    "type(series)"
   ]
  },
  {
   "cell_type": "code",
   "execution_count": 11,
   "id": "cd0441cf-b6fb-4619-b34f-5d5da3d9e50f",
   "metadata": {},
   "outputs": [
    {
     "data": {
      "text/plain": [
       "2"
      ]
     },
     "execution_count": 11,
     "metadata": {},
     "output_type": "execute_result"
    }
   ],
   "source": [
    "series[1]"
   ]
  },
  {
   "cell_type": "code",
   "execution_count": 15,
   "id": "6df2525e-7a14-4300-9a02-85b8c70b038c",
   "metadata": {},
   "outputs": [],
   "source": [
    "b=pd.Series([1,2,3,4],index=['a','b','c','d'])\n",
    "                            "
   ]
  },
  {
   "cell_type": "code",
   "execution_count": 17,
   "id": "ceeb5e78-3a31-4db4-9919-d8a647e59731",
   "metadata": {},
   "outputs": [
    {
     "data": {
      "text/plain": [
       "a    1\n",
       "b    2\n",
       "c    3\n",
       "d    4\n",
       "dtype: int64"
      ]
     },
     "execution_count": 17,
     "metadata": {},
     "output_type": "execute_result"
    }
   ],
   "source": [
    "b"
   ]
  },
  {
   "cell_type": "code",
   "execution_count": 19,
   "id": "cfa61aef-c3cf-4828-bb68-374eb2fbbad9",
   "metadata": {},
   "outputs": [
    {
     "data": {
      "text/plain": [
       "1"
      ]
     },
     "execution_count": 19,
     "metadata": {},
     "output_type": "execute_result"
    }
   ],
   "source": [
    "b['a']"
   ]
  },
  {
   "cell_type": "code",
   "execution_count": 21,
   "id": "fbec6b34-2c3a-4c6e-9ace-c007df71ebe8",
   "metadata": {},
   "outputs": [
    {
     "name": "stderr",
     "output_type": "stream",
     "text": [
      "C:\\Users\\USER\\AppData\\Local\\Temp\\ipykernel_8748\\2083252473.py:1: FutureWarning: Series.__getitem__ treating keys as positions is deprecated. In a future version, integer keys will always be treated as labels (consistent with DataFrame behavior). To access a value by position, use `ser.iloc[pos]`\n",
      "  b[2]\n"
     ]
    },
    {
     "data": {
      "text/plain": [
       "3"
      ]
     },
     "execution_count": 21,
     "metadata": {},
     "output_type": "execute_result"
    }
   ],
   "source": [
    "b[2]"
   ]
  },
  {
   "cell_type": "code",
   "execution_count": 23,
   "id": "a6606500-c22c-4ff9-ae40-73e58462dd0a",
   "metadata": {},
   "outputs": [],
   "source": [
    "c=pd.Series([23,32,45,67],index=['1','2','3','4'])"
   ]
  },
  {
   "cell_type": "code",
   "execution_count": 25,
   "id": "c39a391b-5d1b-4232-bbf1-61a787559dc2",
   "metadata": {},
   "outputs": [
    {
     "data": {
      "text/plain": [
       "1    23\n",
       "2    32\n",
       "3    45\n",
       "4    67\n",
       "dtype: int64"
      ]
     },
     "execution_count": 25,
     "metadata": {},
     "output_type": "execute_result"
    }
   ],
   "source": [
    "c"
   ]
  },
  {
   "cell_type": "code",
   "execution_count": 27,
   "id": "63cc200a-7ac3-4a13-b72d-7f628bd9604f",
   "metadata": {},
   "outputs": [
    {
     "name": "stderr",
     "output_type": "stream",
     "text": [
      "C:\\Users\\USER\\AppData\\Local\\Temp\\ipykernel_8748\\4192214634.py:1: FutureWarning: Series.__getitem__ treating keys as positions is deprecated. In a future version, integer keys will always be treated as labels (consistent with DataFrame behavior). To access a value by position, use `ser.iloc[pos]`\n",
      "  c[0]\n"
     ]
    },
    {
     "data": {
      "text/plain": [
       "23"
      ]
     },
     "execution_count": 27,
     "metadata": {},
     "output_type": "execute_result"
    }
   ],
   "source": [
    "c[0]"
   ]
  },
  {
   "cell_type": "code",
   "execution_count": 29,
   "id": "92d8f8fc-7cd2-4610-b822-f4d17bc87117",
   "metadata": {},
   "outputs": [
    {
     "name": "stderr",
     "output_type": "stream",
     "text": [
      "C:\\Users\\USER\\AppData\\Local\\Temp\\ipykernel_8748\\16272379.py:1: FutureWarning: Series.__getitem__ treating keys as positions is deprecated. In a future version, integer keys will always be treated as labels (consistent with DataFrame behavior). To access a value by position, use `ser.iloc[pos]`\n",
      "  c[1]\n"
     ]
    },
    {
     "data": {
      "text/plain": [
       "32"
      ]
     },
     "execution_count": 29,
     "metadata": {},
     "output_type": "execute_result"
    }
   ],
   "source": [
    "c[1]"
   ]
  },
  {
   "cell_type": "code",
   "execution_count": 31,
   "id": "ba7a747a-e650-4282-a309-0d48976556e2",
   "metadata": {},
   "outputs": [
    {
     "data": {
      "text/plain": [
       "23"
      ]
     },
     "execution_count": 31,
     "metadata": {},
     "output_type": "execute_result"
    }
   ],
   "source": [
    "c.loc['1']"
   ]
  },
  {
   "cell_type": "code",
   "execution_count": 33,
   "id": "2fd5cc49-8c5f-4107-83a3-b2b8cccc0d2b",
   "metadata": {},
   "outputs": [
    {
     "data": {
      "text/plain": [
       "23"
      ]
     },
     "execution_count": 33,
     "metadata": {},
     "output_type": "execute_result"
    }
   ],
   "source": [
    "c['1']"
   ]
  },
  {
   "cell_type": "code",
   "execution_count": 35,
   "id": "f7e3687e-e86f-4267-9c56-b524890dfffb",
   "metadata": {},
   "outputs": [
    {
     "data": {
      "text/plain": [
       "32"
      ]
     },
     "execution_count": 35,
     "metadata": {},
     "output_type": "execute_result"
    }
   ],
   "source": [
    "c.iloc[1]"
   ]
  },
  {
   "cell_type": "code",
   "execution_count": 37,
   "id": "38e2ad04-ae71-4e26-a103-9eaa283264f6",
   "metadata": {},
   "outputs": [
    {
     "data": {
      "text/plain": [
       "2"
      ]
     },
     "execution_count": 37,
     "metadata": {},
     "output_type": "execute_result"
    }
   ],
   "source": [
    "b.iloc[1]#return the index value"
   ]
  },
  {
   "cell_type": "code",
   "execution_count": 39,
   "id": "c46de7c3-bd94-4376-8df8-38dd4daba084",
   "metadata": {},
   "outputs": [
    {
     "data": {
      "text/plain": [
       "Index(['a', 'b', 'c', 'd'], dtype='object')"
      ]
     },
     "execution_count": 39,
     "metadata": {},
     "output_type": "execute_result"
    }
   ],
   "source": [
    "b.index"
   ]
  },
  {
   "cell_type": "code",
   "execution_count": 41,
   "id": "581e2532-963f-4091-8502-81cd9d142f8f",
   "metadata": {},
   "outputs": [
    {
     "data": {
      "text/plain": [
       "Index(['1', '2', '3', '4'], dtype='object')"
      ]
     },
     "execution_count": 41,
     "metadata": {},
     "output_type": "execute_result"
    }
   ],
   "source": [
    "c.index"
   ]
  },
  {
   "cell_type": "code",
   "execution_count": 43,
   "id": "2eda7e06-d942-4ff0-8a78-25c85af1d911",
   "metadata": {},
   "outputs": [],
   "source": [
    "#create a series which has index of five student name  and values as their roll number\n",
    "student=pd.Series([1,2,3,4,5],index=['Rosan','sneha','ankit','bardan','bipin'])\n",
    "                                    "
   ]
  },
  {
   "cell_type": "code",
   "execution_count": 45,
   "id": "97b698fb-094f-4aa2-8c3b-67a56c622273",
   "metadata": {},
   "outputs": [
    {
     "data": {
      "text/plain": [
       "Rosan     1\n",
       "sneha     2\n",
       "ankit     3\n",
       "bardan    4\n",
       "bipin     5\n",
       "dtype: int64"
      ]
     },
     "execution_count": 45,
     "metadata": {},
     "output_type": "execute_result"
    }
   ],
   "source": [
    "student"
   ]
  },
  {
   "cell_type": "code",
   "execution_count": 54,
   "id": "1d874838-cf74-4938-b488-1964759a79ac",
   "metadata": {},
   "outputs": [
    {
     "data": {
      "text/plain": [
       "1"
      ]
     },
     "execution_count": 54,
     "metadata": {},
     "output_type": "execute_result"
    }
   ],
   "source": [
    "student.loc['Rosan']"
   ]
  },
  {
   "cell_type": "code",
   "execution_count": 58,
   "id": "43b04920-596c-40a4-85d0-fee15a41a8a0",
   "metadata": {},
   "outputs": [
    {
     "data": {
      "text/plain": [
       "3"
      ]
     },
     "execution_count": 58,
     "metadata": {},
     "output_type": "execute_result"
    }
   ],
   "source": [
    "student.iloc[2]"
   ]
  },
  {
   "cell_type": "code",
   "execution_count": 62,
   "id": "99ae3f66-32bd-4c57-90de-baa583640bea",
   "metadata": {},
   "outputs": [
    {
     "data": {
      "text/plain": [
       "3"
      ]
     },
     "execution_count": 62,
     "metadata": {},
     "output_type": "execute_result"
    }
   ],
   "source": [
    "student.loc['ankit']"
   ]
  },
  {
   "cell_type": "code",
   "execution_count": 64,
   "id": "0c571814-8a01-4d46-b182-37aabf2b75fc",
   "metadata": {},
   "outputs": [
    {
     "data": {
      "text/plain": [
       "Index(['Rosan', 'sneha', 'ankit', 'bardan', 'bipin'], dtype='object')"
      ]
     },
     "execution_count": 64,
     "metadata": {},
     "output_type": "execute_result"
    }
   ],
   "source": [
    "student.index"
   ]
  },
  {
   "cell_type": "code",
   "execution_count": 68,
   "id": "53cf9b0a-4869-498c-8099-f5dac30bf2aa",
   "metadata": {},
   "outputs": [
    {
     "data": {
      "text/plain": [
       "Rosan     1\n",
       "sneha     2\n",
       "ankit     3\n",
       "bardan    4\n",
       "dtype: int64"
      ]
     },
     "execution_count": 68,
     "metadata": {},
     "output_type": "execute_result"
    }
   ],
   "source": [
    "student.iloc[:4]"
   ]
  },
  {
   "cell_type": "code",
   "execution_count": 72,
   "id": "ed3318ff-a64a-431c-812e-05f9d06363bc",
   "metadata": {},
   "outputs": [
    {
     "data": {
      "text/plain": [
       "array([1, 2, 3, 4, 5], dtype=int64)"
      ]
     },
     "execution_count": 72,
     "metadata": {},
     "output_type": "execute_result"
    }
   ],
   "source": [
    "student.values"
   ]
  },
  {
   "cell_type": "code",
   "execution_count": 74,
   "id": "bcd55fd4-e272-4055-8114-b7a5eb032f53",
   "metadata": {},
   "outputs": [
    {
     "data": {
      "text/plain": [
       "a    1\n",
       "b    2\n",
       "c    3\n",
       "d    4\n",
       "dtype: int64"
      ]
     },
     "execution_count": 74,
     "metadata": {},
     "output_type": "execute_result"
    }
   ],
   "source": [
    "b"
   ]
  },
  {
   "cell_type": "code",
   "execution_count": 76,
   "id": "584cd181-283c-4521-b224-81ff424a1540",
   "metadata": {},
   "outputs": [
    {
     "data": {
      "text/plain": [
       "a    2\n",
       "b    4\n",
       "c    6\n",
       "d    8\n",
       "dtype: int64"
      ]
     },
     "execution_count": 76,
     "metadata": {},
     "output_type": "execute_result"
    }
   ],
   "source": [
    "b*2"
   ]
  },
  {
   "cell_type": "code",
   "execution_count": 78,
   "id": "6be0321e-d78d-428b-ad9b-d4465a731875",
   "metadata": {},
   "outputs": [
    {
     "data": {
      "text/plain": [
       "a    False\n",
       "b     True\n",
       "c     True\n",
       "d     True\n",
       "dtype: bool"
      ]
     },
     "execution_count": 78,
     "metadata": {},
     "output_type": "execute_result"
    }
   ],
   "source": [
    "b>1"
   ]
  },
  {
   "cell_type": "code",
   "execution_count": 80,
   "id": "d803cda8-4fd8-4572-bd5a-a0e4aa6b59a4",
   "metadata": {},
   "outputs": [],
   "source": [
    "new_b=b[b>1]"
   ]
  },
  {
   "cell_type": "code",
   "execution_count": 82,
   "id": "67125758-22b8-44c9-843e-a21415b985b8",
   "metadata": {},
   "outputs": [
    {
     "data": {
      "text/plain": [
       "b    2\n",
       "c    3\n",
       "d    4\n",
       "dtype: int64"
      ]
     },
     "execution_count": 82,
     "metadata": {},
     "output_type": "execute_result"
    }
   ],
   "source": [
    "new_b"
   ]
  },
  {
   "cell_type": "code",
   "execution_count": 84,
   "id": "a854b430-b39b-48e4-975f-b1e7c9595100",
   "metadata": {},
   "outputs": [],
   "source": [
    "#create a series of marks which has index as students name (10 students\n",
    "marks=pd.Series([80,40,50,70,90,97,56,89,90,80],index=['ram','shyam','sita','sneha','rosan','meesha','himal','bardan','ankit','bipin'])"
   ]
  },
  {
   "cell_type": "code",
   "execution_count": 86,
   "id": "7505e656-ef31-4da7-a3b5-056455d11c86",
   "metadata": {},
   "outputs": [
    {
     "data": {
      "text/plain": [
       "ram       80\n",
       "shyam     40\n",
       "sita      50\n",
       "sneha     70\n",
       "rosan     90\n",
       "meesha    97\n",
       "himal     56\n",
       "bardan    89\n",
       "ankit     90\n",
       "bipin     80\n",
       "dtype: int64"
      ]
     },
     "execution_count": 86,
     "metadata": {},
     "output_type": "execute_result"
    }
   ],
   "source": [
    "marks"
   ]
  },
  {
   "cell_type": "code",
   "execution_count": 88,
   "id": "1a782e31-ce4b-46e9-a21f-47c3af9dfe05",
   "metadata": {},
   "outputs": [
    {
     "data": {
      "text/plain": [
       "70"
      ]
     },
     "execution_count": 88,
     "metadata": {},
     "output_type": "execute_result"
    }
   ],
   "source": [
    "marks.loc['sneha']"
   ]
  },
  {
   "cell_type": "code",
   "execution_count": 90,
   "id": "1e620767-a726-46f1-aeb3-bec43c9a8cef",
   "metadata": {},
   "outputs": [
    {
     "data": {
      "text/plain": [
       "90"
      ]
     },
     "execution_count": 90,
     "metadata": {},
     "output_type": "execute_result"
    }
   ],
   "source": [
    "marks.iloc[4]#it takes the default indexing"
   ]
  },
  {
   "cell_type": "code",
   "execution_count": 94,
   "id": "d03c3b48-16f2-4b1b-b13b-033de927bf50",
   "metadata": {},
   "outputs": [
    {
     "data": {
      "text/plain": [
       "90"
      ]
     },
     "execution_count": 94,
     "metadata": {},
     "output_type": "execute_result"
    }
   ],
   "source": [
    "marks.loc['rosan']"
   ]
  },
  {
   "cell_type": "code",
   "execution_count": 104,
   "id": "806e61b3-fb68-4e86-9734-3486eead9946",
   "metadata": {},
   "outputs": [
    {
     "data": {
      "text/plain": [
       "80"
      ]
     },
     "execution_count": 104,
     "metadata": {},
     "output_type": "execute_result"
    }
   ],
   "source": [
    "marks.iloc[9]"
   ]
  },
  {
   "cell_type": "code",
   "execution_count": 98,
   "id": "25c2e99a-be23-4984-b448-ded4672ed784",
   "metadata": {},
   "outputs": [],
   "source": [
    "new_marks=marks[marks>80"
   ]
  },
  {
   "cell_type": "code",
   "execution_count": 100,
   "id": "962b679c-bc7f-408a-9c14-c99b21f2b28e",
   "metadata": {},
   "outputs": [
    {
     "data": {
      "text/plain": [
       "rosan     90\n",
       "meesha    97\n",
       "bardan    89\n",
       "ankit     90\n",
       "dtype: int64"
      ]
     },
     "execution_count": 100,
     "metadata": {},
     "output_type": "execute_result"
    }
   ],
   "source": [
    "new_marks"
   ]
  },
  {
   "cell_type": "code",
   "execution_count": 106,
   "id": "dc088249-4081-407e-8694-f9287b5acc3b",
   "metadata": {},
   "outputs": [],
   "source": [
    "data={'Name':['Ram','Hari','shyam'],\n",
    "      'Age':[25,30,35],\n",
    "      'city':['kathmandu','pakhara','biratnagar']}"
   ]
  },
  {
   "cell_type": "code",
   "execution_count": 108,
   "id": "8dddd93c-2f25-4f37-90e0-edf84d339948",
   "metadata": {},
   "outputs": [],
   "source": [
    "df=pd.DataFrame(data)"
   ]
  },
  {
   "cell_type": "code",
   "execution_count": 110,
   "id": "e76dcb24-c128-4029-bdf9-ff50c1ecf11e",
   "metadata": {},
   "outputs": [
    {
     "data": {
      "text/html": [
       "<div>\n",
       "<style scoped>\n",
       "    .dataframe tbody tr th:only-of-type {\n",
       "        vertical-align: middle;\n",
       "    }\n",
       "\n",
       "    .dataframe tbody tr th {\n",
       "        vertical-align: top;\n",
       "    }\n",
       "\n",
       "    .dataframe thead th {\n",
       "        text-align: right;\n",
       "    }\n",
       "</style>\n",
       "<table border=\"1\" class=\"dataframe\">\n",
       "  <thead>\n",
       "    <tr style=\"text-align: right;\">\n",
       "      <th></th>\n",
       "      <th>Name</th>\n",
       "      <th>Age</th>\n",
       "      <th>city</th>\n",
       "    </tr>\n",
       "  </thead>\n",
       "  <tbody>\n",
       "    <tr>\n",
       "      <th>0</th>\n",
       "      <td>Ram</td>\n",
       "      <td>25</td>\n",
       "      <td>kathmandu</td>\n",
       "    </tr>\n",
       "    <tr>\n",
       "      <th>1</th>\n",
       "      <td>Hari</td>\n",
       "      <td>30</td>\n",
       "      <td>pakhara</td>\n",
       "    </tr>\n",
       "    <tr>\n",
       "      <th>2</th>\n",
       "      <td>shyam</td>\n",
       "      <td>35</td>\n",
       "      <td>biratnagar</td>\n",
       "    </tr>\n",
       "  </tbody>\n",
       "</table>\n",
       "</div>"
      ],
      "text/plain": [
       "    Name  Age        city\n",
       "0    Ram   25   kathmandu\n",
       "1   Hari   30     pakhara\n",
       "2  shyam   35  biratnagar"
      ]
     },
     "execution_count": 110,
     "metadata": {},
     "output_type": "execute_result"
    }
   ],
   "source": [
    "df"
   ]
  },
  {
   "cell_type": "code",
   "execution_count": 112,
   "id": "fd2ac775-14ad-49e7-81d9-d4670e3bfc01",
   "metadata": {},
   "outputs": [
    {
     "data": {
      "text/plain": [
       "Name          Ram\n",
       "Age            25\n",
       "city    kathmandu\n",
       "Name: 0, dtype: object"
      ]
     },
     "execution_count": 112,
     "metadata": {},
     "output_type": "execute_result"
    }
   ],
   "source": [
    "df.iloc[0]"
   ]
  },
  {
   "cell_type": "code",
   "execution_count": 124,
   "id": "30e4f5cc-5e6c-4701-86a9-6726b8fb1c1a",
   "metadata": {},
   "outputs": [
    {
     "data": {
      "text/plain": [
       "25"
      ]
     },
     "execution_count": 124,
     "metadata": {},
     "output_type": "execute_result"
    }
   ],
   "source": [
    "df.iloc[0,1]"
   ]
  },
  {
   "cell_type": "code",
   "execution_count": 130,
   "id": "242580fb-e215-4e3d-8611-4c4385fc2c67",
   "metadata": {},
   "outputs": [
    {
     "data": {
      "text/plain": [
       "25"
      ]
     },
     "execution_count": 130,
     "metadata": {},
     "output_type": "execute_result"
    }
   ],
   "source": [
    "df.iloc[0].loc['Age']"
   ]
  },
  {
   "cell_type": "code",
   "execution_count": 132,
   "id": "d49a3c60-1c6e-4c32-b71a-b25e3291d38f",
   "metadata": {},
   "outputs": [
    {
     "ename": "SyntaxError",
     "evalue": "invalid syntax (1399381794.py, line 4)",
     "output_type": "error",
     "traceback": [
      "\u001b[1;36m  Cell \u001b[1;32mIn[132], line 4\u001b[1;36m\u001b[0m\n\u001b[1;33m    'age':[12,23,34,,45,56,67,78,67,75,44],\u001b[0m\n\u001b[1;37m                    ^\u001b[0m\n\u001b[1;31mSyntaxError\u001b[0m\u001b[1;31m:\u001b[0m invalid syntax\n"
     ]
    }
   ],
   "source": [
    "#create a recor of 10 employeees  using dictionary which contains name,age,salary,address as keys and appropriate values as values\n",
    "employee={\n",
    "    'name':['ram','shyam','sneha','rosan','bardan','ankit','meesha','bipin','kamal','kp'],\n",
    "    'age':[12,23,34,,45,56,67,78,67,75,44],\n",
    "    'salary':[1000,20000,10000,4200,5200,65600,5500,65000,6000,800000],\n",
    "    'address':['ktm','pkr','bktt','ltr','abc','dfa','asdfa','ramechhap','dhangadi','banep']}\n"
   ]
  },
  {
   "cell_type": "code",
   "execution_count": 134,
   "id": "82e0192f-d8f1-4c0a-ba40-647c0f04ca69",
   "metadata": {},
   "outputs": [],
   "source": [
    "d=[{'name':'Rosan','age':12,'salary':4000,'address':'4rt'},\n",
    "   {'name':'sneha','age':72,'salary':1000,'address':'frt'},\n",
    "   {'name':'ankit','age':82,'salary':2000,'address':'4fdsrt'},\n",
    "   {'name':'ankit','age':82,'salary':44000,'address':'fgrt'},\n",
    "   {'name':'bardan','age':72,'salary':45000,'address':'dsf4rt'},\n",
    "   {'name':'bipin','age':62,'salary':40600,'address':'ds4rt'},\n",
    "   {'name':'dsaf','age':52,'salary':45000,'address':'dsg4rt'},\n",
    "   {'name':'df','age':32,'salary':46000,'address':'sd4rt'},\n",
    "   {'name':'hrr','age':22,'salary':40700,'address':'4ertrt'}]"
   ]
  },
  {
   "cell_type": "code",
   "execution_count": 136,
   "id": "0803a589-cc32-4f76-b034-2874e6e7c656",
   "metadata": {},
   "outputs": [
    {
     "data": {
      "text/plain": [
       "[{'name': 'Rosan', 'age': 12, 'salary': 4000, 'address': '4rt'},\n",
       " {'name': 'sneha', 'age': 12, 'salary': 1000, 'address': '4rt'},\n",
       " {'name': 'ankit', 'age': 12, 'salary': 2000, 'address': '4rt'},\n",
       " {'name': 'ankit', 'age': 12, 'salary': 44000, 'address': '4rt'},\n",
       " {'name': 'bardan', 'age': 12, 'salary': 45000, 'address': '4rt'},\n",
       " {'name': 'bipin', 'age': 12, 'salary': 40600, 'address': '4rt'},\n",
       " {'name': 'dsaf', 'age': 12, 'salary': 45000, 'address': '4rt'},\n",
       " {'name': 'df', 'age': 12, 'salary': 46000, 'address': '4rt'},\n",
       " {'name': 'hrr', 'age': 22, 'salary': 40700, 'address': '4rt'}]"
      ]
     },
     "execution_count": 136,
     "metadata": {},
     "output_type": "execute_result"
    }
   ],
   "source": [
    "d"
   ]
  },
  {
   "cell_type": "code",
   "execution_count": 138,
   "id": "8533ad9c-65c1-4419-aef2-b22df534abd2",
   "metadata": {},
   "outputs": [
    {
     "ename": "AttributeError",
     "evalue": "'list' object has no attribute 'head'",
     "output_type": "error",
     "traceback": [
      "\u001b[1;31m---------------------------------------------------------------------------\u001b[0m",
      "\u001b[1;31mAttributeError\u001b[0m                            Traceback (most recent call last)",
      "Cell \u001b[1;32mIn[138], line 1\u001b[0m\n\u001b[1;32m----> 1\u001b[0m d\u001b[38;5;241m.\u001b[39mhead()\n",
      "\u001b[1;31mAttributeError\u001b[0m: 'list' object has no attribute 'head'"
     ]
    }
   ],
   "source": []
  },
  {
   "cell_type": "code",
   "execution_count": 140,
   "id": "5f4818a4-bab0-4de7-b926-c955b956eccb",
   "metadata": {},
   "outputs": [],
   "source": [
    "emp_df=pd.DataFrame(d)"
   ]
  },
  {
   "cell_type": "code",
   "execution_count": 142,
   "id": "41c80439-3592-4aa2-ad38-ea58f0fa5e3b",
   "metadata": {},
   "outputs": [
    {
     "data": {
      "text/html": [
       "<div>\n",
       "<style scoped>\n",
       "    .dataframe tbody tr th:only-of-type {\n",
       "        vertical-align: middle;\n",
       "    }\n",
       "\n",
       "    .dataframe tbody tr th {\n",
       "        vertical-align: top;\n",
       "    }\n",
       "\n",
       "    .dataframe thead th {\n",
       "        text-align: right;\n",
       "    }\n",
       "</style>\n",
       "<table border=\"1\" class=\"dataframe\">\n",
       "  <thead>\n",
       "    <tr style=\"text-align: right;\">\n",
       "      <th></th>\n",
       "      <th>name</th>\n",
       "      <th>age</th>\n",
       "      <th>salary</th>\n",
       "      <th>address</th>\n",
       "    </tr>\n",
       "  </thead>\n",
       "  <tbody>\n",
       "    <tr>\n",
       "      <th>0</th>\n",
       "      <td>Rosan</td>\n",
       "      <td>12</td>\n",
       "      <td>4000</td>\n",
       "      <td>4rt</td>\n",
       "    </tr>\n",
       "    <tr>\n",
       "      <th>1</th>\n",
       "      <td>sneha</td>\n",
       "      <td>12</td>\n",
       "      <td>1000</td>\n",
       "      <td>4rt</td>\n",
       "    </tr>\n",
       "    <tr>\n",
       "      <th>2</th>\n",
       "      <td>ankit</td>\n",
       "      <td>12</td>\n",
       "      <td>2000</td>\n",
       "      <td>4rt</td>\n",
       "    </tr>\n",
       "    <tr>\n",
       "      <th>3</th>\n",
       "      <td>ankit</td>\n",
       "      <td>12</td>\n",
       "      <td>44000</td>\n",
       "      <td>4rt</td>\n",
       "    </tr>\n",
       "    <tr>\n",
       "      <th>4</th>\n",
       "      <td>bardan</td>\n",
       "      <td>12</td>\n",
       "      <td>45000</td>\n",
       "      <td>4rt</td>\n",
       "    </tr>\n",
       "    <tr>\n",
       "      <th>5</th>\n",
       "      <td>bipin</td>\n",
       "      <td>12</td>\n",
       "      <td>40600</td>\n",
       "      <td>4rt</td>\n",
       "    </tr>\n",
       "    <tr>\n",
       "      <th>6</th>\n",
       "      <td>dsaf</td>\n",
       "      <td>12</td>\n",
       "      <td>45000</td>\n",
       "      <td>4rt</td>\n",
       "    </tr>\n",
       "    <tr>\n",
       "      <th>7</th>\n",
       "      <td>df</td>\n",
       "      <td>12</td>\n",
       "      <td>46000</td>\n",
       "      <td>4rt</td>\n",
       "    </tr>\n",
       "    <tr>\n",
       "      <th>8</th>\n",
       "      <td>hrr</td>\n",
       "      <td>22</td>\n",
       "      <td>40700</td>\n",
       "      <td>4rt</td>\n",
       "    </tr>\n",
       "  </tbody>\n",
       "</table>\n",
       "</div>"
      ],
      "text/plain": [
       "     name  age  salary address\n",
       "0   Rosan   12    4000     4rt\n",
       "1   sneha   12    1000     4rt\n",
       "2   ankit   12    2000     4rt\n",
       "3   ankit   12   44000     4rt\n",
       "4  bardan   12   45000     4rt\n",
       "5   bipin   12   40600     4rt\n",
       "6    dsaf   12   45000     4rt\n",
       "7      df   12   46000     4rt\n",
       "8     hrr   22   40700     4rt"
      ]
     },
     "execution_count": 142,
     "metadata": {},
     "output_type": "execute_result"
    }
   ],
   "source": [
    "emp_df"
   ]
  },
  {
   "cell_type": "code",
   "execution_count": 144,
   "id": "2d30c829-c203-4aff-8819-c60e8b5928a3",
   "metadata": {},
   "outputs": [
    {
     "data": {
      "text/html": [
       "<div>\n",
       "<style scoped>\n",
       "    .dataframe tbody tr th:only-of-type {\n",
       "        vertical-align: middle;\n",
       "    }\n",
       "\n",
       "    .dataframe tbody tr th {\n",
       "        vertical-align: top;\n",
       "    }\n",
       "\n",
       "    .dataframe thead th {\n",
       "        text-align: right;\n",
       "    }\n",
       "</style>\n",
       "<table border=\"1\" class=\"dataframe\">\n",
       "  <thead>\n",
       "    <tr style=\"text-align: right;\">\n",
       "      <th></th>\n",
       "      <th>name</th>\n",
       "      <th>age</th>\n",
       "      <th>salary</th>\n",
       "      <th>address</th>\n",
       "    </tr>\n",
       "  </thead>\n",
       "  <tbody>\n",
       "    <tr>\n",
       "      <th>0</th>\n",
       "      <td>Rosan</td>\n",
       "      <td>12</td>\n",
       "      <td>4000</td>\n",
       "      <td>4rt</td>\n",
       "    </tr>\n",
       "    <tr>\n",
       "      <th>1</th>\n",
       "      <td>sneha</td>\n",
       "      <td>12</td>\n",
       "      <td>1000</td>\n",
       "      <td>4rt</td>\n",
       "    </tr>\n",
       "    <tr>\n",
       "      <th>2</th>\n",
       "      <td>ankit</td>\n",
       "      <td>12</td>\n",
       "      <td>2000</td>\n",
       "      <td>4rt</td>\n",
       "    </tr>\n",
       "    <tr>\n",
       "      <th>3</th>\n",
       "      <td>ankit</td>\n",
       "      <td>12</td>\n",
       "      <td>44000</td>\n",
       "      <td>4rt</td>\n",
       "    </tr>\n",
       "    <tr>\n",
       "      <th>4</th>\n",
       "      <td>bardan</td>\n",
       "      <td>12</td>\n",
       "      <td>45000</td>\n",
       "      <td>4rt</td>\n",
       "    </tr>\n",
       "  </tbody>\n",
       "</table>\n",
       "</div>"
      ],
      "text/plain": [
       "     name  age  salary address\n",
       "0   Rosan   12    4000     4rt\n",
       "1   sneha   12    1000     4rt\n",
       "2   ankit   12    2000     4rt\n",
       "3   ankit   12   44000     4rt\n",
       "4  bardan   12   45000     4rt"
      ]
     },
     "execution_count": 144,
     "metadata": {},
     "output_type": "execute_result"
    }
   ],
   "source": [
    "emp_df.head()"
   ]
  },
  {
   "cell_type": "code",
   "execution_count": 146,
   "id": "10d6d3b3-31ad-4c26-b7a3-76c353110c3c",
   "metadata": {},
   "outputs": [
    {
     "data": {
      "text/html": [
       "<div>\n",
       "<style scoped>\n",
       "    .dataframe tbody tr th:only-of-type {\n",
       "        vertical-align: middle;\n",
       "    }\n",
       "\n",
       "    .dataframe tbody tr th {\n",
       "        vertical-align: top;\n",
       "    }\n",
       "\n",
       "    .dataframe thead th {\n",
       "        text-align: right;\n",
       "    }\n",
       "</style>\n",
       "<table border=\"1\" class=\"dataframe\">\n",
       "  <thead>\n",
       "    <tr style=\"text-align: right;\">\n",
       "      <th></th>\n",
       "      <th>name</th>\n",
       "      <th>age</th>\n",
       "      <th>salary</th>\n",
       "      <th>address</th>\n",
       "    </tr>\n",
       "  </thead>\n",
       "  <tbody>\n",
       "    <tr>\n",
       "      <th>4</th>\n",
       "      <td>bardan</td>\n",
       "      <td>12</td>\n",
       "      <td>45000</td>\n",
       "      <td>4rt</td>\n",
       "    </tr>\n",
       "    <tr>\n",
       "      <th>5</th>\n",
       "      <td>bipin</td>\n",
       "      <td>12</td>\n",
       "      <td>40600</td>\n",
       "      <td>4rt</td>\n",
       "    </tr>\n",
       "    <tr>\n",
       "      <th>6</th>\n",
       "      <td>dsaf</td>\n",
       "      <td>12</td>\n",
       "      <td>45000</td>\n",
       "      <td>4rt</td>\n",
       "    </tr>\n",
       "    <tr>\n",
       "      <th>7</th>\n",
       "      <td>df</td>\n",
       "      <td>12</td>\n",
       "      <td>46000</td>\n",
       "      <td>4rt</td>\n",
       "    </tr>\n",
       "    <tr>\n",
       "      <th>8</th>\n",
       "      <td>hrr</td>\n",
       "      <td>22</td>\n",
       "      <td>40700</td>\n",
       "      <td>4rt</td>\n",
       "    </tr>\n",
       "  </tbody>\n",
       "</table>\n",
       "</div>"
      ],
      "text/plain": [
       "     name  age  salary address\n",
       "4  bardan   12   45000     4rt\n",
       "5   bipin   12   40600     4rt\n",
       "6    dsaf   12   45000     4rt\n",
       "7      df   12   46000     4rt\n",
       "8     hrr   22   40700     4rt"
      ]
     },
     "execution_count": 146,
     "metadata": {},
     "output_type": "execute_result"
    }
   ],
   "source": [
    "emp_df.tail()"
   ]
  },
  {
   "cell_type": "code",
   "execution_count": 148,
   "id": "1ef97ad6-e3ba-43cf-bb6b-4ff4162ef962",
   "metadata": {},
   "outputs": [],
   "source": [
    "#create a new employee df which contains emp record having salary more than 50k"
   ]
  },
  {
   "cell_type": "code",
   "execution_count": 158,
   "id": "b370c49c-6916-4716-871b-20a4fca8919e",
   "metadata": {},
   "outputs": [
    {
     "data": {
      "text/plain": [
       "0    True\n",
       "1    True\n",
       "2    True\n",
       "3    True\n",
       "4    True\n",
       "5    True\n",
       "6    True\n",
       "7    True\n",
       "8    True\n",
       "Name: salary, dtype: bool"
      ]
     },
     "execution_count": 158,
     "metadata": {},
     "output_type": "execute_result"
    }
   ],
   "source": [
    "emp_df['salary']>500"
   ]
  },
  {
   "cell_type": "code",
   "execution_count": 178,
   "id": "7a544169-1ce8-4d0c-896c-b864d97bd730",
   "metadata": {},
   "outputs": [
    {
     "data": {
      "text/html": [
       "<div>\n",
       "<style scoped>\n",
       "    .dataframe tbody tr th:only-of-type {\n",
       "        vertical-align: middle;\n",
       "    }\n",
       "\n",
       "    .dataframe tbody tr th {\n",
       "        vertical-align: top;\n",
       "    }\n",
       "\n",
       "    .dataframe thead th {\n",
       "        text-align: right;\n",
       "    }\n",
       "</style>\n",
       "<table border=\"1\" class=\"dataframe\">\n",
       "  <thead>\n",
       "    <tr style=\"text-align: right;\">\n",
       "      <th></th>\n",
       "      <th>name</th>\n",
       "      <th>age</th>\n",
       "      <th>salary</th>\n",
       "      <th>address</th>\n",
       "    </tr>\n",
       "  </thead>\n",
       "  <tbody>\n",
       "    <tr>\n",
       "      <th>3</th>\n",
       "      <td>ankit</td>\n",
       "      <td>12</td>\n",
       "      <td>44000</td>\n",
       "      <td>4rt</td>\n",
       "    </tr>\n",
       "    <tr>\n",
       "      <th>4</th>\n",
       "      <td>bardan</td>\n",
       "      <td>12</td>\n",
       "      <td>45000</td>\n",
       "      <td>4rt</td>\n",
       "    </tr>\n",
       "    <tr>\n",
       "      <th>5</th>\n",
       "      <td>bipin</td>\n",
       "      <td>12</td>\n",
       "      <td>40600</td>\n",
       "      <td>4rt</td>\n",
       "    </tr>\n",
       "    <tr>\n",
       "      <th>6</th>\n",
       "      <td>dsaf</td>\n",
       "      <td>12</td>\n",
       "      <td>45000</td>\n",
       "      <td>4rt</td>\n",
       "    </tr>\n",
       "    <tr>\n",
       "      <th>7</th>\n",
       "      <td>df</td>\n",
       "      <td>12</td>\n",
       "      <td>46000</td>\n",
       "      <td>4rt</td>\n",
       "    </tr>\n",
       "    <tr>\n",
       "      <th>8</th>\n",
       "      <td>hrr</td>\n",
       "      <td>22</td>\n",
       "      <td>40700</td>\n",
       "      <td>4rt</td>\n",
       "    </tr>\n",
       "  </tbody>\n",
       "</table>\n",
       "</div>"
      ],
      "text/plain": [
       "     name  age  salary address\n",
       "3   ankit   12   44000     4rt\n",
       "4  bardan   12   45000     4rt\n",
       "5   bipin   12   40600     4rt\n",
       "6    dsaf   12   45000     4rt\n",
       "7      df   12   46000     4rt\n",
       "8     hrr   22   40700     4rt"
      ]
     },
     "execution_count": 178,
     "metadata": {},
     "output_type": "execute_result"
    }
   ],
   "source": [
    "emp_df[emp_df['salary']>20000]"
   ]
  },
  {
   "cell_type": "code",
   "execution_count": 174,
   "id": "3e12d2f5-a96e-4a9e-8419-2c0857589724",
   "metadata": {},
   "outputs": [
    {
     "data": {
      "text/html": [
       "<div>\n",
       "<style scoped>\n",
       "    .dataframe tbody tr th:only-of-type {\n",
       "        vertical-align: middle;\n",
       "    }\n",
       "\n",
       "    .dataframe tbody tr th {\n",
       "        vertical-align: top;\n",
       "    }\n",
       "\n",
       "    .dataframe thead th {\n",
       "        text-align: right;\n",
       "    }\n",
       "</style>\n",
       "<table border=\"1\" class=\"dataframe\">\n",
       "  <thead>\n",
       "    <tr style=\"text-align: right;\">\n",
       "      <th></th>\n",
       "      <th>name</th>\n",
       "      <th>salary</th>\n",
       "    </tr>\n",
       "  </thead>\n",
       "  <tbody>\n",
       "    <tr>\n",
       "      <th>0</th>\n",
       "      <td>Rosan</td>\n",
       "      <td>4000</td>\n",
       "    </tr>\n",
       "    <tr>\n",
       "      <th>1</th>\n",
       "      <td>sneha</td>\n",
       "      <td>1000</td>\n",
       "    </tr>\n",
       "    <tr>\n",
       "      <th>2</th>\n",
       "      <td>ankit</td>\n",
       "      <td>2000</td>\n",
       "    </tr>\n",
       "    <tr>\n",
       "      <th>3</th>\n",
       "      <td>ankit</td>\n",
       "      <td>44000</td>\n",
       "    </tr>\n",
       "    <tr>\n",
       "      <th>4</th>\n",
       "      <td>bardan</td>\n",
       "      <td>45000</td>\n",
       "    </tr>\n",
       "    <tr>\n",
       "      <th>5</th>\n",
       "      <td>bipin</td>\n",
       "      <td>40600</td>\n",
       "    </tr>\n",
       "    <tr>\n",
       "      <th>6</th>\n",
       "      <td>dsaf</td>\n",
       "      <td>45000</td>\n",
       "    </tr>\n",
       "    <tr>\n",
       "      <th>7</th>\n",
       "      <td>df</td>\n",
       "      <td>46000</td>\n",
       "    </tr>\n",
       "    <tr>\n",
       "      <th>8</th>\n",
       "      <td>hrr</td>\n",
       "      <td>40700</td>\n",
       "    </tr>\n",
       "  </tbody>\n",
       "</table>\n",
       "</div>"
      ],
      "text/plain": [
       "     name  salary\n",
       "0   Rosan    4000\n",
       "1   sneha    1000\n",
       "2   ankit    2000\n",
       "3   ankit   44000\n",
       "4  bardan   45000\n",
       "5   bipin   40600\n",
       "6    dsaf   45000\n",
       "7      df   46000\n",
       "8     hrr   40700"
      ]
     },
     "execution_count": 174,
     "metadata": {},
     "output_type": "execute_result"
    }
   ],
   "source": [
    "emp_df[pd.Series(['name','salary'])]"
   ]
  },
  {
   "cell_type": "code",
   "execution_count": 180,
   "id": "7218fe24-81cc-4a37-9287-ff87ba20b17d",
   "metadata": {},
   "outputs": [
    {
     "data": {
      "text/html": [
       "<div>\n",
       "<style scoped>\n",
       "    .dataframe tbody tr th:only-of-type {\n",
       "        vertical-align: middle;\n",
       "    }\n",
       "\n",
       "    .dataframe tbody tr th {\n",
       "        vertical-align: top;\n",
       "    }\n",
       "\n",
       "    .dataframe thead th {\n",
       "        text-align: right;\n",
       "    }\n",
       "</style>\n",
       "<table border=\"1\" class=\"dataframe\">\n",
       "  <thead>\n",
       "    <tr style=\"text-align: right;\">\n",
       "      <th></th>\n",
       "      <th>name</th>\n",
       "    </tr>\n",
       "  </thead>\n",
       "  <tbody>\n",
       "    <tr>\n",
       "      <th>0</th>\n",
       "      <td>Rosan</td>\n",
       "    </tr>\n",
       "    <tr>\n",
       "      <th>1</th>\n",
       "      <td>sneha</td>\n",
       "    </tr>\n",
       "    <tr>\n",
       "      <th>2</th>\n",
       "      <td>ankit</td>\n",
       "    </tr>\n",
       "    <tr>\n",
       "      <th>3</th>\n",
       "      <td>ankit</td>\n",
       "    </tr>\n",
       "    <tr>\n",
       "      <th>4</th>\n",
       "      <td>bardan</td>\n",
       "    </tr>\n",
       "    <tr>\n",
       "      <th>5</th>\n",
       "      <td>bipin</td>\n",
       "    </tr>\n",
       "    <tr>\n",
       "      <th>6</th>\n",
       "      <td>dsaf</td>\n",
       "    </tr>\n",
       "    <tr>\n",
       "      <th>7</th>\n",
       "      <td>df</td>\n",
       "    </tr>\n",
       "    <tr>\n",
       "      <th>8</th>\n",
       "      <td>hrr</td>\n",
       "    </tr>\n",
       "  </tbody>\n",
       "</table>\n",
       "</div>"
      ],
      "text/plain": [
       "     name\n",
       "0   Rosan\n",
       "1   sneha\n",
       "2   ankit\n",
       "3   ankit\n",
       "4  bardan\n",
       "5   bipin\n",
       "6    dsaf\n",
       "7      df\n",
       "8     hrr"
      ]
     },
     "execution_count": 180,
     "metadata": {},
     "output_type": "execute_result"
    }
   ],
   "source": [
    "emp_df[['name']]\n",
    "        "
   ]
  },
  {
   "cell_type": "code",
   "execution_count": 184,
   "id": "732ecfa8-3792-4a99-ac62-9804c1dfc074",
   "metadata": {},
   "outputs": [
    {
     "data": {
      "text/html": [
       "<div>\n",
       "<style scoped>\n",
       "    .dataframe tbody tr th:only-of-type {\n",
       "        vertical-align: middle;\n",
       "    }\n",
       "\n",
       "    .dataframe tbody tr th {\n",
       "        vertical-align: top;\n",
       "    }\n",
       "\n",
       "    .dataframe thead th {\n",
       "        text-align: right;\n",
       "    }\n",
       "</style>\n",
       "<table border=\"1\" class=\"dataframe\">\n",
       "  <thead>\n",
       "    <tr style=\"text-align: right;\">\n",
       "      <th></th>\n",
       "      <th>name</th>\n",
       "      <th>age</th>\n",
       "      <th>salary</th>\n",
       "      <th>address</th>\n",
       "    </tr>\n",
       "  </thead>\n",
       "  <tbody>\n",
       "  </tbody>\n",
       "</table>\n",
       "</div>"
      ],
      "text/plain": [
       "Empty DataFrame\n",
       "Columns: [name, age, salary, address]\n",
       "Index: []"
      ]
     },
     "execution_count": 184,
     "metadata": {},
     "output_type": "execute_result"
    }
   ],
   "source": [
    "emp_df[emp_df['age']>30]"
   ]
  },
  {
   "cell_type": "code",
   "execution_count": 186,
   "id": "1e66f244-3226-43bc-9745-2638485f216c",
   "metadata": {},
   "outputs": [
    {
     "data": {
      "text/plain": [
       "(9, 4)"
      ]
     },
     "execution_count": 186,
     "metadata": {},
     "output_type": "execute_result"
    }
   ],
   "source": [
    "emp_df.shape"
   ]
  },
  {
   "cell_type": "code",
   "execution_count": 190,
   "id": "f49df921-8f28-4211-85a9-dfd89e31a9c2",
   "metadata": {},
   "outputs": [
    {
     "name": "stdout",
     "output_type": "stream",
     "text": [
      "<class 'pandas.core.frame.DataFrame'>\n",
      "RangeIndex: 9 entries, 0 to 8\n",
      "Data columns (total 4 columns):\n",
      " #   Column   Non-Null Count  Dtype \n",
      "---  ------   --------------  ----- \n",
      " 0   name     9 non-null      object\n",
      " 1   age      9 non-null      int64 \n",
      " 2   salary   9 non-null      int64 \n",
      " 3   address  9 non-null      object\n",
      "dtypes: int64(2), object(2)\n",
      "memory usage: 420.0+ bytes\n"
     ]
    }
   ],
   "source": [
    "emp_df.info()"
   ]
  },
  {
   "cell_type": "code",
   "execution_count": 192,
   "id": "a4f6370f-57f2-4868-8522-2a0ea91bab5d",
   "metadata": {},
   "outputs": [
    {
     "data": {
      "text/html": [
       "<div>\n",
       "<style scoped>\n",
       "    .dataframe tbody tr th:only-of-type {\n",
       "        vertical-align: middle;\n",
       "    }\n",
       "\n",
       "    .dataframe tbody tr th {\n",
       "        vertical-align: top;\n",
       "    }\n",
       "\n",
       "    .dataframe thead th {\n",
       "        text-align: right;\n",
       "    }\n",
       "</style>\n",
       "<table border=\"1\" class=\"dataframe\">\n",
       "  <thead>\n",
       "    <tr style=\"text-align: right;\">\n",
       "      <th></th>\n",
       "      <th>age</th>\n",
       "      <th>salary</th>\n",
       "    </tr>\n",
       "  </thead>\n",
       "  <tbody>\n",
       "    <tr>\n",
       "      <th>count</th>\n",
       "      <td>9.000000</td>\n",
       "      <td>9.000000</td>\n",
       "    </tr>\n",
       "    <tr>\n",
       "      <th>mean</th>\n",
       "      <td>13.111111</td>\n",
       "      <td>29811.111111</td>\n",
       "    </tr>\n",
       "    <tr>\n",
       "      <th>std</th>\n",
       "      <td>3.333333</td>\n",
       "      <td>20704.857186</td>\n",
       "    </tr>\n",
       "    <tr>\n",
       "      <th>min</th>\n",
       "      <td>12.000000</td>\n",
       "      <td>1000.000000</td>\n",
       "    </tr>\n",
       "    <tr>\n",
       "      <th>25%</th>\n",
       "      <td>12.000000</td>\n",
       "      <td>4000.000000</td>\n",
       "    </tr>\n",
       "    <tr>\n",
       "      <th>50%</th>\n",
       "      <td>12.000000</td>\n",
       "      <td>40700.000000</td>\n",
       "    </tr>\n",
       "    <tr>\n",
       "      <th>75%</th>\n",
       "      <td>12.000000</td>\n",
       "      <td>45000.000000</td>\n",
       "    </tr>\n",
       "    <tr>\n",
       "      <th>max</th>\n",
       "      <td>22.000000</td>\n",
       "      <td>46000.000000</td>\n",
       "    </tr>\n",
       "  </tbody>\n",
       "</table>\n",
       "</div>"
      ],
      "text/plain": [
       "             age        salary\n",
       "count   9.000000      9.000000\n",
       "mean   13.111111  29811.111111\n",
       "std     3.333333  20704.857186\n",
       "min    12.000000   1000.000000\n",
       "25%    12.000000   4000.000000\n",
       "50%    12.000000  40700.000000\n",
       "75%    12.000000  45000.000000\n",
       "max    22.000000  46000.000000"
      ]
     },
     "execution_count": 192,
     "metadata": {},
     "output_type": "execute_result"
    }
   ],
   "source": [
    "emp_df.describe()"
   ]
  },
  {
   "cell_type": "code",
   "execution_count": 197,
   "id": "00f065a0-bc8b-4136-9211-983169f7cfa0",
   "metadata": {},
   "outputs": [],
   "source": [
    "df=pd.read_csv('mt_everest.csv')#csv=comma seperated value"
   ]
  },
  {
   "cell_type": "code",
   "execution_count": 199,
   "id": "5c30c92f-0142-4be2-8374-a408da396c12",
   "metadata": {},
   "outputs": [
    {
     "name": "stdout",
     "output_type": "stream",
     "text": [
      "<class 'pandas.core.frame.DataFrame'>\n",
      "RangeIndex: 5301 entries, 0 to 5300\n",
      "Data columns (total 9 columns):\n",
      " #   Column            Non-Null Count  Dtype \n",
      "---  ------            --------------  ----- \n",
      " 0   _id               5301 non-null   int64 \n",
      " 1   NAME              5301 non-null   object\n",
      " 2   COUNTRY           5301 non-null   object\n",
      " 3   DAY               5301 non-null   int64 \n",
      " 4   MONTH             5301 non-null   int64 \n",
      " 5   YEAR              5301 non-null   int64 \n",
      " 6   ROUTE             2692 non-null   object\n",
      " 7   NAME OF THE TEAM  5208 non-null   object\n",
      " 8   LEADER            5172 non-null   object\n",
      "dtypes: int64(4), object(5)\n",
      "memory usage: 372.9+ KB\n"
     ]
    }
   ],
   "source": [
    "df.info()"
   ]
  },
  {
   "cell_type": "code",
   "execution_count": 201,
   "id": "601d3529-56a1-4f4b-9d33-5685ed6f2793",
   "metadata": {},
   "outputs": [
    {
     "data": {
      "text/html": [
       "<div>\n",
       "<style scoped>\n",
       "    .dataframe tbody tr th:only-of-type {\n",
       "        vertical-align: middle;\n",
       "    }\n",
       "\n",
       "    .dataframe tbody tr th {\n",
       "        vertical-align: top;\n",
       "    }\n",
       "\n",
       "    .dataframe thead th {\n",
       "        text-align: right;\n",
       "    }\n",
       "</style>\n",
       "<table border=\"1\" class=\"dataframe\">\n",
       "  <thead>\n",
       "    <tr style=\"text-align: right;\">\n",
       "      <th></th>\n",
       "      <th>_id</th>\n",
       "      <th>DAY</th>\n",
       "      <th>MONTH</th>\n",
       "      <th>YEAR</th>\n",
       "    </tr>\n",
       "  </thead>\n",
       "  <tbody>\n",
       "    <tr>\n",
       "      <th>count</th>\n",
       "      <td>5301.000000</td>\n",
       "      <td>5301.000000</td>\n",
       "      <td>5301.000000</td>\n",
       "      <td>5301.000000</td>\n",
       "    </tr>\n",
       "    <tr>\n",
       "      <th>mean</th>\n",
       "      <td>2651.000000</td>\n",
       "      <td>19.540841</td>\n",
       "      <td>5.251651</td>\n",
       "      <td>2007.150915</td>\n",
       "    </tr>\n",
       "    <tr>\n",
       "      <th>std</th>\n",
       "      <td>1530.411219</td>\n",
       "      <td>5.384541</td>\n",
       "      <td>1.171380</td>\n",
       "      <td>9.323426</td>\n",
       "    </tr>\n",
       "    <tr>\n",
       "      <th>min</th>\n",
       "      <td>1.000000</td>\n",
       "      <td>1.000000</td>\n",
       "      <td>1.000000</td>\n",
       "      <td>1953.000000</td>\n",
       "    </tr>\n",
       "    <tr>\n",
       "      <th>25%</th>\n",
       "      <td>1326.000000</td>\n",
       "      <td>17.000000</td>\n",
       "      <td>5.000000</td>\n",
       "      <td>2004.000000</td>\n",
       "    </tr>\n",
       "    <tr>\n",
       "      <th>50%</th>\n",
       "      <td>2651.000000</td>\n",
       "      <td>20.000000</td>\n",
       "      <td>5.000000</td>\n",
       "      <td>2009.000000</td>\n",
       "    </tr>\n",
       "    <tr>\n",
       "      <th>75%</th>\n",
       "      <td>3976.000000</td>\n",
       "      <td>23.000000</td>\n",
       "      <td>5.000000</td>\n",
       "      <td>2013.000000</td>\n",
       "    </tr>\n",
       "    <tr>\n",
       "      <th>max</th>\n",
       "      <td>5301.000000</td>\n",
       "      <td>31.000000</td>\n",
       "      <td>12.000000</td>\n",
       "      <td>2088.000000</td>\n",
       "    </tr>\n",
       "  </tbody>\n",
       "</table>\n",
       "</div>"
      ],
      "text/plain": [
       "               _id          DAY        MONTH         YEAR\n",
       "count  5301.000000  5301.000000  5301.000000  5301.000000\n",
       "mean   2651.000000    19.540841     5.251651  2007.150915\n",
       "std    1530.411219     5.384541     1.171380     9.323426\n",
       "min       1.000000     1.000000     1.000000  1953.000000\n",
       "25%    1326.000000    17.000000     5.000000  2004.000000\n",
       "50%    2651.000000    20.000000     5.000000  2009.000000\n",
       "75%    3976.000000    23.000000     5.000000  2013.000000\n",
       "max    5301.000000    31.000000    12.000000  2088.000000"
      ]
     },
     "execution_count": 201,
     "metadata": {},
     "output_type": "execute_result"
    }
   ],
   "source": [
    "df.describe()"
   ]
  },
  {
   "cell_type": "code",
   "execution_count": 203,
   "id": "853cdce3-07c8-4c62-b252-350e3c63cea7",
   "metadata": {},
   "outputs": [
    {
     "data": {
      "text/html": [
       "<div>\n",
       "<style scoped>\n",
       "    .dataframe tbody tr th:only-of-type {\n",
       "        vertical-align: middle;\n",
       "    }\n",
       "\n",
       "    .dataframe tbody tr th {\n",
       "        vertical-align: top;\n",
       "    }\n",
       "\n",
       "    .dataframe thead th {\n",
       "        text-align: right;\n",
       "    }\n",
       "</style>\n",
       "<table border=\"1\" class=\"dataframe\">\n",
       "  <thead>\n",
       "    <tr style=\"text-align: right;\">\n",
       "      <th></th>\n",
       "      <th>_id</th>\n",
       "      <th>NAME</th>\n",
       "      <th>COUNTRY</th>\n",
       "      <th>DAY</th>\n",
       "      <th>MONTH</th>\n",
       "      <th>YEAR</th>\n",
       "      <th>ROUTE</th>\n",
       "      <th>NAME OF THE TEAM</th>\n",
       "      <th>LEADER</th>\n",
       "    </tr>\n",
       "  </thead>\n",
       "  <tbody>\n",
       "    <tr>\n",
       "      <th>0</th>\n",
       "      <td>1</td>\n",
       "      <td>TENZING NORGAY</td>\n",
       "      <td>NEPAL</td>\n",
       "      <td>29</td>\n",
       "      <td>5</td>\n",
       "      <td>1953</td>\n",
       "      <td>SOUTHCOL</td>\n",
       "      <td>BRITISH EXPEDITION</td>\n",
       "      <td>Lord John Hunt</td>\n",
       "    </tr>\n",
       "    <tr>\n",
       "      <th>1</th>\n",
       "      <td>2</td>\n",
       "      <td>EDMUND HILLARY</td>\n",
       "      <td>NEW ZEALAND</td>\n",
       "      <td>29</td>\n",
       "      <td>5</td>\n",
       "      <td>1953</td>\n",
       "      <td>SOUTHCOL</td>\n",
       "      <td>BRITISH EXPEDITION</td>\n",
       "      <td>\"</td>\n",
       "    </tr>\n",
       "    <tr>\n",
       "      <th>2</th>\n",
       "      <td>3</td>\n",
       "      <td>ERNST SCHMIED</td>\n",
       "      <td>SWITZERLAND</td>\n",
       "      <td>23</td>\n",
       "      <td>5</td>\n",
       "      <td>1956</td>\n",
       "      <td>SOUTHCOL</td>\n",
       "      <td>SWITZERLAND EXPEDITION</td>\n",
       "      <td>Alber Eggler</td>\n",
       "    </tr>\n",
       "    <tr>\n",
       "      <th>3</th>\n",
       "      <td>4</td>\n",
       "      <td>JUERGE MARMET</td>\n",
       "      <td>SWITZERLAND</td>\n",
       "      <td>23</td>\n",
       "      <td>5</td>\n",
       "      <td>1956</td>\n",
       "      <td>SOUTHCOL</td>\n",
       "      <td>SWITZERLAND EXPEDITION</td>\n",
       "      <td>\"</td>\n",
       "    </tr>\n",
       "    <tr>\n",
       "      <th>4</th>\n",
       "      <td>5</td>\n",
       "      <td>ADOLF REIST</td>\n",
       "      <td>SWITZERLAND</td>\n",
       "      <td>24</td>\n",
       "      <td>5</td>\n",
       "      <td>1956</td>\n",
       "      <td>SOUTHCOL</td>\n",
       "      <td>SWITZERLAND EXPEDITION</td>\n",
       "      <td>\"</td>\n",
       "    </tr>\n",
       "  </tbody>\n",
       "</table>\n",
       "</div>"
      ],
      "text/plain": [
       "   _id            NAME      COUNTRY  DAY  MONTH  YEAR     ROUTE  \\\n",
       "0    1  TENZING NORGAY        NEPAL   29      5  1953  SOUTHCOL   \n",
       "1    2  EDMUND HILLARY  NEW ZEALAND   29      5  1953  SOUTHCOL   \n",
       "2    3   ERNST SCHMIED  SWITZERLAND   23      5  1956  SOUTHCOL   \n",
       "3    4   JUERGE MARMET  SWITZERLAND   23      5  1956  SOUTHCOL   \n",
       "4    5     ADOLF REIST  SWITZERLAND   24      5  1956  SOUTHCOL   \n",
       "\n",
       "         NAME OF THE TEAM          LEADER  \n",
       "0      BRITISH EXPEDITION  Lord John Hunt  \n",
       "1      BRITISH EXPEDITION               \"  \n",
       "2  SWITZERLAND EXPEDITION    Alber Eggler  \n",
       "3  SWITZERLAND EXPEDITION               \"  \n",
       "4  SWITZERLAND EXPEDITION               \"  "
      ]
     },
     "execution_count": 203,
     "metadata": {},
     "output_type": "execute_result"
    }
   ],
   "source": [
    "df.head()"
   ]
  },
  {
   "cell_type": "code",
   "execution_count": 211,
   "id": "eb6ff2f5-b028-4465-85b0-798c975596e7",
   "metadata": {},
   "outputs": [
    {
     "ename": "NameError",
     "evalue": "name 'name' is not defined",
     "output_type": "error",
     "traceback": [
      "\u001b[1;31m---------------------------------------------------------------------------\u001b[0m",
      "\u001b[1;31mNameError\u001b[0m                                 Traceback (most recent call last)",
      "Cell \u001b[1;32mIn[211], line 1\u001b[0m\n\u001b[1;32m----> 1\u001b[0m name,age,roll\n\u001b[0;32m      2\u001b[0m \u001b[38;5;124m\"\u001b[39m\u001b[38;5;124mHari\u001b[39m\u001b[38;5;124m\"\u001b[39m,\u001b[38;5;241m30\u001b[39m,\u001b[38;5;241m12\u001b[39m\n\u001b[0;32m      3\u001b[0m \u001b[38;5;124m'\u001b[39m\u001b[38;5;124mRam\u001b[39m\u001b[38;5;124m'\u001b[39m,\u001b[38;5;241m20\u001b[39m,\u001b[38;5;241m13\u001b[39m\n",
      "\u001b[1;31mNameError\u001b[0m: name 'name' is not defined"
     ]
    }
   ],
   "source": [
    "name,age,roll\n",
    "\"Hari\",30,12\n",
    "'Ram',20,13"
   ]
  },
  {
   "cell_type": "code",
   "execution_count": 217,
   "id": "a86bf6ce-7ea1-4df8-8cdf-b081227acd95",
   "metadata": {},
   "outputs": [],
   "source": [
    "new_df=pd.read_csv('mt_everest.csv')"
   ]
  },
  {
   "cell_type": "code",
   "execution_count": 241,
   "id": "60bfc800-d8f1-42ac-8ae0-19789e8fd1bf",
   "metadata": {},
   "outputs": [
    {
     "data": {
      "text/html": [
       "<div>\n",
       "<style scoped>\n",
       "    .dataframe tbody tr th:only-of-type {\n",
       "        vertical-align: middle;\n",
       "    }\n",
       "\n",
       "    .dataframe tbody tr th {\n",
       "        vertical-align: top;\n",
       "    }\n",
       "\n",
       "    .dataframe thead th {\n",
       "        text-align: right;\n",
       "    }\n",
       "</style>\n",
       "<table border=\"1\" class=\"dataframe\">\n",
       "  <thead>\n",
       "    <tr style=\"text-align: right;\">\n",
       "      <th></th>\n",
       "      <th>_id</th>\n",
       "      <th>NAME</th>\n",
       "      <th>COUNTRY</th>\n",
       "      <th>DAY</th>\n",
       "      <th>MONTH</th>\n",
       "      <th>YEAR</th>\n",
       "      <th>ROUTE</th>\n",
       "      <th>NAME OF THE TEAM</th>\n",
       "      <th>LEADER</th>\n",
       "    </tr>\n",
       "  </thead>\n",
       "  <tbody>\n",
       "    <tr>\n",
       "      <th>0</th>\n",
       "      <td>1</td>\n",
       "      <td>TENZING NORGAY</td>\n",
       "      <td>NEPAL</td>\n",
       "      <td>29</td>\n",
       "      <td>5</td>\n",
       "      <td>1953</td>\n",
       "      <td>SOUTHCOL</td>\n",
       "      <td>BRITISH EXPEDITION</td>\n",
       "      <td>Lord John Hunt</td>\n",
       "    </tr>\n",
       "    <tr>\n",
       "      <th>1</th>\n",
       "      <td>2</td>\n",
       "      <td>EDMUND HILLARY</td>\n",
       "      <td>NEW ZEALAND</td>\n",
       "      <td>29</td>\n",
       "      <td>5</td>\n",
       "      <td>1953</td>\n",
       "      <td>SOUTHCOL</td>\n",
       "      <td>BRITISH EXPEDITION</td>\n",
       "      <td>\"</td>\n",
       "    </tr>\n",
       "    <tr>\n",
       "      <th>2</th>\n",
       "      <td>3</td>\n",
       "      <td>ERNST SCHMIED</td>\n",
       "      <td>SWITZERLAND</td>\n",
       "      <td>23</td>\n",
       "      <td>5</td>\n",
       "      <td>1956</td>\n",
       "      <td>SOUTHCOL</td>\n",
       "      <td>SWITZERLAND EXPEDITION</td>\n",
       "      <td>Alber Eggler</td>\n",
       "    </tr>\n",
       "    <tr>\n",
       "      <th>3</th>\n",
       "      <td>4</td>\n",
       "      <td>JUERGE MARMET</td>\n",
       "      <td>SWITZERLAND</td>\n",
       "      <td>23</td>\n",
       "      <td>5</td>\n",
       "      <td>1956</td>\n",
       "      <td>SOUTHCOL</td>\n",
       "      <td>SWITZERLAND EXPEDITION</td>\n",
       "      <td>\"</td>\n",
       "    </tr>\n",
       "    <tr>\n",
       "      <th>4</th>\n",
       "      <td>5</td>\n",
       "      <td>ADOLF REIST</td>\n",
       "      <td>SWITZERLAND</td>\n",
       "      <td>24</td>\n",
       "      <td>5</td>\n",
       "      <td>1956</td>\n",
       "      <td>SOUTHCOL</td>\n",
       "      <td>SWITZERLAND EXPEDITION</td>\n",
       "      <td>\"</td>\n",
       "    </tr>\n",
       "  </tbody>\n",
       "</table>\n",
       "</div>"
      ],
      "text/plain": [
       "   _id            NAME      COUNTRY  DAY  MONTH  YEAR     ROUTE  \\\n",
       "0    1  TENZING NORGAY        NEPAL   29      5  1953  SOUTHCOL   \n",
       "1    2  EDMUND HILLARY  NEW ZEALAND   29      5  1953  SOUTHCOL   \n",
       "2    3   ERNST SCHMIED  SWITZERLAND   23      5  1956  SOUTHCOL   \n",
       "3    4   JUERGE MARMET  SWITZERLAND   23      5  1956  SOUTHCOL   \n",
       "4    5     ADOLF REIST  SWITZERLAND   24      5  1956  SOUTHCOL   \n",
       "\n",
       "         NAME OF THE TEAM          LEADER  \n",
       "0      BRITISH EXPEDITION  Lord John Hunt  \n",
       "1      BRITISH EXPEDITION               \"  \n",
       "2  SWITZERLAND EXPEDITION    Alber Eggler  \n",
       "3  SWITZERLAND EXPEDITION               \"  \n",
       "4  SWITZERLAND EXPEDITION               \"  "
      ]
     },
     "execution_count": 241,
     "metadata": {},
     "output_type": "execute_result"
    }
   ],
   "source": [
    "#create a function which takes _id and df as arguments and returns corresponding name\n",
    "df.head()\n",
    "    "
   ]
  },
  {
   "cell_type": "code",
   "execution_count": 227,
   "id": "4fcd3c82-7735-4cf7-8cae-89b22c1a50dd",
   "metadata": {},
   "outputs": [
    {
     "data": {
      "text/plain": [
       "'ERNST SCHMIED'"
      ]
     },
     "execution_count": 227,
     "metadata": {},
     "output_type": "execute_result"
    }
   ],
   "source": [
    "df[df['_id']==3]['NAME'].iloc[0]#.loc[2]"
   ]
  },
  {
   "cell_type": "code",
   "execution_count": 229,
   "id": "616f8050-d7f7-4a2f-9a94-5bdf70922859",
   "metadata": {},
   "outputs": [
    {
     "data": {
      "text/html": [
       "<div>\n",
       "<style scoped>\n",
       "    .dataframe tbody tr th:only-of-type {\n",
       "        vertical-align: middle;\n",
       "    }\n",
       "\n",
       "    .dataframe tbody tr th {\n",
       "        vertical-align: top;\n",
       "    }\n",
       "\n",
       "    .dataframe thead th {\n",
       "        text-align: right;\n",
       "    }\n",
       "</style>\n",
       "<table border=\"1\" class=\"dataframe\">\n",
       "  <thead>\n",
       "    <tr style=\"text-align: right;\">\n",
       "      <th></th>\n",
       "      <th>_id</th>\n",
       "      <th>NAME</th>\n",
       "      <th>COUNTRY</th>\n",
       "      <th>DAY</th>\n",
       "      <th>MONTH</th>\n",
       "      <th>YEAR</th>\n",
       "      <th>ROUTE</th>\n",
       "      <th>NAME OF THE TEAM</th>\n",
       "      <th>LEADER</th>\n",
       "    </tr>\n",
       "  </thead>\n",
       "  <tbody>\n",
       "    <tr>\n",
       "      <th>5296</th>\n",
       "      <td>5297</td>\n",
       "      <td>MR. PEMBA RITA SHERPA</td>\n",
       "      <td>NEPAL</td>\n",
       "      <td>27</td>\n",
       "      <td>5</td>\n",
       "      <td>2017</td>\n",
       "      <td>NaN</td>\n",
       "      <td>\"</td>\n",
       "      <td>\"</td>\n",
       "    </tr>\n",
       "    <tr>\n",
       "      <th>5297</th>\n",
       "      <td>5298</td>\n",
       "      <td>MR. PASANG GYALZEN</td>\n",
       "      <td>NEPAL</td>\n",
       "      <td>27</td>\n",
       "      <td>5</td>\n",
       "      <td>2017</td>\n",
       "      <td>NaN</td>\n",
       "      <td>NaN</td>\n",
       "      <td>NaN</td>\n",
       "    </tr>\n",
       "    <tr>\n",
       "      <th>5298</th>\n",
       "      <td>5299</td>\n",
       "      <td>MR. MINGMA DORJI SHERPA</td>\n",
       "      <td>NEPAL</td>\n",
       "      <td>16</td>\n",
       "      <td>5</td>\n",
       "      <td>2017</td>\n",
       "      <td>NaN</td>\n",
       "      <td>\"</td>\n",
       "      <td>\"</td>\n",
       "    </tr>\n",
       "    <tr>\n",
       "      <th>5299</th>\n",
       "      <td>5300</td>\n",
       "      <td>MR. DAWA SANGE SHERPA</td>\n",
       "      <td>NEPAL</td>\n",
       "      <td>21</td>\n",
       "      <td>5</td>\n",
       "      <td>2017</td>\n",
       "      <td>NaN</td>\n",
       "      <td>\"</td>\n",
       "      <td>\"</td>\n",
       "    </tr>\n",
       "    <tr>\n",
       "      <th>5300</th>\n",
       "      <td>5301</td>\n",
       "      <td>MR. PASANG BHOTE</td>\n",
       "      <td>NEPAL</td>\n",
       "      <td>21</td>\n",
       "      <td>5</td>\n",
       "      <td>2017</td>\n",
       "      <td>NaN</td>\n",
       "      <td>\"</td>\n",
       "      <td>\"</td>\n",
       "    </tr>\n",
       "  </tbody>\n",
       "</table>\n",
       "</div>"
      ],
      "text/plain": [
       "       _id                     NAME COUNTRY  DAY  MONTH  YEAR ROUTE  \\\n",
       "5296  5297    MR. PEMBA RITA SHERPA   NEPAL   27      5  2017   NaN   \n",
       "5297  5298       MR. PASANG GYALZEN   NEPAL   27      5  2017   NaN   \n",
       "5298  5299  MR. MINGMA DORJI SHERPA   NEPAL   16      5  2017   NaN   \n",
       "5299  5300    MR. DAWA SANGE SHERPA   NEPAL   21      5  2017   NaN   \n",
       "5300  5301         MR. PASANG BHOTE   NEPAL   21      5  2017   NaN   \n",
       "\n",
       "     NAME OF THE TEAM LEADER  \n",
       "5296                \"      \"  \n",
       "5297              NaN    NaN  \n",
       "5298                \"      \"  \n",
       "5299                \"      \"  \n",
       "5300                \"      \"  "
      ]
     },
     "execution_count": 229,
     "metadata": {},
     "output_type": "execute_result"
    }
   ],
   "source": [
    "df.tail()"
   ]
  },
  {
   "cell_type": "code",
   "execution_count": 239,
   "id": "421e9128-6176-4813-bbda-51d96a9a192a",
   "metadata": {},
   "outputs": [
    {
     "data": {
      "text/plain": [
       "'MR. DAWA SANGE SHERPA'"
      ]
     },
     "execution_count": 239,
     "metadata": {},
     "output_type": "execute_result"
    }
   ],
   "source": [
    "df[df['_id']==5300]['NAME'].loc[5299]"
   ]
  },
  {
   "cell_type": "code",
   "execution_count": 245,
   "id": "fcc16fcd-b8be-4b9b-ad80-3ffd1167208c",
   "metadata": {},
   "outputs": [
    {
     "data": {
      "text/plain": [
       "array([1953, 1956, 1960, 1963, 1965, 1970, 1973, 1975, 1976, 1977, 1978,\n",
       "       1979, 1980, 1981, 1982, 1983, 1984, 1985, 1986, 1988, 1998, 1989,\n",
       "       1990, 1991, 1992, 1993, 1994, 1995, 1996, 1997, 1999, 2000, 2001,\n",
       "       2002, 2003, 2004, 2005, 2006, 2007, 2008, 2088, 2009, 2010, 2011,\n",
       "       2012, 2013, 2014, 2016, 2017], dtype=int64)"
      ]
     },
     "execution_count": 245,
     "metadata": {},
     "output_type": "execute_result"
    }
   ],
   "source": [
    "df['YEAR'].unique()"
   ]
  },
  {
   "cell_type": "code",
   "execution_count": 255,
   "id": "64105018-216f-42d0-9bbd-7182d3ecf36a",
   "metadata": {},
   "outputs": [
    {
     "data": {
      "text/html": [
       "<div>\n",
       "<style scoped>\n",
       "    .dataframe tbody tr th:only-of-type {\n",
       "        vertical-align: middle;\n",
       "    }\n",
       "\n",
       "    .dataframe tbody tr th {\n",
       "        vertical-align: top;\n",
       "    }\n",
       "\n",
       "    .dataframe thead th {\n",
       "        text-align: right;\n",
       "    }\n",
       "</style>\n",
       "<table border=\"1\" class=\"dataframe\">\n",
       "  <thead>\n",
       "    <tr style=\"text-align: right;\">\n",
       "      <th></th>\n",
       "      <th>_id</th>\n",
       "      <th>NAME</th>\n",
       "      <th>COUNTRY</th>\n",
       "      <th>DAY</th>\n",
       "      <th>MONTH</th>\n",
       "      <th>YEAR</th>\n",
       "      <th>ROUTE</th>\n",
       "      <th>NAME OF THE TEAM</th>\n",
       "      <th>LEADER</th>\n",
       "    </tr>\n",
       "  </thead>\n",
       "  <tbody>\n",
       "    <tr>\n",
       "      <th>4878</th>\n",
       "      <td>4879</td>\n",
       "      <td>DALLAS WILSON GLASS</td>\n",
       "      <td>USA</td>\n",
       "      <td>22</td>\n",
       "      <td>5</td>\n",
       "      <td>2017</td>\n",
       "      <td>NaN</td>\n",
       "      <td>2017 IMG EVEREST\\nEXPEDITION I</td>\n",
       "      <td>Dallas Wilson\\nGlass</td>\n",
       "    </tr>\n",
       "    <tr>\n",
       "      <th>4879</th>\n",
       "      <td>4880</td>\n",
       "      <td>JAMES MICHAEL DAVIDSON</td>\n",
       "      <td>USA</td>\n",
       "      <td>22</td>\n",
       "      <td>5</td>\n",
       "      <td>2017</td>\n",
       "      <td>NaN</td>\n",
       "      <td>\"</td>\n",
       "      <td>\"</td>\n",
       "    </tr>\n",
       "    <tr>\n",
       "      <th>4880</th>\n",
       "      <td>4881</td>\n",
       "      <td>BRADLEY KEITH JONES</td>\n",
       "      <td>USA</td>\n",
       "      <td>22</td>\n",
       "      <td>5</td>\n",
       "      <td>2017</td>\n",
       "      <td>NaN</td>\n",
       "      <td>\"</td>\n",
       "      <td>\"</td>\n",
       "    </tr>\n",
       "    <tr>\n",
       "      <th>4881</th>\n",
       "      <td>4882</td>\n",
       "      <td>DAVID WILLIAM BUCHWALD</td>\n",
       "      <td>USA</td>\n",
       "      <td>22</td>\n",
       "      <td>5</td>\n",
       "      <td>2017</td>\n",
       "      <td>NaN</td>\n",
       "      <td>\"</td>\n",
       "      <td>\"</td>\n",
       "    </tr>\n",
       "    <tr>\n",
       "      <th>4882</th>\n",
       "      <td>4883</td>\n",
       "      <td>PATRICK GERARD MAURO II</td>\n",
       "      <td>USA</td>\n",
       "      <td>25</td>\n",
       "      <td>5</td>\n",
       "      <td>2017</td>\n",
       "      <td>NaN</td>\n",
       "      <td>\"</td>\n",
       "      <td>\"</td>\n",
       "    </tr>\n",
       "    <tr>\n",
       "      <th>...</th>\n",
       "      <td>...</td>\n",
       "      <td>...</td>\n",
       "      <td>...</td>\n",
       "      <td>...</td>\n",
       "      <td>...</td>\n",
       "      <td>...</td>\n",
       "      <td>...</td>\n",
       "      <td>...</td>\n",
       "      <td>...</td>\n",
       "    </tr>\n",
       "    <tr>\n",
       "      <th>5296</th>\n",
       "      <td>5297</td>\n",
       "      <td>MR. PEMBA RITA SHERPA</td>\n",
       "      <td>NEPAL</td>\n",
       "      <td>27</td>\n",
       "      <td>5</td>\n",
       "      <td>2017</td>\n",
       "      <td>NaN</td>\n",
       "      <td>\"</td>\n",
       "      <td>\"</td>\n",
       "    </tr>\n",
       "    <tr>\n",
       "      <th>5297</th>\n",
       "      <td>5298</td>\n",
       "      <td>MR. PASANG GYALZEN</td>\n",
       "      <td>NEPAL</td>\n",
       "      <td>27</td>\n",
       "      <td>5</td>\n",
       "      <td>2017</td>\n",
       "      <td>NaN</td>\n",
       "      <td>NaN</td>\n",
       "      <td>NaN</td>\n",
       "    </tr>\n",
       "    <tr>\n",
       "      <th>5298</th>\n",
       "      <td>5299</td>\n",
       "      <td>MR. MINGMA DORJI SHERPA</td>\n",
       "      <td>NEPAL</td>\n",
       "      <td>16</td>\n",
       "      <td>5</td>\n",
       "      <td>2017</td>\n",
       "      <td>NaN</td>\n",
       "      <td>\"</td>\n",
       "      <td>\"</td>\n",
       "    </tr>\n",
       "    <tr>\n",
       "      <th>5299</th>\n",
       "      <td>5300</td>\n",
       "      <td>MR. DAWA SANGE SHERPA</td>\n",
       "      <td>NEPAL</td>\n",
       "      <td>21</td>\n",
       "      <td>5</td>\n",
       "      <td>2017</td>\n",
       "      <td>NaN</td>\n",
       "      <td>\"</td>\n",
       "      <td>\"</td>\n",
       "    </tr>\n",
       "    <tr>\n",
       "      <th>5300</th>\n",
       "      <td>5301</td>\n",
       "      <td>MR. PASANG BHOTE</td>\n",
       "      <td>NEPAL</td>\n",
       "      <td>21</td>\n",
       "      <td>5</td>\n",
       "      <td>2017</td>\n",
       "      <td>NaN</td>\n",
       "      <td>\"</td>\n",
       "      <td>\"</td>\n",
       "    </tr>\n",
       "  </tbody>\n",
       "</table>\n",
       "<p>423 rows × 9 columns</p>\n",
       "</div>"
      ],
      "text/plain": [
       "       _id                     NAME COUNTRY  DAY  MONTH  YEAR ROUTE  \\\n",
       "4878  4879      DALLAS WILSON GLASS     USA   22      5  2017   NaN   \n",
       "4879  4880   JAMES MICHAEL DAVIDSON     USA   22      5  2017   NaN   \n",
       "4880  4881      BRADLEY KEITH JONES     USA   22      5  2017   NaN   \n",
       "4881  4882   DAVID WILLIAM BUCHWALD     USA   22      5  2017   NaN   \n",
       "4882  4883  PATRICK GERARD MAURO II     USA   25      5  2017   NaN   \n",
       "...    ...                      ...     ...  ...    ...   ...   ...   \n",
       "5296  5297    MR. PEMBA RITA SHERPA   NEPAL   27      5  2017   NaN   \n",
       "5297  5298       MR. PASANG GYALZEN   NEPAL   27      5  2017   NaN   \n",
       "5298  5299  MR. MINGMA DORJI SHERPA   NEPAL   16      5  2017   NaN   \n",
       "5299  5300    MR. DAWA SANGE SHERPA   NEPAL   21      5  2017   NaN   \n",
       "5300  5301         MR. PASANG BHOTE   NEPAL   21      5  2017   NaN   \n",
       "\n",
       "                    NAME OF THE TEAM                LEADER  \n",
       "4878  2017 IMG EVEREST\\nEXPEDITION I  Dallas Wilson\\nGlass  \n",
       "4879                               \"                     \"  \n",
       "4880                               \"                     \"  \n",
       "4881                               \"                     \"  \n",
       "4882                               \"                     \"  \n",
       "...                              ...                   ...  \n",
       "5296                               \"                     \"  \n",
       "5297                             NaN                   NaN  \n",
       "5298                               \"                     \"  \n",
       "5299                               \"                     \"  \n",
       "5300                               \"                     \"  \n",
       "\n",
       "[423 rows x 9 columns]"
      ]
     },
     "execution_count": 255,
     "metadata": {},
     "output_type": "execute_result"
    }
   ],
   "source": [
    "#create a df of 2017 only\n",
    "df[df['YEAR']==2017]"
   ]
  },
  {
   "cell_type": "code",
   "execution_count": 291,
   "id": "9e6cf481-9c7a-4100-86ee-9be796e4404d",
   "metadata": {},
   "outputs": [],
   "source": [
    "df_2017=df[df['YEAR']==2017]"
   ]
  },
  {
   "cell_type": "code",
   "execution_count": 293,
   "id": "a479544e-8d0d-45e8-86d8-0d3a60e376d8",
   "metadata": {},
   "outputs": [
    {
     "data": {
      "text/html": [
       "<div>\n",
       "<style scoped>\n",
       "    .dataframe tbody tr th:only-of-type {\n",
       "        vertical-align: middle;\n",
       "    }\n",
       "\n",
       "    .dataframe tbody tr th {\n",
       "        vertical-align: top;\n",
       "    }\n",
       "\n",
       "    .dataframe thead th {\n",
       "        text-align: right;\n",
       "    }\n",
       "</style>\n",
       "<table border=\"1\" class=\"dataframe\">\n",
       "  <thead>\n",
       "    <tr style=\"text-align: right;\">\n",
       "      <th></th>\n",
       "      <th>_id</th>\n",
       "      <th>NAME</th>\n",
       "      <th>COUNTRY</th>\n",
       "      <th>DAY</th>\n",
       "      <th>MONTH</th>\n",
       "      <th>YEAR</th>\n",
       "      <th>ROUTE</th>\n",
       "      <th>NAME OF THE TEAM</th>\n",
       "      <th>LEADER</th>\n",
       "    </tr>\n",
       "  </thead>\n",
       "  <tbody>\n",
       "    <tr>\n",
       "      <th>4878</th>\n",
       "      <td>4879</td>\n",
       "      <td>DALLAS WILSON GLASS</td>\n",
       "      <td>USA</td>\n",
       "      <td>22</td>\n",
       "      <td>5</td>\n",
       "      <td>2017</td>\n",
       "      <td>NaN</td>\n",
       "      <td>2017 IMG EVEREST\\nEXPEDITION I</td>\n",
       "      <td>Dallas Wilson\\nGlass</td>\n",
       "    </tr>\n",
       "    <tr>\n",
       "      <th>4879</th>\n",
       "      <td>4880</td>\n",
       "      <td>JAMES MICHAEL DAVIDSON</td>\n",
       "      <td>USA</td>\n",
       "      <td>22</td>\n",
       "      <td>5</td>\n",
       "      <td>2017</td>\n",
       "      <td>NaN</td>\n",
       "      <td>\"</td>\n",
       "      <td>\"</td>\n",
       "    </tr>\n",
       "    <tr>\n",
       "      <th>4880</th>\n",
       "      <td>4881</td>\n",
       "      <td>BRADLEY KEITH JONES</td>\n",
       "      <td>USA</td>\n",
       "      <td>22</td>\n",
       "      <td>5</td>\n",
       "      <td>2017</td>\n",
       "      <td>NaN</td>\n",
       "      <td>\"</td>\n",
       "      <td>\"</td>\n",
       "    </tr>\n",
       "    <tr>\n",
       "      <th>4881</th>\n",
       "      <td>4882</td>\n",
       "      <td>DAVID WILLIAM BUCHWALD</td>\n",
       "      <td>USA</td>\n",
       "      <td>22</td>\n",
       "      <td>5</td>\n",
       "      <td>2017</td>\n",
       "      <td>NaN</td>\n",
       "      <td>\"</td>\n",
       "      <td>\"</td>\n",
       "    </tr>\n",
       "    <tr>\n",
       "      <th>4882</th>\n",
       "      <td>4883</td>\n",
       "      <td>PATRICK GERARD MAURO II</td>\n",
       "      <td>USA</td>\n",
       "      <td>25</td>\n",
       "      <td>5</td>\n",
       "      <td>2017</td>\n",
       "      <td>NaN</td>\n",
       "      <td>\"</td>\n",
       "      <td>\"</td>\n",
       "    </tr>\n",
       "    <tr>\n",
       "      <th>...</th>\n",
       "      <td>...</td>\n",
       "      <td>...</td>\n",
       "      <td>...</td>\n",
       "      <td>...</td>\n",
       "      <td>...</td>\n",
       "      <td>...</td>\n",
       "      <td>...</td>\n",
       "      <td>...</td>\n",
       "      <td>...</td>\n",
       "    </tr>\n",
       "    <tr>\n",
       "      <th>5296</th>\n",
       "      <td>5297</td>\n",
       "      <td>MR. PEMBA RITA SHERPA</td>\n",
       "      <td>NEPAL</td>\n",
       "      <td>27</td>\n",
       "      <td>5</td>\n",
       "      <td>2017</td>\n",
       "      <td>NaN</td>\n",
       "      <td>\"</td>\n",
       "      <td>\"</td>\n",
       "    </tr>\n",
       "    <tr>\n",
       "      <th>5297</th>\n",
       "      <td>5298</td>\n",
       "      <td>MR. PASANG GYALZEN</td>\n",
       "      <td>NEPAL</td>\n",
       "      <td>27</td>\n",
       "      <td>5</td>\n",
       "      <td>2017</td>\n",
       "      <td>NaN</td>\n",
       "      <td>NaN</td>\n",
       "      <td>NaN</td>\n",
       "    </tr>\n",
       "    <tr>\n",
       "      <th>5298</th>\n",
       "      <td>5299</td>\n",
       "      <td>MR. MINGMA DORJI SHERPA</td>\n",
       "      <td>NEPAL</td>\n",
       "      <td>16</td>\n",
       "      <td>5</td>\n",
       "      <td>2017</td>\n",
       "      <td>NaN</td>\n",
       "      <td>\"</td>\n",
       "      <td>\"</td>\n",
       "    </tr>\n",
       "    <tr>\n",
       "      <th>5299</th>\n",
       "      <td>5300</td>\n",
       "      <td>MR. DAWA SANGE SHERPA</td>\n",
       "      <td>NEPAL</td>\n",
       "      <td>21</td>\n",
       "      <td>5</td>\n",
       "      <td>2017</td>\n",
       "      <td>NaN</td>\n",
       "      <td>\"</td>\n",
       "      <td>\"</td>\n",
       "    </tr>\n",
       "    <tr>\n",
       "      <th>5300</th>\n",
       "      <td>5301</td>\n",
       "      <td>MR. PASANG BHOTE</td>\n",
       "      <td>NEPAL</td>\n",
       "      <td>21</td>\n",
       "      <td>5</td>\n",
       "      <td>2017</td>\n",
       "      <td>NaN</td>\n",
       "      <td>\"</td>\n",
       "      <td>\"</td>\n",
       "    </tr>\n",
       "  </tbody>\n",
       "</table>\n",
       "<p>423 rows × 9 columns</p>\n",
       "</div>"
      ],
      "text/plain": [
       "       _id                     NAME COUNTRY  DAY  MONTH  YEAR ROUTE  \\\n",
       "4878  4879      DALLAS WILSON GLASS     USA   22      5  2017   NaN   \n",
       "4879  4880   JAMES MICHAEL DAVIDSON     USA   22      5  2017   NaN   \n",
       "4880  4881      BRADLEY KEITH JONES     USA   22      5  2017   NaN   \n",
       "4881  4882   DAVID WILLIAM BUCHWALD     USA   22      5  2017   NaN   \n",
       "4882  4883  PATRICK GERARD MAURO II     USA   25      5  2017   NaN   \n",
       "...    ...                      ...     ...  ...    ...   ...   ...   \n",
       "5296  5297    MR. PEMBA RITA SHERPA   NEPAL   27      5  2017   NaN   \n",
       "5297  5298       MR. PASANG GYALZEN   NEPAL   27      5  2017   NaN   \n",
       "5298  5299  MR. MINGMA DORJI SHERPA   NEPAL   16      5  2017   NaN   \n",
       "5299  5300    MR. DAWA SANGE SHERPA   NEPAL   21      5  2017   NaN   \n",
       "5300  5301         MR. PASANG BHOTE   NEPAL   21      5  2017   NaN   \n",
       "\n",
       "                    NAME OF THE TEAM                LEADER  \n",
       "4878  2017 IMG EVEREST\\nEXPEDITION I  Dallas Wilson\\nGlass  \n",
       "4879                               \"                     \"  \n",
       "4880                               \"                     \"  \n",
       "4881                               \"                     \"  \n",
       "4882                               \"                     \"  \n",
       "...                              ...                   ...  \n",
       "5296                               \"                     \"  \n",
       "5297                             NaN                   NaN  \n",
       "5298                               \"                     \"  \n",
       "5299                               \"                     \"  \n",
       "5300                               \"                     \"  \n",
       "\n",
       "[423 rows x 9 columns]"
      ]
     },
     "execution_count": 293,
     "metadata": {},
     "output_type": "execute_result"
    }
   ],
   "source": [
    "df_2017"
   ]
  },
  {
   "cell_type": "code",
   "execution_count": 297,
   "id": "b8f540ce-9fab-4797-923e-27faebdc7b3c",
   "metadata": {},
   "outputs": [
    {
     "data": {
      "text/plain": [
       "423.0"
      ]
     },
     "execution_count": 297,
     "metadata": {},
     "output_type": "execute_result"
    }
   ],
   "source": [
    "df_2017.describe().loc['count'].loc['_id']"
   ]
  },
  {
   "cell_type": "code",
   "execution_count": 299,
   "id": "c648e793-b574-4b36-8238-f038c9335edd",
   "metadata": {},
   "outputs": [
    {
     "data": {
      "text/plain": [
       "403"
      ]
     },
     "execution_count": 299,
     "metadata": {},
     "output_type": "execute_result"
    }
   ],
   "source": [
    "len(df_2017['NAME'].unique())\n"
   ]
  },
  {
   "cell_type": "code",
   "execution_count": 309,
   "id": "aa05a483-eb88-4f1c-bb6c-e0ace9e978cc",
   "metadata": {},
   "outputs": [],
   "source": [
    "#print countries name from where climbers belong in 2010\n",
    "df_2010=df[df['YEAR']==2010]['COUNTRY'].unique()"
   ]
  },
  {
   "cell_type": "code",
   "execution_count": 311,
   "id": "90833863-e976-4e05-b766-6a21d3679f12",
   "metadata": {},
   "outputs": [
    {
     "data": {
      "text/plain": [
       "array(['USA', 'NEPAL', 'POLAND', 'ICELAND', 'INDIA', 'MEXICO', 'FINLAND',\n",
       "       'UK', 'SOUTH KOREA', 'CANADA', 'NEW ZEALAND', 'SOUTH AFRICA',\n",
       "       'AUSTRIA', 'SWITZERLAND', 'NORWAY', 'ITALY', 'JAPAN', 'PORTUGAL',\n",
       "       'AUSTRALIA', 'FRANCE', 'SPAIN', 'COLOMBIA', 'GUATEMALA',\n",
       "       'ARGENTINA', 'GERMANY', 'IRELAND', 'OMAN', 'TURKEY', 'SINGAPORE',\n",
       "       'CHINA', 'DENMARK', 'CZECH REPUBLIC', 'MALTA', 'BRAZIL', 'HUNGARY'],\n",
       "      dtype=object)"
      ]
     },
     "execution_count": 311,
     "metadata": {},
     "output_type": "execute_result"
    }
   ],
   "source": [
    "df_2010"
   ]
  },
  {
   "cell_type": "code",
   "execution_count": 313,
   "id": "427dade6-98ae-4b8e-a8b0-f9739fbf6cfb",
   "metadata": {},
   "outputs": [
    {
     "data": {
      "text/plain": [
       "{'Name': ['Ram', 'Hari', 'shyam'],\n",
       " 'Age': [25, 30, 35],\n",
       " 'city': ['kathmandu', 'pakhara', 'biratnagar']}"
      ]
     },
     "execution_count": 313,
     "metadata": {},
     "output_type": "execute_result"
    }
   ],
   "source": [
    "data"
   ]
  },
  {
   "cell_type": "code",
   "execution_count": 315,
   "id": "213d1b2b-cf8e-41f9-9a75-ebba16419692",
   "metadata": {},
   "outputs": [],
   "source": [
    "df=pd.DataFrame(data)"
   ]
  },
  {
   "cell_type": "code",
   "execution_count": 317,
   "id": "ff5a85bb-e91c-436a-808b-e40cba97bf15",
   "metadata": {},
   "outputs": [
    {
     "data": {
      "text/html": [
       "<div>\n",
       "<style scoped>\n",
       "    .dataframe tbody tr th:only-of-type {\n",
       "        vertical-align: middle;\n",
       "    }\n",
       "\n",
       "    .dataframe tbody tr th {\n",
       "        vertical-align: top;\n",
       "    }\n",
       "\n",
       "    .dataframe thead th {\n",
       "        text-align: right;\n",
       "    }\n",
       "</style>\n",
       "<table border=\"1\" class=\"dataframe\">\n",
       "  <thead>\n",
       "    <tr style=\"text-align: right;\">\n",
       "      <th></th>\n",
       "      <th>Name</th>\n",
       "      <th>Age</th>\n",
       "      <th>city</th>\n",
       "    </tr>\n",
       "  </thead>\n",
       "  <tbody>\n",
       "    <tr>\n",
       "      <th>0</th>\n",
       "      <td>Ram</td>\n",
       "      <td>25</td>\n",
       "      <td>kathmandu</td>\n",
       "    </tr>\n",
       "    <tr>\n",
       "      <th>1</th>\n",
       "      <td>Hari</td>\n",
       "      <td>30</td>\n",
       "      <td>pakhara</td>\n",
       "    </tr>\n",
       "    <tr>\n",
       "      <th>2</th>\n",
       "      <td>shyam</td>\n",
       "      <td>35</td>\n",
       "      <td>biratnagar</td>\n",
       "    </tr>\n",
       "  </tbody>\n",
       "</table>\n",
       "</div>"
      ],
      "text/plain": [
       "    Name  Age        city\n",
       "0    Ram   25   kathmandu\n",
       "1   Hari   30     pakhara\n",
       "2  shyam   35  biratnagar"
      ]
     },
     "execution_count": 317,
     "metadata": {},
     "output_type": "execute_result"
    }
   ],
   "source": [
    "df"
   ]
  },
  {
   "cell_type": "code",
   "execution_count": 319,
   "id": "abd38143-79ec-4265-87dc-93e48932e84a",
   "metadata": {},
   "outputs": [],
   "source": [
    "df['salary']=[1200,12340,43500]"
   ]
  },
  {
   "cell_type": "code",
   "execution_count": 321,
   "id": "7a91b2a7-88e3-4611-9e23-ba7c2c7c830e",
   "metadata": {},
   "outputs": [
    {
     "data": {
      "text/html": [
       "<div>\n",
       "<style scoped>\n",
       "    .dataframe tbody tr th:only-of-type {\n",
       "        vertical-align: middle;\n",
       "    }\n",
       "\n",
       "    .dataframe tbody tr th {\n",
       "        vertical-align: top;\n",
       "    }\n",
       "\n",
       "    .dataframe thead th {\n",
       "        text-align: right;\n",
       "    }\n",
       "</style>\n",
       "<table border=\"1\" class=\"dataframe\">\n",
       "  <thead>\n",
       "    <tr style=\"text-align: right;\">\n",
       "      <th></th>\n",
       "      <th>Name</th>\n",
       "      <th>Age</th>\n",
       "      <th>city</th>\n",
       "      <th>salary</th>\n",
       "    </tr>\n",
       "  </thead>\n",
       "  <tbody>\n",
       "    <tr>\n",
       "      <th>0</th>\n",
       "      <td>Ram</td>\n",
       "      <td>25</td>\n",
       "      <td>kathmandu</td>\n",
       "      <td>1200</td>\n",
       "    </tr>\n",
       "    <tr>\n",
       "      <th>1</th>\n",
       "      <td>Hari</td>\n",
       "      <td>30</td>\n",
       "      <td>pakhara</td>\n",
       "      <td>12340</td>\n",
       "    </tr>\n",
       "    <tr>\n",
       "      <th>2</th>\n",
       "      <td>shyam</td>\n",
       "      <td>35</td>\n",
       "      <td>biratnagar</td>\n",
       "      <td>43500</td>\n",
       "    </tr>\n",
       "  </tbody>\n",
       "</table>\n",
       "</div>"
      ],
      "text/plain": [
       "    Name  Age        city  salary\n",
       "0    Ram   25   kathmandu    1200\n",
       "1   Hari   30     pakhara   12340\n",
       "2  shyam   35  biratnagar   43500"
      ]
     },
     "execution_count": 321,
     "metadata": {},
     "output_type": "execute_result"
    }
   ],
   "source": [
    "df"
   ]
  },
  {
   "cell_type": "code",
   "execution_count": 323,
   "id": "be4c6b70-c57c-4eca-8d90-ddbe93558aea",
   "metadata": {},
   "outputs": [],
   "source": [
    "grouped_df=df.groupby('city')['Age'].mean()"
   ]
  },
  {
   "cell_type": "code",
   "execution_count": 325,
   "id": "2d1fbb02-a4d8-48db-88bf-dae1f5600663",
   "metadata": {},
   "outputs": [
    {
     "data": {
      "text/plain": [
       "city\n",
       "biratnagar    35.0\n",
       "kathmandu     25.0\n",
       "pakhara       30.0\n",
       "Name: Age, dtype: float64"
      ]
     },
     "execution_count": 325,
     "metadata": {},
     "output_type": "execute_result"
    }
   ],
   "source": [
    "grouped_df"
   ]
  },
  {
   "cell_type": "code",
   "execution_count": 338,
   "id": "cdd58e3f-edb7-4545-a77c-c631b030e7fe",
   "metadata": {},
   "outputs": [],
   "source": [
    "df=pd.read_csv('demo_csv.csv',sep=';')"
   ]
  },
  {
   "cell_type": "code",
   "execution_count": 342,
   "id": "cdd0c34b-4211-42f7-9592-61a7f2765458",
   "metadata": {},
   "outputs": [
    {
     "data": {
      "text/html": [
       "<div>\n",
       "<style scoped>\n",
       "    .dataframe tbody tr th:only-of-type {\n",
       "        vertical-align: middle;\n",
       "    }\n",
       "\n",
       "    .dataframe tbody tr th {\n",
       "        vertical-align: top;\n",
       "    }\n",
       "\n",
       "    .dataframe thead th {\n",
       "        text-align: right;\n",
       "    }\n",
       "</style>\n",
       "<table border=\"1\" class=\"dataframe\">\n",
       "  <thead>\n",
       "    <tr style=\"text-align: right;\">\n",
       "      <th></th>\n",
       "      <th>Name</th>\n",
       "      <th>Age</th>\n",
       "      <th>City</th>\n",
       "    </tr>\n",
       "  </thead>\n",
       "  <tbody>\n",
       "    <tr>\n",
       "      <th>0</th>\n",
       "      <td>Ram</td>\n",
       "      <td>25</td>\n",
       "      <td>Kathmandu</td>\n",
       "    </tr>\n",
       "    <tr>\n",
       "      <th>1</th>\n",
       "      <td>Hari</td>\n",
       "      <td>30</td>\n",
       "      <td>Pokhara</td>\n",
       "    </tr>\n",
       "    <tr>\n",
       "      <th>2</th>\n",
       "      <td>Shyam</td>\n",
       "      <td>35</td>\n",
       "      <td>Kathmandu</td>\n",
       "    </tr>\n",
       "  </tbody>\n",
       "</table>\n",
       "</div>"
      ],
      "text/plain": [
       "    Name  Age       City\n",
       "0    Ram   25  Kathmandu\n",
       "1   Hari   30    Pokhara\n",
       "2  Shyam   35  Kathmandu"
      ]
     },
     "execution_count": 342,
     "metadata": {},
     "output_type": "execute_result"
    }
   ],
   "source": [
    "df"
   ]
  },
  {
   "cell_type": "code",
   "execution_count": 340,
   "id": "05713e13-a980-4ddd-a5d3-08c7a672c798",
   "metadata": {},
   "outputs": [
    {
     "data": {
      "text/plain": [
       "Index(['Name', 'Age', 'City'], dtype='object')"
      ]
     },
     "execution_count": 340,
     "metadata": {},
     "output_type": "execute_result"
    }
   ],
   "source": [
    "df.columns"
   ]
  },
  {
   "cell_type": "code",
   "execution_count": 352,
   "id": "225aa7e8-75c7-4bc7-a5f4-44719361f0eb",
   "metadata": {},
   "outputs": [],
   "source": [
    "df=pd.read_csv('demo_csv.csv',sep='$')"
   ]
  },
  {
   "cell_type": "code",
   "execution_count": 354,
   "id": "c4e7922e-fffc-4cec-9bf7-8957a03b0142",
   "metadata": {},
   "outputs": [
    {
     "data": {
      "text/html": [
       "<div>\n",
       "<style scoped>\n",
       "    .dataframe tbody tr th:only-of-type {\n",
       "        vertical-align: middle;\n",
       "    }\n",
       "\n",
       "    .dataframe tbody tr th {\n",
       "        vertical-align: top;\n",
       "    }\n",
       "\n",
       "    .dataframe thead th {\n",
       "        text-align: right;\n",
       "    }\n",
       "</style>\n",
       "<table border=\"1\" class=\"dataframe\">\n",
       "  <thead>\n",
       "    <tr style=\"text-align: right;\">\n",
       "      <th></th>\n",
       "      <th>Name</th>\n",
       "      <th>Age</th>\n",
       "      <th>City</th>\n",
       "    </tr>\n",
       "  </thead>\n",
       "  <tbody>\n",
       "    <tr>\n",
       "      <th>0</th>\n",
       "      <td>Ram</td>\n",
       "      <td>25</td>\n",
       "      <td>Kathmandu</td>\n",
       "    </tr>\n",
       "    <tr>\n",
       "      <th>1</th>\n",
       "      <td>Hari</td>\n",
       "      <td>30</td>\n",
       "      <td>Pokhara</td>\n",
       "    </tr>\n",
       "    <tr>\n",
       "      <th>2</th>\n",
       "      <td>Shyam</td>\n",
       "      <td>35</td>\n",
       "      <td>Kathmandu</td>\n",
       "    </tr>\n",
       "  </tbody>\n",
       "</table>\n",
       "</div>"
      ],
      "text/plain": [
       "    Name  Age       City\n",
       "0    Ram   25  Kathmandu\n",
       "1   Hari   30    Pokhara\n",
       "2  Shyam   35  Kathmandu"
      ]
     },
     "execution_count": 354,
     "metadata": {},
     "output_type": "execute_result"
    }
   ],
   "source": [
    "df"
   ]
  },
  {
   "cell_type": "code",
   "execution_count": 360,
   "id": "1776965e-2bb1-4f6e-a765-90579f76af27",
   "metadata": {},
   "outputs": [],
   "source": [
    "df_excel=pd.read_excel('sample.xlsx',sheet_name='Sheet1')"
   ]
  },
  {
   "cell_type": "code",
   "execution_count": 362,
   "id": "01c6c330-5b94-4899-ba9d-904ba47119dc",
   "metadata": {},
   "outputs": [
    {
     "data": {
      "text/html": [
       "<div>\n",
       "<style scoped>\n",
       "    .dataframe tbody tr th:only-of-type {\n",
       "        vertical-align: middle;\n",
       "    }\n",
       "\n",
       "    .dataframe tbody tr th {\n",
       "        vertical-align: top;\n",
       "    }\n",
       "\n",
       "    .dataframe thead th {\n",
       "        text-align: right;\n",
       "    }\n",
       "</style>\n",
       "<table border=\"1\" class=\"dataframe\">\n",
       "  <thead>\n",
       "    <tr style=\"text-align: right;\">\n",
       "      <th></th>\n",
       "      <th>Name</th>\n",
       "      <th>Age</th>\n",
       "      <th>City</th>\n",
       "    </tr>\n",
       "  </thead>\n",
       "  <tbody>\n",
       "    <tr>\n",
       "      <th>0</th>\n",
       "      <td>Ram</td>\n",
       "      <td>25</td>\n",
       "      <td>Kathmandu</td>\n",
       "    </tr>\n",
       "    <tr>\n",
       "      <th>1</th>\n",
       "      <td>Hari</td>\n",
       "      <td>30</td>\n",
       "      <td>Pokhara</td>\n",
       "    </tr>\n",
       "    <tr>\n",
       "      <th>2</th>\n",
       "      <td>Shyam</td>\n",
       "      <td>35</td>\n",
       "      <td>Kathmandu</td>\n",
       "    </tr>\n",
       "  </tbody>\n",
       "</table>\n",
       "</div>"
      ],
      "text/plain": [
       "    Name  Age       City\n",
       "0    Ram   25  Kathmandu\n",
       "1   Hari   30    Pokhara\n",
       "2  Shyam   35  Kathmandu"
      ]
     },
     "execution_count": 362,
     "metadata": {},
     "output_type": "execute_result"
    }
   ],
   "source": [
    "df_excel"
   ]
  },
  {
   "cell_type": "code",
   "execution_count": 364,
   "id": "a64caf46-f944-41a6-867a-06ea94bb6f04",
   "metadata": {},
   "outputs": [],
   "source": [
    "df_excel=pd.read_excel('sample.xlsx',sheet_name='hello')"
   ]
  },
  {
   "cell_type": "code",
   "execution_count": 366,
   "id": "a4b78dff-e7bd-4b8d-8be1-53e7e211ed1a",
   "metadata": {},
   "outputs": [
    {
     "data": {
      "text/html": [
       "<div>\n",
       "<style scoped>\n",
       "    .dataframe tbody tr th:only-of-type {\n",
       "        vertical-align: middle;\n",
       "    }\n",
       "\n",
       "    .dataframe tbody tr th {\n",
       "        vertical-align: top;\n",
       "    }\n",
       "\n",
       "    .dataframe thead th {\n",
       "        text-align: right;\n",
       "    }\n",
       "</style>\n",
       "<table border=\"1\" class=\"dataframe\">\n",
       "  <thead>\n",
       "    <tr style=\"text-align: right;\">\n",
       "      <th></th>\n",
       "      <th>Name</th>\n",
       "      <th>Age</th>\n",
       "      <th>City</th>\n",
       "    </tr>\n",
       "  </thead>\n",
       "  <tbody>\n",
       "    <tr>\n",
       "      <th>0</th>\n",
       "      <td>Ram</td>\n",
       "      <td>25</td>\n",
       "      <td>Kathmandu</td>\n",
       "    </tr>\n",
       "    <tr>\n",
       "      <th>1</th>\n",
       "      <td>Hari</td>\n",
       "      <td>30</td>\n",
       "      <td>Pokhara</td>\n",
       "    </tr>\n",
       "    <tr>\n",
       "      <th>2</th>\n",
       "      <td>Shyam</td>\n",
       "      <td>35</td>\n",
       "      <td>Kathmandu</td>\n",
       "    </tr>\n",
       "    <tr>\n",
       "      <th>3</th>\n",
       "      <td>Binod</td>\n",
       "      <td>55</td>\n",
       "      <td>ramechhap</td>\n",
       "    </tr>\n",
       "  </tbody>\n",
       "</table>\n",
       "</div>"
      ],
      "text/plain": [
       "    Name  Age       City\n",
       "0    Ram   25  Kathmandu\n",
       "1   Hari   30    Pokhara\n",
       "2  Shyam   35  Kathmandu\n",
       "3  Binod   55  ramechhap"
      ]
     },
     "execution_count": 366,
     "metadata": {},
     "output_type": "execute_result"
    }
   ],
   "source": [
    "df_excel"
   ]
  },
  {
   "cell_type": "code",
   "execution_count": 370,
   "id": "5f5621d6-243f-4a2a-93a9-0e6a46b610e8",
   "metadata": {},
   "outputs": [
    {
     "ename": "AttributeError",
     "evalue": "module 'pandas' has no attribute 'read_JSON'",
     "output_type": "error",
     "traceback": [
      "\u001b[1;31m---------------------------------------------------------------------------\u001b[0m",
      "\u001b[1;31mAttributeError\u001b[0m                            Traceback (most recent call last)",
      "Cell \u001b[1;32mIn[370], line 1\u001b[0m\n\u001b[1;32m----> 1\u001b[0m df_json\u001b[38;5;241m=\u001b[39mpd\u001b[38;5;241m.\u001b[39mread_JSON(\u001b[38;5;124m'\u001b[39m\u001b[38;5;124msample.json\u001b[39m\u001b[38;5;124m'\u001b[39m)\n",
      "\u001b[1;31mAttributeError\u001b[0m: module 'pandas' has no attribute 'read_JSON'"
     ]
    }
   ],
   "source": [
    "df_json=pd.read_JSON('sample.json')"
   ]
  },
  {
   "cell_type": "code",
   "execution_count": 376,
   "id": "ff13fc3f-9299-40e1-a4cb-e5fdaa3ac922",
   "metadata": {},
   "outputs": [],
   "source": [
    "df_clipboard=pd.read_clipboard()"
   ]
  },
  {
   "cell_type": "code",
   "execution_count": 378,
   "id": "81963d22-c3b6-41d6-9c38-409ef76d949f",
   "metadata": {},
   "outputs": [
    {
     "data": {
      "text/html": [
       "<div>\n",
       "<style scoped>\n",
       "    .dataframe tbody tr th:only-of-type {\n",
       "        vertical-align: middle;\n",
       "    }\n",
       "\n",
       "    .dataframe tbody tr th {\n",
       "        vertical-align: top;\n",
       "    }\n",
       "\n",
       "    .dataframe thead th {\n",
       "        text-align: right;\n",
       "    }\n",
       "</style>\n",
       "<table border=\"1\" class=\"dataframe\">\n",
       "  <thead>\n",
       "    <tr style=\"text-align: right;\">\n",
       "      <th></th>\n",
       "      <th>Name</th>\n",
       "      <th>Age</th>\n",
       "      <th>City</th>\n",
       "    </tr>\n",
       "  </thead>\n",
       "  <tbody>\n",
       "    <tr>\n",
       "      <th>0</th>\n",
       "      <td>Ram</td>\n",
       "      <td>25</td>\n",
       "      <td>Kathmandu</td>\n",
       "    </tr>\n",
       "    <tr>\n",
       "      <th>1</th>\n",
       "      <td>Hari</td>\n",
       "      <td>30</td>\n",
       "      <td>Pokhara</td>\n",
       "    </tr>\n",
       "    <tr>\n",
       "      <th>2</th>\n",
       "      <td>Shyam</td>\n",
       "      <td>35</td>\n",
       "      <td>Kathmandu</td>\n",
       "    </tr>\n",
       "    <tr>\n",
       "      <th>3</th>\n",
       "      <td>Binod</td>\n",
       "      <td>55</td>\n",
       "      <td>ramechhap</td>\n",
       "    </tr>\n",
       "  </tbody>\n",
       "</table>\n",
       "</div>"
      ],
      "text/plain": [
       "    Name  Age       City\n",
       "0    Ram   25  Kathmandu\n",
       "1   Hari   30    Pokhara\n",
       "2  Shyam   35  Kathmandu\n",
       "3  Binod   55  ramechhap"
      ]
     },
     "execution_count": 378,
     "metadata": {},
     "output_type": "execute_result"
    }
   ],
   "source": [
    "df_clipboard"
   ]
  },
  {
   "cell_type": "code",
   "execution_count": null,
   "id": "9a25559c-d69f-4d4d-a0af-f3304200ff1a",
   "metadata": {},
   "outputs": [],
   "source": []
  }
 ],
 "metadata": {
  "kernelspec": {
   "display_name": "Python 3 (ipykernel)",
   "language": "python",
   "name": "python3"
  },
  "language_info": {
   "codemirror_mode": {
    "name": "ipython",
    "version": 3
   },
   "file_extension": ".py",
   "mimetype": "text/x-python",
   "name": "python",
   "nbconvert_exporter": "python",
   "pygments_lexer": "ipython3",
   "version": "3.12.4"
  }
 },
 "nbformat": 4,
 "nbformat_minor": 5
}
